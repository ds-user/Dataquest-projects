{
 "cells": [
  {
   "cell_type": "markdown",
   "metadata": {
    "collapsed": true
   },
   "source": [
    "# Business Questions in SQL in Jupyter"
   ]
  },
  {
   "cell_type": "markdown",
   "metadata": {},
   "source": [
    "## Part II - Creating Helper Functions"
   ]
  },
  {
   "cell_type": "code",
   "execution_count": 2,
   "metadata": {
    "collapsed": true
   },
   "outputs": [],
   "source": [
    "#1\n",
    "import sqlite3\n",
    "import pandas as pd\n",
    "import matplotlib.pyplot as plt\n",
    "%matplotlib inline"
   ]
  },
  {
   "cell_type": "code",
   "execution_count": 3,
   "metadata": {
    "collapsed": true
   },
   "outputs": [],
   "source": [
    "#2\n",
    "\n",
    "#using with instead of conn = ... yields a safety layer with the context manager\n",
    "#the context manager handles opening & closing connections & protects the db from errors\n",
    "def run_query(q):\n",
    "    with sqlite3.connect('chinook.db') as conn:\n",
    "        return pd.read_sql(q,conn)"
   ]
  },
  {
   "cell_type": "code",
   "execution_count": 4,
   "metadata": {
    "collapsed": true
   },
   "outputs": [],
   "source": [
    "#3 \n",
    "def run_command(c):\n",
    "    with sqlite3.connect('chinook.db') as conn:\n",
    "        conn.isolation_level = None\n",
    "        conn.execute(c)"
   ]
  },
  {
   "cell_type": "code",
   "execution_count": 13,
   "metadata": {
    "collapsed": true
   },
   "outputs": [],
   "source": [
    "#4\n",
    "def show_tables():\n",
    "    q = 'SELECT * FROM sqlite_master WHERE type IN (\"table\",\"view\")'\n",
    "    return run_query(q)"
   ]
  },
  {
   "cell_type": "code",
   "execution_count": 14,
   "metadata": {
    "collapsed": false,
    "scrolled": true
   },
   "outputs": [
    {
     "data": {
      "text/html": [
       "<div>\n",
       "<style scoped>\n",
       "    .dataframe tbody tr th:only-of-type {\n",
       "        vertical-align: middle;\n",
       "    }\n",
       "\n",
       "    .dataframe tbody tr th {\n",
       "        vertical-align: top;\n",
       "    }\n",
       "\n",
       "    .dataframe thead th {\n",
       "        text-align: right;\n",
       "    }\n",
       "</style>\n",
       "<table border=\"1\" class=\"dataframe\">\n",
       "  <thead>\n",
       "    <tr style=\"text-align: right;\">\n",
       "      <th></th>\n",
       "      <th>type</th>\n",
       "      <th>name</th>\n",
       "      <th>tbl_name</th>\n",
       "      <th>rootpage</th>\n",
       "      <th>sql</th>\n",
       "    </tr>\n",
       "  </thead>\n",
       "  <tbody>\n",
       "    <tr>\n",
       "      <th>0</th>\n",
       "      <td>table</td>\n",
       "      <td>album</td>\n",
       "      <td>album</td>\n",
       "      <td>2</td>\n",
       "      <td>CREATE TABLE [album]\\n(\\n    [album_id] INTEGE...</td>\n",
       "    </tr>\n",
       "    <tr>\n",
       "      <th>1</th>\n",
       "      <td>table</td>\n",
       "      <td>artist</td>\n",
       "      <td>artist</td>\n",
       "      <td>3</td>\n",
       "      <td>CREATE TABLE [artist]\\n(\\n    [artist_id] INTE...</td>\n",
       "    </tr>\n",
       "    <tr>\n",
       "      <th>2</th>\n",
       "      <td>table</td>\n",
       "      <td>customer</td>\n",
       "      <td>customer</td>\n",
       "      <td>4</td>\n",
       "      <td>CREATE TABLE [customer]\\n(\\n    [customer_id] ...</td>\n",
       "    </tr>\n",
       "    <tr>\n",
       "      <th>3</th>\n",
       "      <td>table</td>\n",
       "      <td>employee</td>\n",
       "      <td>employee</td>\n",
       "      <td>5</td>\n",
       "      <td>CREATE TABLE [employee]\\n(\\n    [employee_id] ...</td>\n",
       "    </tr>\n",
       "    <tr>\n",
       "      <th>4</th>\n",
       "      <td>table</td>\n",
       "      <td>genre</td>\n",
       "      <td>genre</td>\n",
       "      <td>6</td>\n",
       "      <td>CREATE TABLE [genre]\\n(\\n    [genre_id] INTEGE...</td>\n",
       "    </tr>\n",
       "    <tr>\n",
       "      <th>5</th>\n",
       "      <td>table</td>\n",
       "      <td>invoice</td>\n",
       "      <td>invoice</td>\n",
       "      <td>7</td>\n",
       "      <td>CREATE TABLE [invoice]\\n(\\n    [invoice_id] IN...</td>\n",
       "    </tr>\n",
       "    <tr>\n",
       "      <th>6</th>\n",
       "      <td>table</td>\n",
       "      <td>invoice_line</td>\n",
       "      <td>invoice_line</td>\n",
       "      <td>8</td>\n",
       "      <td>CREATE TABLE [invoice_line]\\n(\\n    [invoice_l...</td>\n",
       "    </tr>\n",
       "    <tr>\n",
       "      <th>7</th>\n",
       "      <td>table</td>\n",
       "      <td>media_type</td>\n",
       "      <td>media_type</td>\n",
       "      <td>9</td>\n",
       "      <td>CREATE TABLE [media_type]\\n(\\n    [media_type_...</td>\n",
       "    </tr>\n",
       "    <tr>\n",
       "      <th>8</th>\n",
       "      <td>table</td>\n",
       "      <td>playlist</td>\n",
       "      <td>playlist</td>\n",
       "      <td>10</td>\n",
       "      <td>CREATE TABLE [playlist]\\n(\\n    [playlist_id] ...</td>\n",
       "    </tr>\n",
       "    <tr>\n",
       "      <th>9</th>\n",
       "      <td>table</td>\n",
       "      <td>playlist_track</td>\n",
       "      <td>playlist_track</td>\n",
       "      <td>11</td>\n",
       "      <td>CREATE TABLE [playlist_track]\\n(\\n    [playlis...</td>\n",
       "    </tr>\n",
       "    <tr>\n",
       "      <th>10</th>\n",
       "      <td>table</td>\n",
       "      <td>track</td>\n",
       "      <td>track</td>\n",
       "      <td>13</td>\n",
       "      <td>CREATE TABLE [track]\\n(\\n    [track_id] INTEGE...</td>\n",
       "    </tr>\n",
       "  </tbody>\n",
       "</table>\n",
       "</div>"
      ],
      "text/plain": [
       "     type            name        tbl_name  rootpage  \\\n",
       "0   table           album           album         2   \n",
       "1   table          artist          artist         3   \n",
       "2   table        customer        customer         4   \n",
       "3   table        employee        employee         5   \n",
       "4   table           genre           genre         6   \n",
       "5   table         invoice         invoice         7   \n",
       "6   table    invoice_line    invoice_line         8   \n",
       "7   table      media_type      media_type         9   \n",
       "8   table        playlist        playlist        10   \n",
       "9   table  playlist_track  playlist_track        11   \n",
       "10  table           track           track        13   \n",
       "\n",
       "                                                  sql  \n",
       "0   CREATE TABLE [album]\\n(\\n    [album_id] INTEGE...  \n",
       "1   CREATE TABLE [artist]\\n(\\n    [artist_id] INTE...  \n",
       "2   CREATE TABLE [customer]\\n(\\n    [customer_id] ...  \n",
       "3   CREATE TABLE [employee]\\n(\\n    [employee_id] ...  \n",
       "4   CREATE TABLE [genre]\\n(\\n    [genre_id] INTEGE...  \n",
       "5   CREATE TABLE [invoice]\\n(\\n    [invoice_id] IN...  \n",
       "6   CREATE TABLE [invoice_line]\\n(\\n    [invoice_l...  \n",
       "7   CREATE TABLE [media_type]\\n(\\n    [media_type_...  \n",
       "8   CREATE TABLE [playlist]\\n(\\n    [playlist_id] ...  \n",
       "9   CREATE TABLE [playlist_track]\\n(\\n    [playlis...  \n",
       "10  CREATE TABLE [track]\\n(\\n    [track_id] INTEGE...  "
      ]
     },
     "execution_count": 14,
     "metadata": {},
     "output_type": "execute_result"
    }
   ],
   "source": [
    "show_tables()"
   ]
  },
  {
   "cell_type": "markdown",
   "metadata": {},
   "source": [
    "## Part III - Selecting Albums to Purchase"
   ]
  },
  {
   "cell_type": "code",
   "execution_count": null,
   "metadata": {
    "collapsed": true
   },
   "outputs": [],
   "source": []
  }
 ],
 "metadata": {
  "kernelspec": {
   "display_name": "Python 3",
   "language": "python",
   "name": "python3"
  },
  "language_info": {
   "codemirror_mode": {
    "name": "ipython",
    "version": 3
   },
   "file_extension": ".py",
   "mimetype": "text/x-python",
   "name": "python",
   "nbconvert_exporter": "python",
   "pygments_lexer": "ipython3",
   "version": "3.4.3"
  }
 },
 "nbformat": 4,
 "nbformat_minor": 2
}
