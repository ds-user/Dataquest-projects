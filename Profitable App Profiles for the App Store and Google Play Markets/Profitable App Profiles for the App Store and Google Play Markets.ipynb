{
 "cells": [
  {
   "cell_type": "markdown",
   "metadata": {
    "collapsed": true
   },
   "source": [
    "# Most Viewed Free Apps Analysis\n",
    "## Project Overview\n",
    "\n",
    " This project is written for companies interested in viewing which free mobile apps.\n",
    " \n",
    " It will take data from Google Play and the App Store and provide a frequency table that defines the relationship between free app categories and users. \n",
    "\n",
    "**Reasons to explore this relationship**\n",
    " - a bulk of free apps make their revenue from in-app adds\n",
    " - Beneficiary to see what type of free apps are used the most\n",
    " \n",
    "**Data sets used**\n",
    " - 7,000 iOS apps from the [App Store](https://www.kaggle.com/ramamet4/app-store-apple-data-set-10k-apps/home) (Jul 2017)\n",
    " - 10,000 Android apps from [Google Play](https://www.kaggle.com/lava18/google-play-store-apps/home) (Aug 2018)"
   ]
  },
  {
   "cell_type": "code",
   "execution_count": 1,
   "metadata": {
    "collapsed": true
   },
   "outputs": [],
   "source": [
    "#Open and Save Data\n",
    "from csv import reader\n",
    "\n",
    "opApple=open('AppleStore.csv')\n",
    "rdApple=reader(opApple)\n",
    "apple=list(rdApple)\n",
    "hdApple=apple[0]\n",
    "apple=apple[1::]\n",
    "\n",
    "opGoogle=open('googleplaystore.csv')\n",
    "rdGoogle=reader(opGoogle)\n",
    "google=list(rdGoogle)\n",
    "hdGoogle=google[0]\n",
    "google=google[1::]"
   ]
  },
  {
   "cell_type": "code",
   "execution_count": 2,
   "metadata": {
    "collapsed": true
   },
   "outputs": [],
   "source": [
    "#Explore Data function\n",
    "def explore_data(dataset, start, end, rows_and_columns=False):\n",
    "    dataset_slice = dataset[start:end]    \n",
    "    for row in dataset_slice:\n",
    "        print(row)\n",
    "        print('\\n') # adds a new (empty) line after each row\n",
    "\n",
    "    if rows_and_columns:\n",
    "        print('Number of rows:', len(dataset))\n",
    "        print('Number of columns:', len(dataset[0]))"
   ]
  },
  {
   "cell_type": "code",
   "execution_count": 3,
   "metadata": {
    "collapsed": false,
    "scrolled": false
   },
   "outputs": [
    {
     "name": "stdout",
     "output_type": "stream",
     "text": [
      "['284882215', 'Facebook', '389879808', 'USD', '0.0', '2974676', '212', '3.5', '3.5', '95.0', '4+', 'Social Networking', '37', '1', '29', '1']\n",
      "\n",
      "\n",
      "['389801252', 'Instagram', '113954816', 'USD', '0.0', '2161558', '1289', '4.5', '4.0', '10.23', '12+', 'Photo & Video', '37', '0', '29', '1']\n",
      "\n",
      "\n",
      "Number of rows: 7197\n",
      "Number of columns: 16\n",
      "\n",
      "\n",
      "['Life Made WI-Fi Touchscreen Photo Frame', '1.9', '19', '3.0M', '1,000+', 'Free', '0', 'Everyone', '', 'February 11, 2018', '1.0.19', '4.0 and up']\n",
      "\n",
      "\n",
      "Number of rows: 10841\n",
      "Number of columns: 13\n"
     ]
    }
   ],
   "source": [
    "#Print Data Slice\n",
    "explore_data(apple,0,2,True)\n",
    "#Apple original 7197 rows and 16 col w/o header\n",
    "print('\\n')\n",
    "explore_data(google,10472,10473,True)\n",
    "#Google original 10841 rows and 13 col w/o header"
   ]
  },
  {
   "cell_type": "code",
   "execution_count": 4,
   "metadata": {
    "collapsed": false
   },
   "outputs": [
    {
     "name": "stdout",
     "output_type": "stream",
     "text": [
      "['id', 'track_name', 'size_bytes', 'currency', 'price', 'rating_count_tot', 'rating_count_ver', 'user_rating', 'user_rating_ver', 'ver', 'cont_rating', 'prime_genre', 'sup_devices.num', 'ipadSc_urls.num', 'lang.num', 'vpp_lic']\n",
      "\n",
      "\n",
      "['App', 'Category', 'Rating', 'Reviews', 'Size', 'Installs', 'Type', 'Price', 'Content Rating', 'Genres', 'Last Updated', 'Current Ver', 'Android Ver']\n"
     ]
    }
   ],
   "source": [
    "# View the Header for the Data Sets\n",
    "print(hdApple)\n",
    "print('\\n')\n",
    "print(hdGoogle)"
   ]
  },
  {
   "cell_type": "markdown",
   "metadata": {},
   "source": [
    "*From the Apple Data Set Header*\n",
    "the important coloumns are:\n",
    " - price (to check if it's free)\n",
    " _ rating_count_tot (total number of raters)"
   ]
  },
  {
   "cell_type": "code",
   "execution_count": 5,
   "metadata": {
    "collapsed": true
   },
   "outputs": [],
   "source": [
    "#Clean Data\n",
    "    #correct or remove inaccurate data\n",
    "    #delete duplicate\n"
   ]
  },
  {
   "cell_type": "code",
   "execution_count": 6,
   "metadata": {
    "collapsed": true
   },
   "outputs": [],
   "source": [
    "#Google Play Row Error - RUN ONLY ONCE BECAUSE\n",
    "#WILL DELETE MORE ROWS\n",
    "del google[10472]"
   ]
  },
  {
   "cell_type": "markdown",
   "metadata": {},
   "source": [
    "# Duplicate Data\n",
    " - There is duplicate data that must be identified and deleted in a logical manner\n",
    " - In the case of duplicate data, the version kept will be the one with the most number of reviews as older older collections will have lower number of reviews"
   ]
  },
  {
   "cell_type": "code",
   "execution_count": 7,
   "metadata": {
    "collapsed": false
   },
   "outputs": [
    {
     "name": "stdout",
     "output_type": "stream",
     "text": [
      "['389801252', 'Instagram', '113954816', 'USD', '0.0', '2161558', '1289', '4.5', '4.0', '10.23', '12+', 'Photo & Video', '37', '0', '29', '1']\n"
     ]
    }
   ],
   "source": [
    "#Duplicate Data in Apple? Quick Check via Name\n",
    "for rowA in apple:\n",
    "    nameA=rowA[1]\n",
    "    if nameA == 'Instagram':\n",
    "        print(rowA)"
   ]
  },
  {
   "cell_type": "code",
   "execution_count": 8,
   "metadata": {
    "collapsed": false
   },
   "outputs": [
    {
     "name": "stdout",
     "output_type": "stream",
     "text": [
      "['Instagram', 'SOCIAL', '4.5', '66577313', 'Varies with device', '1,000,000,000+', 'Free', '0', 'Teen', 'Social', 'July 31, 2018', 'Varies with device', 'Varies with device']\n",
      "['Instagram', 'SOCIAL', '4.5', '66577446', 'Varies with device', '1,000,000,000+', 'Free', '0', 'Teen', 'Social', 'July 31, 2018', 'Varies with device', 'Varies with device']\n",
      "['Instagram', 'SOCIAL', '4.5', '66577313', 'Varies with device', '1,000,000,000+', 'Free', '0', 'Teen', 'Social', 'July 31, 2018', 'Varies with device', 'Varies with device']\n",
      "['Instagram', 'SOCIAL', '4.5', '66509917', 'Varies with device', '1,000,000,000+', 'Free', '0', 'Teen', 'Social', 'July 31, 2018', 'Varies with device', 'Varies with device']\n"
     ]
    }
   ],
   "source": [
    "#Duplicate Data in Google? Quick Check via Name\n",
    "for row in google:\n",
    "    name=row[0]\n",
    "    if name == 'Instagram':\n",
    "        print(row)"
   ]
  },
  {
   "cell_type": "code",
   "execution_count": 9,
   "metadata": {
    "collapsed": false
   },
   "outputs": [
    {
     "name": "stdout",
     "output_type": "stream",
     "text": [
      "Name of duplicate apps in Apple: 2\n",
      "Examples of duplicate apps in Apple: ['Mannequin Challenge', 'VR Roller Coaster']\n",
      "Expected length of Apple w/ no duplicates: 7195\n"
     ]
    }
   ],
   "source": [
    "#Count Duplicates in Apple\n",
    "dupl_appsA=[]\n",
    "uniq_appsA=[]\n",
    "\n",
    "for rowA in apple:\n",
    "    nameA=rowA[1]\n",
    "    if nameA in uniq_appsA:\n",
    "        dupl_appsA.append(nameA)\n",
    "    else:\n",
    "        uniq_appsA.append(nameA)\n",
    "print('Name of duplicate apps in Apple:',len(dupl_appsA))\n",
    "print('Examples of duplicate apps in Apple:', dupl_appsA[:5])\n",
    "print('Expected length of Apple w/ no duplicates:',int(len(apple)) - int(len(dupl_appsA)))"
   ]
  },
  {
   "cell_type": "code",
   "execution_count": 10,
   "metadata": {
    "collapsed": false
   },
   "outputs": [
    {
     "name": "stdout",
     "output_type": "stream",
     "text": [
      "Name of duplicate apps in Google: 1181\n",
      "Examples of duplicate apps in Google: ['Quick PDF Scanner + OCR FREE', 'Box', 'Google My Business', 'ZOOM Cloud Meetings', 'join.me - Simple Meetings']\n",
      "Expected length of Google w/ no duplicates: 9659\n"
     ]
    }
   ],
   "source": [
    "#Count Duplicates in Google\n",
    "dupl_apps=[]\n",
    "uniq_apps=[]\n",
    "\n",
    "for row in google:\n",
    "    name=row[0]\n",
    "    if name in uniq_apps:\n",
    "        dupl_apps.append(name)\n",
    "    else:\n",
    "        uniq_apps.append(name)\n",
    "print('Name of duplicate apps in Google:',len(dupl_apps))\n",
    "print('Examples of duplicate apps in Google:', dupl_apps[:5])\n",
    "print('Expected length of Google w/ no duplicates:',int(len(google)) - int(len(dupl_apps)))"
   ]
  },
  {
   "cell_type": "code",
   "execution_count": 11,
   "metadata": {
    "collapsed": false
   },
   "outputs": [
    {
     "name": "stdout",
     "output_type": "stream",
     "text": [
      "Expected length:  7195\n"
     ]
    }
   ],
   "source": [
    "# #Delete Duplicates in Apple\n",
    "reviews_maxA={}\n",
    "for rowA in apple:\n",
    "    nameA=rowA[1]\n",
    "    n_reviewsA=float(rowA[5])\n",
    "    if nameA in reviews_maxA and n_reviewsA > reviews_maxA[nameA]:\n",
    "        reviews_maxA[nameA]=n_reviewsA\n",
    "    if nameA not in reviews_maxA:\n",
    "        reviews_maxA[nameA]=n_reviewsA\n",
    "print('Expected length: ', len(reviews_maxA))"
   ]
  },
  {
   "cell_type": "code",
   "execution_count": 12,
   "metadata": {
    "collapsed": false
   },
   "outputs": [
    {
     "name": "stdout",
     "output_type": "stream",
     "text": [
      "Expected length:  9659\n"
     ]
    }
   ],
   "source": [
    "#Delete Duplicates in Google\n",
    "reviews_max={}\n",
    "for row in google:\n",
    "    name=row[0]\n",
    "    n_reviews=float(row[3])\n",
    "    if name in reviews_max and n_reviews > reviews_max[name]:\n",
    "        reviews_max[name]=n_reviews\n",
    "    if name not in reviews_max:\n",
    "        reviews_max[name]=n_reviews\n",
    "print('Expected length: ', len(reviews_max))\n",
    "    "
   ]
  },
  {
   "cell_type": "code",
   "execution_count": 13,
   "metadata": {
    "collapsed": false
   },
   "outputs": [
    {
     "name": "stdout",
     "output_type": "stream",
     "text": [
      "7195\n",
      "16\n"
     ]
    }
   ],
   "source": [
    "#New List w/o Duplicates in Apple\n",
    "iOS_clean=[]\n",
    "already_addedA=[]\n",
    "for rowA in apple:\n",
    "    nameA=rowA[1]\n",
    "    n_reviewsA=float(rowA[5])\n",
    "    if n_reviewsA==reviews_maxA[nameA] and nameA not in already_addedA:\n",
    "        iOS_clean.append(rowA)\n",
    "        already_addedA.append(nameA)\n",
    "        \n",
    "print(len(iOS_clean))\n",
    "print(len(iOS_clean[0]))"
   ]
  },
  {
   "cell_type": "code",
   "execution_count": 14,
   "metadata": {
    "collapsed": false
   },
   "outputs": [
    {
     "name": "stdout",
     "output_type": "stream",
     "text": [
      "9659\n",
      "13\n"
     ]
    }
   ],
   "source": [
    "#New List w/o Duplicates in Google\n",
    "android_clean=[]\n",
    "already_added=[]\n",
    "for row in google:\n",
    "    name=row[0]\n",
    "    n_reviews=float(row[3])\n",
    "    if n_reviews==reviews_max[name] and name not in already_added:\n",
    "        android_clean.append(row)\n",
    "        already_added.append(name)\n",
    "        \n",
    "print(len(android_clean))\n",
    "print(len(android_clean[0]))\n"
   ]
  },
  {
   "cell_type": "code",
   "execution_count": 15,
   "metadata": {
    "collapsed": false
   },
   "outputs": [
    {
     "name": "stdout",
     "output_type": "stream",
     "text": [
      "True False True True\n"
     ]
    }
   ],
   "source": [
    "#Function to Detect if Characters Belong in English Alphabet\n",
    "def is_english(string):\n",
    "    more3=0\n",
    "    for character in string:\n",
    "        if ord(character) > 127:\n",
    "            more3+=1\n",
    "    if more3 > 3:\n",
    "        return False \n",
    "    return True\n",
    "    \n",
    "IG=is_english('Instagram')\n",
    "CH=is_english('爱奇艺PPS -《欢乐颂2》电视剧热播')\n",
    "TM=is_english('Docs To Go™ Free Office Suite')\n",
    "EM=is_english('Instachat 😜')\n",
    "print(IG,CH,TM,EM)"
   ]
  },
  {
   "cell_type": "code",
   "execution_count": 16,
   "metadata": {
    "collapsed": false
   },
   "outputs": [
    {
     "name": "stdout",
     "output_type": "stream",
     "text": [
      "6181\n",
      "16\n"
     ]
    }
   ],
   "source": [
    "#Filter non-English Apps from Apple\n",
    "eng_iOS=[]\n",
    "for rowA in iOS_clean:\n",
    "    nameA=rowA[1]\n",
    "    is_EngA=is_english(nameA)\n",
    "    if is_EngA == True:\n",
    "        eng_iOS.append(rowA)\n",
    "        \n",
    "print(len(eng_iOS))\n",
    "print(len(eng_iOS[0]))  "
   ]
  },
  {
   "cell_type": "code",
   "execution_count": 17,
   "metadata": {
    "collapsed": false
   },
   "outputs": [
    {
     "name": "stdout",
     "output_type": "stream",
     "text": [
      "9614\n",
      "13\n"
     ]
    }
   ],
   "source": [
    "#Filter non-English Apps from Google\n",
    "eng_android=[]\n",
    "for row in android_clean:\n",
    "    name=row[0]\n",
    "    is_Eng=is_english(name)\n",
    "    if is_Eng == True:\n",
    "        eng_android.append(row)\n",
    "        \n",
    "print(len(eng_android))\n",
    "print(len(eng_android[0]))  "
   ]
  },
  {
   "cell_type": "code",
   "execution_count": 18,
   "metadata": {
    "collapsed": false
   },
   "outputs": [
    {
     "name": "stdout",
     "output_type": "stream",
     "text": [
      "3220\n",
      "16\n"
     ]
    }
   ],
   "source": [
    "#Isolate Free Apps in Apple\n",
    "free_iOS=[]\n",
    "for rowA in eng_iOS:\n",
    "    price=float(rowA[4])\n",
    "    if price == 0:\n",
    "        free_iOS.append(rowA)\n",
    "                       \n",
    "print(len(free_iOS))\n",
    "print(len(free_iOS[0]))                         "
   ]
  },
  {
   "cell_type": "code",
   "execution_count": 19,
   "metadata": {
    "collapsed": false,
    "scrolled": false
   },
   "outputs": [
    {
     "name": "stdout",
     "output_type": "stream",
     "text": [
      "8864\n",
      "13\n",
      "True\n"
     ]
    }
   ],
   "source": [
    "#Isolate Free Apps in Google\n",
    "free_android=[]\n",
    "for row in eng_android:\n",
    "    price=row[7] #note don't convert to float because values>0 have $\n",
    "    if price == '0': #therefore compare it with zero string; could do replace $ to blank\n",
    "        free_android.append(row)\n",
    "                       \n",
    "print(len(free_android))\n",
    "print(len(free_android[0])) \n",
    "\n",
    "print(0.0==0) #to check if float == integer"
   ]
  },
  {
   "cell_type": "markdown",
   "metadata": {},
   "source": [
    "## Why Find an App Profile that Fits both the App Store and Google Play?\n",
    " - The validation approach to minimze risk and overhead to build an app is:\n",
    " 1. To build a minimal android app for Google Play\n",
    " 2. Develop the app further if the response from users is positive\n",
    " 3. Develope an iOS version for the App Stoe if the app is profitable after six months\n",
    " \n",
    "In order to achieve these goals we must first optimize the potential by finding the best catagory that is popular for both iOS and android markets\n",
    "\n",
    "For the App Store we'll utilize the `prime_genre column` and for the Google Play we'll use the `Category` column. For each we'll create a frequency table that shows percentages and another function will display the percentages in a descending order\n",
    "\n",
    "## Sorting the Frequency Table\n",
    " - The 'sorted()' function doesn't work well with dictionaries because it only sorts the dictionary keys\n",
    " - Thus we will transform the dictionary into a list of tuples, which works well with the 'sorted()' function\n",
    " - each tuple (similar to a list, but with unchangeable values) contains a dictionary key along with the value and in order for the sorting to work correctly, the dictionary values will come first followed by the key\n"
   ]
  },
  {
   "cell_type": "code",
   "execution_count": 20,
   "metadata": {
    "collapsed": true
   },
   "outputs": [],
   "source": [
    "#Function to Create Frequency Table\n",
    "def freq_table(dataset,index):\n",
    "    #dataset - list of lists; index - integer\n",
    "    freq={}\n",
    "    for row in dataset:\n",
    "        genre=row[index]\n",
    "        if genre in freq:\n",
    "            freq[genre]+=1\n",
    "        else:\n",
    "            freq[genre]=1\n",
    "    sum_all=sum(freq.values())\n",
    "    freq_per={}\n",
    "    for key in freq:\n",
    "        val=freq[key]\n",
    "        freq_per[key]=(val/sum_all)*100\n",
    "    return freq_per"
   ]
  },
  {
   "cell_type": "code",
   "execution_count": 21,
   "metadata": {
    "collapsed": true
   },
   "outputs": [],
   "source": [
    "#Function to Transform Frequency Table to List of Tuples\n",
    "def display_table(dataset, index):\n",
    "    table = freq_table(dataset, index)\n",
    "    table_display = []\n",
    "    for key in table:\n",
    "        key_val_as_tuple = (table[key], key)\n",
    "        table_display.append(key_val_as_tuple)\n",
    "\n",
    "    table_sorted = sorted(table_display, reverse = True)\n",
    "    for entry in table_sorted:\n",
    "        print(entry[1], ':', entry[0])"
   ]
  },
  {
   "cell_type": "code",
   "execution_count": 22,
   "metadata": {
    "collapsed": false
   },
   "outputs": [
    {
     "name": "stdout",
     "output_type": "stream",
     "text": [
      "Games : 53.66124774211477\n",
      "Entertainment : 7.433652910935113\n",
      "Education : 6.294289287203002\n",
      "Photo & Video : 4.849242740030569\n",
      "Utilities : 3.4458802278727245\n",
      "Health & Fitness : 2.501042100875365\n",
      "Productivity : 2.473252744198972\n",
      "Social Networking : 2.3204112824788106\n",
      "Lifestyle : 2.0008336807002918\n",
      "Music : 1.9174656106711132\n",
      "Shopping : 1.6951507572599693\n",
      "Sports : 1.5839933305543976\n",
      "Book : 1.5562039738780047\n",
      "Finance : 1.445046547172433\n",
      "Travel : 1.1254689453939142\n",
      "News : 1.0421008753647354\n",
      "Weather : 1.0004168403501459\n",
      "Reference : 0.8892594136445742\n",
      "Food & Drink : 0.8753647353063776\n",
      "Business : 0.7919966652771988\n",
      "Navigation : 0.6391552035570377\n",
      "Medical : 0.31957760177851885\n",
      "Catalogs : 0.1389467833819647\n"
     ]
    }
   ],
   "source": [
    "#Sorted Frequency Table for Apple\n",
    "apple_sorted=display_table(apple,11)"
   ]
  },
  {
   "cell_type": "code",
   "execution_count": 23,
   "metadata": {
    "collapsed": false,
    "scrolled": true
   },
   "outputs": [
    {
     "name": "stdout",
     "output_type": "stream",
     "text": [
      "FAMILY : 18.19188191881919\n",
      "GAME : 10.55350553505535\n",
      "TOOLS : 7.776752767527675\n",
      "MEDICAL : 4.271217712177122\n",
      "BUSINESS : 4.243542435424354\n",
      "PRODUCTIVITY : 3.911439114391144\n",
      "PERSONALIZATION : 3.616236162361624\n",
      "COMMUNICATION : 3.5701107011070112\n",
      "SPORTS : 3.5424354243542435\n",
      "LIFESTYLE : 3.5239852398523985\n",
      "FINANCE : 3.3763837638376386\n",
      "HEALTH_AND_FITNESS : 3.1457564575645756\n",
      "PHOTOGRAPHY : 3.0904059040590406\n",
      "SOCIAL : 2.7214022140221403\n",
      "NEWS_AND_MAGAZINES : 2.61070110701107\n",
      "SHOPPING : 2.3985239852398523\n",
      "TRAVEL_AND_LOCAL : 2.3800738007380073\n",
      "DATING : 2.158671586715867\n",
      "BOOKS_AND_REFERENCE : 2.1309963099630997\n",
      "VIDEO_PLAYERS : 1.6143911439114391\n",
      "EDUCATION : 1.4391143911439115\n",
      "ENTERTAINMENT : 1.3745387453874538\n",
      "MAPS_AND_NAVIGATION : 1.2638376383763839\n",
      "FOOD_AND_DRINK : 1.1715867158671587\n",
      "HOUSE_AND_HOME : 0.8118081180811807\n",
      "LIBRARIES_AND_DEMO : 0.7841328413284132\n",
      "AUTO_AND_VEHICLES : 0.7841328413284132\n",
      "WEATHER : 0.7564575645756457\n",
      "ART_AND_DESIGN : 0.5996309963099631\n",
      "EVENTS : 0.5904059040590406\n",
      "PARENTING : 0.5535055350553505\n",
      "COMICS : 0.5535055350553505\n",
      "BEAUTY : 0.488929889298893\n"
     ]
    }
   ],
   "source": [
    "#Sorted Frequency Table for Google\n",
    "apple_sorted=display_table(google,1)"
   ]
  },
  {
   "cell_type": "markdown",
   "metadata": {},
   "source": [
    "## Observation of Genres for Apple and Google\n",
    " - For Apple over 50% are games, while games are only about 10% for Google Play\n",
    " - It would be interesting to see what the definitions of each category  are in each store\n",
    " - Apple store top three are: Games, Entertainment and Education\n",
    " - Google store top three are: Famil,y Game and Tools\n",
    " - Both stores have very different patterns and they also don't follow a common pattern\n",
    " - In order to create an app profile more information than just the frequency table needs to be provided, as this only tells what genres are most popular not the popularity of the individual apps themselves\n",
    " \n",
    "**Now to generate data on the number of users for each app genre**\n",
    " - For the App Store we'll use information on the total number of user ratings (`rating_count_tot` column)\n",
    " - For Google Play we'll use the number of installs (`Installs` column)"
   ]
  },
  {
   "cell_type": "code",
   "execution_count": 24,
   "metadata": {
    "collapsed": false
   },
   "outputs": [
    {
     "name": "stdout",
     "output_type": "stream",
     "text": [
      "Weather : 22181.027777777777\n",
      "Games : 13691.996633868463\n",
      "Social Networking : 45498.89820359281\n",
      "News : 13015.066666666668\n",
      "Business : 4788.087719298245\n",
      "Navigation : 11853.95652173913\n",
      "Health & Fitness : 9913.172222222222\n",
      "Medical : 592.7826086956521\n",
      "Book : 5125.4375\n",
      "Food & Drink : 13938.619047619048\n",
      "Sports : 14026.929824561403\n",
      "Shopping : 18615.32786885246\n",
      "Travel : 14129.444444444445\n",
      "Catalogs : 1732.5\n",
      "Music : 28842.021739130436\n",
      "Utilities : 6863.822580645161\n",
      "Productivity : 8051.3258426966295\n",
      "Finance : 11047.653846153846\n",
      "Reference : 22410.84375\n",
      "Entertainment : 7533.678504672897\n",
      "Lifestyle : 6161.763888888889\n",
      "Photo & Video : 14352.280802292264\n",
      "Education : 2239.2295805739514\n"
     ]
    }
   ],
   "source": [
    "#Average Number of User Ratings per App Genre on the App Store\n",
    "apple_freq=freq_table(apple,11)\n",
    "for genre in apple_freq:\n",
    "    total=0\n",
    "    len_genre=0\n",
    "    for row in apple:\n",
    "        genre_app=row[11]\n",
    "        if genre_app == genre:\n",
    "            num_user_rat=float(row[5])\n",
    "            total+=num_user_rat\n",
    "            len_genre+=1\n",
    "    avg_num=total/len_genre\n",
    "    print(genre,':',avg_num)"
   ]
  },
  {
   "cell_type": "markdown",
   "metadata": {
    "collapsed": true
   },
   "source": [
    "# Top 5 Most Rated Apps in Apple Store\n",
    "1) Social Networking\n",
    "2) Music\n",
    "3) Reference\n",
    "4) Weather\n",
    "5) Shopping\n",
    "\n",
    "From experience as well as looking at the most rated apps, it appears that there is not a lot of social networking apps in the Apple Store, but the success rate (defined by the number of users) seems to be high. I think another parameter to look at is the length of time users stick to apps. It may be that there are a lot of games because user's are constantly looking for new games to play. After evaluating these parameters, for both the App Store and Google Play I would pick an app that is optimal for both markets ."
   ]
  },
  {
   "cell_type": "code",
   "execution_count": 25,
   "metadata": {
    "collapsed": false
   },
   "outputs": [
    {
     "name": "stdout",
     "output_type": "stream",
     "text": [
      "1,000,000+ : 14.566420664206642\n",
      "10,000,000+ : 11.549815498154983\n",
      "100,000+ : 10.784132841328413\n",
      "10,000+ : 9.723247232472325\n",
      "1,000+ : 8.367158671586717\n",
      "5,000,000+ : 6.937269372693727\n",
      "100+ : 6.632841328413284\n",
      "500,000+ : 4.972324723247232\n",
      "50,000+ : 4.418819188191882\n",
      "5,000+ : 4.400369003690037\n",
      "100,000,000+ : 3.7730627306273066\n",
      "10+ : 3.560885608856089\n",
      "500+ : 3.044280442804428\n",
      "50,000,000+ : 2.6660516605166054\n",
      "50+ : 1.8911439114391144\n",
      "5+ : 0.7564575645756457\n",
      "500,000,000+ : 0.6642066420664207\n",
      "1+ : 0.6180811808118082\n",
      "1,000,000,000+ : 0.5350553505535056\n",
      "0+ : 0.12915129151291513\n",
      "0 : 0.00922509225092251\n"
     ]
    }
   ],
   "source": [
    "#Percentage of Install Brackets in Google Play\n",
    "display_table(google,5)"
   ]
  },
  {
   "cell_type": "code",
   "execution_count": 26,
   "metadata": {
    "collapsed": false,
    "scrolled": true
   },
   "outputs": [
    {
     "name": "stdout",
     "output_type": "stream",
     "text": [
      "NEWS_AND_MAGAZINES : 26488755.335689045\n",
      "WEATHER : 5196347.804878049\n",
      "BEAUTY : 513151.88679245283\n",
      "ENTERTAINMENT : 19256107.382550336\n",
      "FINANCE : 2395215.120218579\n",
      "EVENTS : 249580.640625\n",
      "DATING : 1129533.3632478632\n",
      "TRAVEL_AND_LOCAL : 26623593.58914729\n",
      "PARENTING : 525351.8333333334\n",
      "MAPS_AND_NAVIGATION : 5286729.124087592\n",
      "HOUSE_AND_HOME : 1917187.0568181819\n",
      "MEDICAL : 115026.86177105832\n",
      "EDUCATION : 5586230.769230769\n",
      "BUSINESS : 2178075.7934782607\n",
      "LIBRARIES_AND_DEMO : 741128.3529411765\n",
      "GAME : 30669601.761363637\n",
      "COMICS : 934769.1666666666\n",
      "VIDEO_PLAYERS : 35554301.25714286\n",
      "SHOPPING : 12491726.096153846\n",
      "HEALTH_AND_FITNESS : 4642441.3841642225\n",
      "LIFESTYLE : 1407443.8193717278\n",
      "PHOTOGRAPHY : 30114172.10447761\n",
      "SPORTS : 4560350.255208333\n",
      "FOOD_AND_DRINK : 2156683.0787401577\n",
      "COMMUNICATION : 84359886.95348836\n",
      "BOOKS_AND_REFERENCE : 8318050.112554112\n",
      "ART_AND_DESIGN : 1912893.8461538462\n",
      "PRODUCTIVITY : 33434177.75707547\n",
      "AUTO_AND_VEHICLES : 625061.305882353\n",
      "SOCIAL : 47694467.46440678\n",
      "TOOLS : 13585731.809015421\n",
      "PERSONALIZATION : 5932384.647959184\n",
      "FAMILY : 5201959.181034483\n"
     ]
    }
   ],
   "source": [
    "#Average Number of Installs per Genre on Google Play\n",
    "google_freq=freq_table(google,1)\n",
    "for category in google_freq:\n",
    "    total=0\n",
    "    len_category=0\n",
    "    for row in google:\n",
    "        category_app=row[1]\n",
    "        if category_app == category:\n",
    "            n_installs=row[5]\n",
    "            n_installs=n_installs.replace('+','')\n",
    "            n_installs=n_installs.replace(',','')\n",
    "            n_installs=float(n_installs)\n",
    "            total+=n_installs\n",
    "            len_category+=1\n",
    "    avg_install=total/len_category\n",
    "    print(category,':',avg_install)"
   ]
  }
 ],
 "metadata": {
  "kernelspec": {
   "display_name": "Python 3",
   "language": "python",
   "name": "python3"
  },
  "language_info": {
   "codemirror_mode": {
    "name": "ipython",
    "version": 3
   },
   "file_extension": ".py",
   "mimetype": "text/x-python",
   "name": "python",
   "nbconvert_exporter": "python",
   "pygments_lexer": "ipython3",
   "version": "3.4.3"
  }
 },
 "nbformat": 4,
 "nbformat_minor": 2
}
