{
 "cells": [
  {
   "cell_type": "markdown",
   "metadata": {},
   "source": [
    "# Treating Lottery Addiction with Probabilities\n",
    "In order to help those with a lottery addiction a medical institute aims to provide the chances of winning. The focus of the project will be the logical core of the app which will generate the probabilities using equations"
   ]
  },
  {
   "cell_type": "markdown",
   "metadata": {},
   "source": [
    "## Part II - Core Functions\n",
    "Defining functions that calculates factorials and combinations"
   ]
  },
  {
   "cell_type": "code",
   "execution_count": 1,
   "metadata": {
    "collapsed": true
   },
   "outputs": [],
   "source": [
    "def factorial(n):\n",
    "    factorial_result=1\n",
    "    for i in range(n,0,-1):\n",
    "        factorial_result*=i\n",
    "    return factorial_result"
   ]
  },
  {
   "cell_type": "code",
   "execution_count": 2,
   "metadata": {
    "collapsed": true
   },
   "outputs": [],
   "source": [
    "def combinations(n,k):\n",
    "    return factorial(n)/factorial(n-k)/factorial(k)"
   ]
  },
  {
   "cell_type": "markdown",
   "metadata": {},
   "source": [
    "## Part III - One-ticket Probability\n",
    "Finding the probability of winning the lottery for the 6/49 lottery"
   ]
  },
  {
   "cell_type": "code",
   "execution_count": 3,
   "metadata": {
    "collapsed": false
   },
   "outputs": [
    {
     "data": {
      "text/plain": [
       "'Your chances of winning with [1, 2, 3, 4, 5, 6] are: 0.000007%'"
      ]
     },
     "execution_count": 3,
     "metadata": {},
     "output_type": "execute_result"
    }
   ],
   "source": [
    "def one_ticket_probability(six_number_list):\n",
    "    n_of_unique_comb=combinations(49,6)\n",
    "    chances_of_one=1/n_of_unique_comb\n",
    "    chances_as_perc=chances_of_one*100\n",
    "    return 'Your chances of winning with {} are: {}%'\\\n",
    ".format(six_number_list,'{:f}'.format(chances_as_perc))\n",
    "one_ticket_probability([1,2,3,4,5,6])\n",
    "\n",
    "\n",
    "#can also do '{:.#f}'.format(chances_as_perc), to disp more decimals\n",
    "#disp float number - https://stackoverflow.com/questions/658763/how-do-i-suppress-scientific-notation-in-python"
   ]
  },
  {
   "cell_type": "markdown",
   "metadata": {},
   "source": [
    "## Part IV - Historical Data Check for Canada Lottery\n",
    "Allows users to compare their ticket against historical lottery data in Canada and determine whether they would have ever won by now"
   ]
  },
  {
   "cell_type": "code",
   "execution_count": 4,
   "metadata": {
    "collapsed": false
   },
   "outputs": [
    {
     "data": {
      "text/html": [
       "<div>\n",
       "<style scoped>\n",
       "    .dataframe tbody tr th:only-of-type {\n",
       "        vertical-align: middle;\n",
       "    }\n",
       "\n",
       "    .dataframe tbody tr th {\n",
       "        vertical-align: top;\n",
       "    }\n",
       "\n",
       "    .dataframe thead th {\n",
       "        text-align: right;\n",
       "    }\n",
       "</style>\n",
       "<table border=\"1\" class=\"dataframe\">\n",
       "  <thead>\n",
       "    <tr style=\"text-align: right;\">\n",
       "      <th></th>\n",
       "      <th>PRODUCT</th>\n",
       "      <th>DRAW NUMBER</th>\n",
       "      <th>SEQUENCE NUMBER</th>\n",
       "      <th>DRAW DATE</th>\n",
       "      <th>NUMBER DRAWN 1</th>\n",
       "      <th>NUMBER DRAWN 2</th>\n",
       "      <th>NUMBER DRAWN 3</th>\n",
       "      <th>NUMBER DRAWN 4</th>\n",
       "      <th>NUMBER DRAWN 5</th>\n",
       "      <th>NUMBER DRAWN 6</th>\n",
       "      <th>BONUS NUMBER</th>\n",
       "    </tr>\n",
       "  </thead>\n",
       "  <tbody>\n",
       "    <tr>\n",
       "      <th>0</th>\n",
       "      <td>649</td>\n",
       "      <td>1</td>\n",
       "      <td>0</td>\n",
       "      <td>6/12/1982</td>\n",
       "      <td>3</td>\n",
       "      <td>11</td>\n",
       "      <td>12</td>\n",
       "      <td>14</td>\n",
       "      <td>41</td>\n",
       "      <td>43</td>\n",
       "      <td>13</td>\n",
       "    </tr>\n",
       "    <tr>\n",
       "      <th>1</th>\n",
       "      <td>649</td>\n",
       "      <td>2</td>\n",
       "      <td>0</td>\n",
       "      <td>6/19/1982</td>\n",
       "      <td>8</td>\n",
       "      <td>33</td>\n",
       "      <td>36</td>\n",
       "      <td>37</td>\n",
       "      <td>39</td>\n",
       "      <td>41</td>\n",
       "      <td>9</td>\n",
       "    </tr>\n",
       "    <tr>\n",
       "      <th>2</th>\n",
       "      <td>649</td>\n",
       "      <td>3</td>\n",
       "      <td>0</td>\n",
       "      <td>6/26/1982</td>\n",
       "      <td>1</td>\n",
       "      <td>6</td>\n",
       "      <td>23</td>\n",
       "      <td>24</td>\n",
       "      <td>27</td>\n",
       "      <td>39</td>\n",
       "      <td>34</td>\n",
       "    </tr>\n",
       "  </tbody>\n",
       "</table>\n",
       "</div>"
      ],
      "text/plain": [
       "   PRODUCT  DRAW NUMBER  SEQUENCE NUMBER  DRAW DATE  NUMBER DRAWN 1  \\\n",
       "0      649            1                0  6/12/1982               3   \n",
       "1      649            2                0  6/19/1982               8   \n",
       "2      649            3                0  6/26/1982               1   \n",
       "\n",
       "   NUMBER DRAWN 2  NUMBER DRAWN 3  NUMBER DRAWN 4  NUMBER DRAWN 5  \\\n",
       "0              11              12              14              41   \n",
       "1              33              36              37              39   \n",
       "2               6              23              24              27   \n",
       "\n",
       "   NUMBER DRAWN 6  BONUS NUMBER  \n",
       "0              43            13  \n",
       "1              41             9  \n",
       "2              39            34  "
      ]
     },
     "execution_count": 4,
     "metadata": {},
     "output_type": "execute_result"
    }
   ],
   "source": [
    "import pandas as pd\n",
    "historical_data=pd.read_csv('649.csv')\n",
    "historical_data.head(3)"
   ]
  },
  {
   "cell_type": "code",
   "execution_count": 5,
   "metadata": {
    "collapsed": false
   },
   "outputs": [
    {
     "data": {
      "text/html": [
       "<div>\n",
       "<style scoped>\n",
       "    .dataframe tbody tr th:only-of-type {\n",
       "        vertical-align: middle;\n",
       "    }\n",
       "\n",
       "    .dataframe tbody tr th {\n",
       "        vertical-align: top;\n",
       "    }\n",
       "\n",
       "    .dataframe thead th {\n",
       "        text-align: right;\n",
       "    }\n",
       "</style>\n",
       "<table border=\"1\" class=\"dataframe\">\n",
       "  <thead>\n",
       "    <tr style=\"text-align: right;\">\n",
       "      <th></th>\n",
       "      <th>PRODUCT</th>\n",
       "      <th>DRAW NUMBER</th>\n",
       "      <th>SEQUENCE NUMBER</th>\n",
       "      <th>DRAW DATE</th>\n",
       "      <th>NUMBER DRAWN 1</th>\n",
       "      <th>NUMBER DRAWN 2</th>\n",
       "      <th>NUMBER DRAWN 3</th>\n",
       "      <th>NUMBER DRAWN 4</th>\n",
       "      <th>NUMBER DRAWN 5</th>\n",
       "      <th>NUMBER DRAWN 6</th>\n",
       "      <th>BONUS NUMBER</th>\n",
       "    </tr>\n",
       "  </thead>\n",
       "  <tbody>\n",
       "    <tr>\n",
       "      <th>3662</th>\n",
       "      <td>649</td>\n",
       "      <td>3589</td>\n",
       "      <td>0</td>\n",
       "      <td>6/13/2018</td>\n",
       "      <td>6</td>\n",
       "      <td>22</td>\n",
       "      <td>24</td>\n",
       "      <td>31</td>\n",
       "      <td>32</td>\n",
       "      <td>34</td>\n",
       "      <td>16</td>\n",
       "    </tr>\n",
       "    <tr>\n",
       "      <th>3663</th>\n",
       "      <td>649</td>\n",
       "      <td>3590</td>\n",
       "      <td>0</td>\n",
       "      <td>6/16/2018</td>\n",
       "      <td>2</td>\n",
       "      <td>15</td>\n",
       "      <td>21</td>\n",
       "      <td>31</td>\n",
       "      <td>38</td>\n",
       "      <td>49</td>\n",
       "      <td>8</td>\n",
       "    </tr>\n",
       "    <tr>\n",
       "      <th>3664</th>\n",
       "      <td>649</td>\n",
       "      <td>3591</td>\n",
       "      <td>0</td>\n",
       "      <td>6/20/2018</td>\n",
       "      <td>14</td>\n",
       "      <td>24</td>\n",
       "      <td>31</td>\n",
       "      <td>35</td>\n",
       "      <td>37</td>\n",
       "      <td>48</td>\n",
       "      <td>17</td>\n",
       "    </tr>\n",
       "  </tbody>\n",
       "</table>\n",
       "</div>"
      ],
      "text/plain": [
       "      PRODUCT  DRAW NUMBER  SEQUENCE NUMBER  DRAW DATE  NUMBER DRAWN 1  \\\n",
       "3662      649         3589                0  6/13/2018               6   \n",
       "3663      649         3590                0  6/16/2018               2   \n",
       "3664      649         3591                0  6/20/2018              14   \n",
       "\n",
       "      NUMBER DRAWN 2  NUMBER DRAWN 3  NUMBER DRAWN 4  NUMBER DRAWN 5  \\\n",
       "3662              22              24              31              32   \n",
       "3663              15              21              31              38   \n",
       "3664              24              31              35              37   \n",
       "\n",
       "      NUMBER DRAWN 6  BONUS NUMBER  \n",
       "3662              34            16  \n",
       "3663              49             8  \n",
       "3664              48            17  "
      ]
     },
     "execution_count": 5,
     "metadata": {},
     "output_type": "execute_result"
    }
   ],
   "source": [
    "historical_data.tail(3)"
   ]
  },
  {
   "cell_type": "markdown",
   "metadata": {},
   "source": [
    "## Part V - Function for Historical Data Check\n",
    "Part IV explored the historical data set, this part will include a written function that will enable users to compare their ticket against the historical lottery data"
   ]
  },
  {
   "cell_type": "code",
   "execution_count": 6,
   "metadata": {
    "collapsed": false,
    "scrolled": true
   },
   "outputs": [
    {
     "data": {
      "text/plain": [
       "0    {3, 41, 11, 12, 43, 14}\n",
       "1    {33, 36, 37, 39, 8, 41}\n",
       "2     {1, 6, 39, 23, 24, 27}\n",
       "3     {3, 9, 10, 43, 13, 20}\n",
       "4    {34, 5, 14, 47, 21, 31}\n",
       "dtype: object"
      ]
     },
     "execution_count": 6,
     "metadata": {},
     "output_type": "execute_result"
    }
   ],
   "source": [
    "def extract_numbers(row):\n",
    "    number_series=row[4:10]\n",
    "    return set(number_series)\n",
    "winning_number_sets=historical_data.apply(extract_numbers, axis=1)\n",
    "winning_number_sets.head()\n",
    "\n",
    "#Create a set from a series in pandas - https://stackoverflow.com/questions/39551566/create-a-set-from-a-series-in-pandas\n",
    "#can do: set(number_series.values)"
   ]
  },
  {
   "cell_type": "code",
   "execution_count": 7,
   "metadata": {
    "collapsed": false
   },
   "outputs": [],
   "source": [
    "#will a single set compare to a series of sets, even though not same size?\n",
    "tf=set([41,8,39,37,36,33])==winning_number_sets\n",
    "#YES"
   ]
  },
  {
   "cell_type": "code",
   "execution_count": 16,
   "metadata": {
    "collapsed": false
   },
   "outputs": [],
   "source": [
    "def check_historical_occurence(their_list,historical_list):\n",
    "    their_set=set(their_list)\n",
    "    t_f_match_series=their_set==historical_list\n",
    "    number_of_matches=sum(t_f_match_series)\n",
    "    return 'The number of times {} has won in the past is: {}'\\\n",
    ".format(their_list,number_of_matches)"
   ]
  },
  {
   "cell_type": "code",
   "execution_count": 17,
   "metadata": {
    "collapsed": false
   },
   "outputs": [
    {
     "name": "stdout",
     "output_type": "stream",
     "text": [
      "Your chances of winning with [41, 8, 39, 37, 36, 33] are: 0.000007%\n",
      "The number of times [41, 8, 39, 37, 36, 33] has won in the past is: 1\n"
     ]
    }
   ],
   "source": [
    "test_combination=[41,8,39,37,36,33]\n",
    "print(one_ticket_probability(test_combination))\n",
    "print(check_historical_occurence(test_combination,winning_number_sets))"
   ]
  },
  {
   "cell_type": "markdown",
   "metadata": {},
   "source": [
    "## Part VI - Multi-ticket Probability\n",
    "The goal of this portion is to write a function that allows users to calculate the chances of winning for any number of different tickets purchased"
   ]
  },
  {
   "cell_type": "code",
   "execution_count": 24,
   "metadata": {
    "collapsed": true
   },
   "outputs": [],
   "source": [
    "def multi_ticket_probability(num_dif_tickets):\n",
    "    total_number_of_combinations=combinations(49,6)\n",
    "    probs_perc=num_dif_tickets/total_number_of_combinations*100\n",
    "    return 'The probability of winning with {} different \\\n",
    "tickets is: {:f}%'.format(num_dif_tickets,probs_perc)"
   ]
  },
  {
   "cell_type": "code",
   "execution_count": 25,
   "metadata": {
    "collapsed": false
   },
   "outputs": [
    {
     "name": "stdout",
     "output_type": "stream",
     "text": [
      "The probability of winning with 1 different tickets is: 0.000007%\n",
      "The probability of winning with 10 different tickets is: 0.000072%\n",
      "The probability of winning with 100 different tickets is: 0.000715%\n",
      "The probability of winning with 10000 different tickets is: 0.071511%\n",
      "The probability of winning with 1000000 different tickets is: 7.151124%\n",
      "The probability of winning with 6991908 different tickets is: 50.000000%\n",
      "The probability of winning with 13983816 different tickets is: 100.000000%\n"
     ]
    }
   ],
   "source": [
    "for val in [1, 10, 100, 10000, 1000000, 6991908, 13983816]:\n",
    "    print(multi_ticket_probability(val))"
   ]
  },
  {
   "cell_type": "markdown",
   "metadata": {},
   "source": [
    "## Part VII - Less Winning Numbers\n",
    "There are smaller prizes if a player's ticket match two, three, four or five of the six numbers drawn therefore curating a function that provides users with the probability of two to five numbers matching would be useful\n",
    "\n",
    "Due note there is a **difference** between the probabilities of: <br>\n",
    "a) having **exactly** five winning numbers <br>\n",
    "b) having **at least** five winning numbers\n",
    "\n",
    "For example, say the winning lottery set was (1,2,3,4,5,6) <br>\n",
    "The ticket (1,2,3,4,5,7) has at least 4 winning numbers <br>\n",
    "but the ticket (1,2,3,4,7,8) has exactly 4 winning numbers\n",
    "\n",
    "For our purposes here, we want to have exactly five winning numbers"
   ]
  },
  {
   "cell_type": "markdown",
   "metadata": {},
   "source": [
    "### Example to understand the calculations:\n",
    "We know that for the 6 unique number set (because sampling without replacement so unique) that can be numbers from 1-49, there are **13,983,816** total possible outcomes (or combinations)\n",
    "\n",
    "Say that you choose the ticket (1,2,3,4,5,6) and want to know the **probability your set matches exactly five of the winning numbers of the lottery**\n",
    "\n",
    "Out of the 6 numbers on your ticket how many 5 digit combinations can you make? (remember combinations - order does not matter) <br>\n",
    "(12345,23456,34561,45612,56123,61234) <br>\n",
    "**six combinations** (aka 6C5 = 6!/(6-5)!/5!)\n",
    "\n",
    "For one ticket, there are six combinations of five digits. Let's say that one of these five digit combinations match five of the numbers on the winning ticket. There are 44 tickets in total that can have this combinations and of those tickets is the lottery winner (matches all six), but because we only want to match 5 digits there are only 43 lottery outcomes that match exactly 5 numbers.\n",
    "\n",
    "In order to calculate the total number of succesful outcomes for 5 of the 6 digits matching let us say that the winning lottery ticket is (1,2,3,4,5,6). This means there are 6 5-digit unique sets that can match and each one of the allowed sets can be on 43 different tickets so the total number of successful outcomes would be calculated using the rule of product: 6 x 43 = 258. You can visualize a tree diagram to help understand"
   ]
  },
  {
   "cell_type": "code",
   "execution_count": 60,
   "metadata": {
    "collapsed": false
   },
   "outputs": [],
   "source": [
    "def probability_less_6(int_between_2_and_5):\n",
    "    num_of_int_num_combin=combinations(6,int_between_2_and_5)\n",
    "    spots=6-int_between_2_and_5\n",
    "    base=43 #max amount of other numbers possible\n",
    "    count=combinations(base,spots)\n",
    "#BELOW DOESN'T WORK BECAUSE 43*42*41 IS FOR PERMUTATION NOT COMBINATIONS\n",
    "#     count=1\n",
    "#     for i in range(spots):\n",
    "#         count*=base\n",
    "#         base-=1\n",
    "# I.E. combinations(6,2)*43*42*41*40 = 44,427,600 > 13,983,816\n",
    "    total_num_successful_outcomes=num_of_int_num_combin*count  \n",
    "    prob_of_int_perc=total_num_successful_outcomes/combinations(49,6)*100\n",
    "    return 'The probability of matching {} \\\n",
    "of the six numbers to the winning lottery number \\\n",
    "is: {:f}%'.format(int_between_2_and_5,prob_of_int_perc)\n"
   ]
  },
  {
   "cell_type": "code",
   "execution_count": 61,
   "metadata": {
    "collapsed": false,
    "scrolled": true
   },
   "outputs": [
    {
     "name": "stdout",
     "output_type": "stream",
     "text": [
      "The probability of matching 2 of the six numbers to the winning lottery number is: 13.237803%\n",
      "The probability of matching 3 of the six numbers to the winning lottery number is: 1.765040%\n",
      "The probability of matching 4 of the six numbers to the winning lottery number is: 0.096862%\n",
      "The probability of matching 5 of the six numbers to the winning lottery number is: 0.001845%\n"
     ]
    }
   ],
   "source": [
    "for i in [2,3,4,5]:\n",
    "    print(probability_less_6(i))"
   ]
  },
  {
   "cell_type": "markdown",
   "metadata": {},
   "source": [
    "### Understanding how to Write The Function\n",
    "Draw it out. Use a 4 digit code where each digit can be 0-9 (10 digits). Say for example you want to match 3 of them. You have a correct code of 0,1,2,3. That means there are 4!/(4-3)!/1! = 4 3-digit combos that will work (012,123,230,301). Keep in mind this is combinations so 012 is the same as 102 because order doesn't matter.\n",
    "\n",
    "Now, each one of the four different 3-digit combos that will work have a four empty digit. Say we are looking at 012 there could be 7 other numbers accompanying it (3,4,5,6,7,8,9). However, we only want 3/4 digits to match the correct code so 3 can't be an option because we would get 0123, so there are actually only 6 digits that can have that one spot. So therefore we need to calculate optionsCspots = 6!/(6-1)!1! = 6 combinations for each 3-digit combo and thus there would be 4 x 6 = 24 total number of successful outcomes.\n",
    "\n",
    "Say now that we only want 2 digits to match so if we have two spots and four unique digits there are 4!/(2-2)!/2! = six different 2-digit combos that will have 2/4 winning numbers. We also have two other spots to fill. Let's use 01 then we can have 8 other numbers accompanying it (2,3,4,5,6,7,8,9). However, we can't use 2 or 3 so now again we only have 6 digits that can have those 2 spots. 6!/(6-2)!2! = 15 combinations for each 2-digit combo and thus there would be 6 x 15 = 90 total number of successful outcomes.\n",
    "\n",
    "If this was a permutation problem then the order of the spots matter so say you wanted to know the number of permutations that include at least 2 of the 4 digits in 0123 and that it was still sampling without replacement so each value is unique. This means that 0123 and 1023 are different. The number of permutations for 10 digits and 4 spots would be 10!/(10-4)! = 5040 and only 4/10th of those "
   ]
  }
 ],
 "metadata": {
  "kernelspec": {
   "display_name": "Python 3",
   "language": "python",
   "name": "python3"
  },
  "language_info": {
   "codemirror_mode": {
    "name": "ipython",
    "version": 3
   },
   "file_extension": ".py",
   "mimetype": "text/x-python",
   "name": "python",
   "nbconvert_exporter": "python",
   "pygments_lexer": "ipython3",
   "version": "3.4.3"
  }
 },
 "nbformat": 4,
 "nbformat_minor": 2
}
