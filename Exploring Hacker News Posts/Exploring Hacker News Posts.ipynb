{
 "cells": [
  {
   "cell_type": "markdown",
   "metadata": {},
   "source": [
    "# Introduction - Exploring Hacker New Posts\n",
    "\"Hacker News is a site started by the startup incubator [Y Combinator](https://www.ycombinator.com), where user-submitted stories (known as \"posts\") are voted and commented upon, similar to reddit. Hacker News is extremely popular in technology and startup circles, and posts that make it to the top of Hacker News' listings can get hundreds of thousands of visitors as a result.\n",
    "\n",
    "You can find the data set [here](https://www.kaggle.com/hacker-news/hacker-news-posts), but note that it has been reduced from almost 300,000 rows to approximately 20,000 rows by removing all submissions that did not receive any comments, and then randomly sampling from the remaining submissions.\"\n",
    "\n",
    "On the site there are Ask HN posts that involve questions for the community and Show HN posts that involve showing the community a product, project or just something interesting. Here the data will be used in order to gain insight on the following questions: \n",
    "\n",
    "- Do Ask HN or Show HN receive more comments on average?\n",
    "\n",
    "- Do posts created at a certain time receive more comments on average?"
   ]
  },
  {
   "cell_type": "markdown",
   "metadata": {},
   "source": [
    "# PART I\n",
    "## Introduction\n",
    "[ ] Which posts recieve more comments on average `Ask HN` or `Show HN`? <br>\n",
    "[ ] Does the time the post was created affect the the average number of comments?"
   ]
  },
  {
   "cell_type": "markdown",
   "metadata": {},
   "source": [
    "# PART II\n",
    "## Removing Headers from a List of Lists"
   ]
  },
  {
   "cell_type": "code",
   "execution_count": 1,
   "metadata": {
    "collapsed": false,
    "scrolled": false
   },
   "outputs": [
    {
     "name": "stdout",
     "output_type": "stream",
     "text": [
      "20100\n",
      "\n",
      "\n",
      "[['12224879', 'Interactive Dynamic Video', 'http://www.interactivedynamicvideo.com/', '386', '52', 'ne0phyte', '8/4/2016 11:52'], ['10975351', 'How to Use Open Source and Shut the Fuck Up at the Same Time', 'http://hueniverse.com/2016/01/26/how-to-use-open-source-and-shut-the-fuck-up-at-the-same-time/', '39', '10', 'josep2', '1/26/2016 19:30'], ['11964716', \"Florida DJs May Face Felony for April Fools' Water Joke\", 'http://www.thewire.com/entertainment/2013/04/florida-djs-april-fools-water-joke/63798/', '2', '1', 'vezycash', '6/23/2016 22:20'], ['11919867', 'Technology ventures: From Idea to Enterprise', 'https://www.amazon.com/Technology-Ventures-Enterprise-Thomas-Byers/dp/0073523429', '3', '1', 'hswarna', '6/17/2016 0:01'], ['10301696', 'Note by Note: The Making of Steinway L1037 (2007)', 'http://www.nytimes.com/2007/11/07/movies/07stein.html?_r=0', '8', '2', 'walterbell', '9/30/2015 4:12']]\n"
     ]
    }
   ],
   "source": [
    "# OPEN FILE\n",
    "from csv import reader\n",
    "op=open('hacker_news.csv')\n",
    "rd=reader(op)\n",
    "hn=list(rd)\n",
    "hd=hn[0]\n",
    "hn=hn[1:]\n",
    "print(len(hn))\n",
    "print('\\n')\n",
    "print(hn[0:5])"
   ]
  },
  {
   "cell_type": "markdown",
   "metadata": {},
   "source": [
    "# PART III\n",
    "## Extracting Ask HN and Show HN Posts"
   ]
  },
  {
   "cell_type": "code",
   "execution_count": 2,
   "metadata": {
    "collapsed": false,
    "scrolled": true
   },
   "outputs": [
    {
     "name": "stdout",
     "output_type": "stream",
     "text": [
      "ask posts:  1744\n",
      "show posts:  1162\n",
      "other posts:  17194\n"
     ]
    }
   ],
   "source": [
    "ask_posts=[]\n",
    "show_posts=[]\n",
    "other_posts=[]\n",
    "for row in hn:\n",
    "    title=row[1]\n",
    "    if title.lower().startswith('ask hn'):\n",
    "        ask_posts.append(row)\n",
    "    elif title.lower().startswith('show hn'):\n",
    "        show_posts.append(row)\n",
    "    else:\n",
    "        other_posts.append(row)\n",
    "print('ask posts: ',len(ask_posts))\n",
    "print('show posts: ',len(show_posts))\n",
    "print('other posts: ',len(other_posts))\n",
    "#print(ask_posts[0:6])    "
   ]
  },
  {
   "cell_type": "markdown",
   "metadata": {},
   "source": [
    "# PART IV\n",
    "## Calculating the Average Number of Comments for Ask HN and Show HN Posts"
   ]
  },
  {
   "cell_type": "code",
   "execution_count": 3,
   "metadata": {
    "collapsed": false
   },
   "outputs": [
    {
     "name": "stdout",
     "output_type": "stream",
     "text": [
      "14.038417431192661\n",
      "10.31669535283993\n"
     ]
    }
   ],
   "source": [
    "total_ask_comments=0\n",
    "for row in ask_posts:\n",
    "    num_com=int(row[4])\n",
    "    total_ask_comments+=num_com\n",
    "avg_ask_comments=total_ask_comments/len(ask_posts)\n",
    "print(avg_ask_comments)\n",
    "\n",
    "total_show_comments=0\n",
    "for row in show_posts:\n",
    "    num_com_s=int(row[4])\n",
    "    total_show_comments+=num_com_s\n",
    "avg_show_comments=total_show_comments/len(show_posts)\n",
    "print(avg_show_comments)"
   ]
  },
  {
   "cell_type": "markdown",
   "metadata": {},
   "source": [
    "We can see above, that ask posts have more comments on average by about four comments - which is about 40% of the show comments (14-10)/10"
   ]
  },
  {
   "cell_type": "markdown",
   "metadata": {},
   "source": [
    "# Part V\n",
    "## Finding the Amount of Ask Posts and Comments by Hour Created"
   ]
  },
  {
   "cell_type": "code",
   "execution_count": 4,
   "metadata": {
    "collapsed": false,
    "scrolled": true
   },
   "outputs": [
    {
     "name": "stdout",
     "output_type": "stream",
     "text": [
      "['11/22/2015 13:43', 29]\n",
      "{'10': 794, '07': 269, '03': 422, '21': 1749, '04': 340, '05': 493, '00': 457, '17': 1147, '22': 481, '18': 1441, '11': 643, '23': 544, '02': 1384, '20': 1724, '01': 716, '15': 4478, '16': 1831, '08': 497, '19': 1191, '14': 1419, '12': 691, '13': 1282, '09': 257, '06': 398}\n"
     ]
    },
    {
     "data": {
      "text/plain": [
       "{'00': 56,\n",
       " '01': 61,\n",
       " '02': 59,\n",
       " '03': 55,\n",
       " '04': 48,\n",
       " '05': 47,\n",
       " '06': 45,\n",
       " '07': 35,\n",
       " '08': 49,\n",
       " '09': 46,\n",
       " '10': 60,\n",
       " '11': 59,\n",
       " '12': 74,\n",
       " '13': 86,\n",
       " '14': 108,\n",
       " '15': 117,\n",
       " '16': 109,\n",
       " '17': 101,\n",
       " '18': 110,\n",
       " '19': 111,\n",
       " '20': 81,\n",
       " '21': 110,\n",
       " '22': 72,\n",
       " '23': 69}"
      ]
     },
     "execution_count": 4,
     "metadata": {},
     "output_type": "execute_result"
    }
   ],
   "source": [
    "#AMOUNT OF POSTS AND COMMENTS BY HOUR\n",
    "import datetime as dt\n",
    "result_list=[]\n",
    "for row in ask_posts:\n",
    "    created_at=row[6]\n",
    "    num_com=int(row[4])\n",
    "    result_list.append([created_at,num_com])\n",
    "print(result_list[1])\n",
    "\n",
    "counts_by_hour={}\n",
    "comments_by_hour={}\n",
    "for row in result_list:\n",
    "#     hr=dt.datetime.strptime(row[0],'%m/%d/%Y %H:%M')\n",
    "    dt_obj=dt.datetime.strptime(row[0],'%m/%d/%Y %H:%M')\n",
    "    hr=dt.datetime.strftime(dt_obj,'%H')\n",
    "    if hr not in counts_by_hour:\n",
    "        counts_by_hour[hr]=1\n",
    "        comments_by_hour[hr]=row[1]\n",
    "    if hr in counts_by_hour:\n",
    "        counts_by_hour[hr]+=1\n",
    "        comments_by_hour[hr]+=row[1]\n",
    "print(comments_by_hour)\n",
    "counts_by_hour"
   ]
  },
  {
   "cell_type": "markdown",
   "metadata": {},
   "source": [
    "# Part VI\n",
    "## Calculating the Average Number of Comments for Ask HN Posts by Hour"
   ]
  },
  {
   "cell_type": "code",
   "execution_count": 5,
   "metadata": {
    "collapsed": false,
    "scrolled": true
   },
   "outputs": [
    {
     "data": {
      "text/plain": [
       "[['10', 13.233333333333333],\n",
       " ['07', 7.685714285714286],\n",
       " ['03', 7.672727272727273],\n",
       " ['21', 15.9],\n",
       " ['04', 7.083333333333333],\n",
       " ['05', 10.48936170212766],\n",
       " ['00', 8.160714285714286],\n",
       " ['17', 11.356435643564357],\n",
       " ['22', 6.680555555555555],\n",
       " ['18', 13.1],\n",
       " ['11', 10.898305084745763],\n",
       " ['23', 7.884057971014493],\n",
       " ['02', 23.45762711864407],\n",
       " ['20', 21.28395061728395],\n",
       " ['01', 11.737704918032787],\n",
       " ['15', 38.27350427350427],\n",
       " ['16', 16.798165137614678],\n",
       " ['08', 10.142857142857142],\n",
       " ['19', 10.72972972972973],\n",
       " ['14', 13.13888888888889],\n",
       " ['12', 9.337837837837839],\n",
       " ['13', 14.906976744186046],\n",
       " ['09', 5.586956521739131],\n",
       " ['06', 8.844444444444445]]"
      ]
     },
     "execution_count": 5,
     "metadata": {},
     "output_type": "execute_result"
    }
   ],
   "source": [
    "#Divide the value assigned to each of these comments/count\n",
    "avg_by_hour=[]\n",
    "for key in counts_by_hour:\n",
    "    avg_comments=comments_by_hour[key]/counts_by_hour[key]\n",
    "    avg_by_hour.append([key,avg_comments])\n",
    "avg_by_hour"
   ]
  },
  {
   "cell_type": "markdown",
   "metadata": {},
   "source": [
    "# PART VII\n",
    "## Sorting and Printing Values from a List of Lists"
   ]
  },
  {
   "cell_type": "code",
   "execution_count": 6,
   "metadata": {
    "collapsed": false
   },
   "outputs": [
    {
     "name": "stdout",
     "output_type": "stream",
     "text": [
      "Top 5 Hours for Ask Posts Comments\n",
      "15:00: 38.27 average comments per post\n",
      "02:00: 23.46 average comments per post\n",
      "20:00: 21.28 average comments per post\n",
      "16:00: 16.80 average comments per post\n",
      "21:00: 15.90 average comments per post\n"
     ]
    }
   ],
   "source": [
    "swap_avg_by_hour=[]\n",
    "for row in avg_by_hour:\n",
    "    swap_avg_by_hour.append([row[1],row[0]])\n",
    "#print(swap_avg_by_hour)\n",
    "\n",
    "sorted_swap=sorted(swap_avg_by_hour,reverse=True)\n",
    "print('Top 5 Hours for Ask Posts Comments')\n",
    "for average, hour in sorted_swap[:5]:\n",
    "    print(\"{}:00: {:.2f} average comments per post\".format(dt.datetime.strptime(hour,'%H').strftime('%H'),average))"
   ]
  },
  {
   "cell_type": "markdown",
   "metadata": {},
   "source": [
    "From the data above it is evident that the best time to post is 15:00 Eastern Standard Time (EST), or 3:00 pm EST, to recieve the most comments."
   ]
  }
 ],
 "metadata": {
  "kernelspec": {
   "display_name": "Python 3",
   "language": "python",
   "name": "python3"
  },
  "language_info": {
   "codemirror_mode": {
    "name": "ipython",
    "version": 3
   },
   "file_extension": ".py",
   "mimetype": "text/x-python",
   "name": "python",
   "nbconvert_exporter": "python",
   "pygments_lexer": "ipython3",
   "version": "3.4.3"
  }
 },
 "nbformat": 4,
 "nbformat_minor": 2
}
