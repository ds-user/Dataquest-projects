{
 "cells": [
  {
   "cell_type": "markdown",
   "metadata": {
    "collapsed": true
   },
   "source": [
    "# Predicting Car Prices\n",
    "Using machine learning, specifically the k-nearest neighbors algorithm, to predict a car's market price using its attributes"
   ]
  },
  {
   "cell_type": "markdown",
   "metadata": {},
   "source": [
    "## Part I - Introduction to the Data Set"
   ]
  },
  {
   "cell_type": "markdown",
   "metadata": {},
   "source": [
    "Read imports-85.data into a dataframe named cars. If you read in the file using pandas.read_csv() without specifying any additional parameter values, you'll notice that the column names don't match the ones in the dataset's documentation. Why do you think this is and how can you fix this?\n",
    "- Because there is no headers in the dataset and the way to fix it is to manually add the names of the columns in the names option of the pandas.read_csv() function. Specifying the column names will convert the header aquisition default of row 0 to none. Headers can be found [here](https://archive.ics.uci.edu/ml/datasets/automobile)\n",
    "\n",
    "Display the first few rows of the dataframe and make sure it looks like the data set preview."
   ]
  },
  {
   "cell_type": "code",
   "execution_count": 1,
   "metadata": {
    "collapsed": false,
    "scrolled": true
   },
   "outputs": [
    {
     "data": {
      "text/html": [
       "<div>\n",
       "<style scoped>\n",
       "    .dataframe tbody tr th:only-of-type {\n",
       "        vertical-align: middle;\n",
       "    }\n",
       "\n",
       "    .dataframe tbody tr th {\n",
       "        vertical-align: top;\n",
       "    }\n",
       "\n",
       "    .dataframe thead th {\n",
       "        text-align: right;\n",
       "    }\n",
       "</style>\n",
       "<table border=\"1\" class=\"dataframe\">\n",
       "  <thead>\n",
       "    <tr style=\"text-align: right;\">\n",
       "      <th></th>\n",
       "      <th>symboling</th>\n",
       "      <th>normalized_losses</th>\n",
       "      <th>make</th>\n",
       "      <th>fuel_type</th>\n",
       "      <th>aspiration</th>\n",
       "      <th>num_of_doors</th>\n",
       "      <th>body_style</th>\n",
       "      <th>drive_wheels</th>\n",
       "      <th>engine_location</th>\n",
       "      <th>wheel_base</th>\n",
       "      <th>...</th>\n",
       "      <th>engine_size</th>\n",
       "      <th>fuel_system</th>\n",
       "      <th>bore</th>\n",
       "      <th>stroke</th>\n",
       "      <th>compression_ratio</th>\n",
       "      <th>horsepower</th>\n",
       "      <th>peak_rpm</th>\n",
       "      <th>city_mpg</th>\n",
       "      <th>highway_mpg</th>\n",
       "      <th>price</th>\n",
       "    </tr>\n",
       "  </thead>\n",
       "  <tbody>\n",
       "    <tr>\n",
       "      <th>0</th>\n",
       "      <td>3</td>\n",
       "      <td>?</td>\n",
       "      <td>alfa-romero</td>\n",
       "      <td>gas</td>\n",
       "      <td>std</td>\n",
       "      <td>two</td>\n",
       "      <td>convertible</td>\n",
       "      <td>rwd</td>\n",
       "      <td>front</td>\n",
       "      <td>88.6</td>\n",
       "      <td>...</td>\n",
       "      <td>130</td>\n",
       "      <td>mpfi</td>\n",
       "      <td>3.47</td>\n",
       "      <td>2.68</td>\n",
       "      <td>9.0</td>\n",
       "      <td>111</td>\n",
       "      <td>5000</td>\n",
       "      <td>21</td>\n",
       "      <td>27</td>\n",
       "      <td>13495</td>\n",
       "    </tr>\n",
       "    <tr>\n",
       "      <th>1</th>\n",
       "      <td>3</td>\n",
       "      <td>?</td>\n",
       "      <td>alfa-romero</td>\n",
       "      <td>gas</td>\n",
       "      <td>std</td>\n",
       "      <td>two</td>\n",
       "      <td>convertible</td>\n",
       "      <td>rwd</td>\n",
       "      <td>front</td>\n",
       "      <td>88.6</td>\n",
       "      <td>...</td>\n",
       "      <td>130</td>\n",
       "      <td>mpfi</td>\n",
       "      <td>3.47</td>\n",
       "      <td>2.68</td>\n",
       "      <td>9.0</td>\n",
       "      <td>111</td>\n",
       "      <td>5000</td>\n",
       "      <td>21</td>\n",
       "      <td>27</td>\n",
       "      <td>16500</td>\n",
       "    </tr>\n",
       "    <tr>\n",
       "      <th>2</th>\n",
       "      <td>1</td>\n",
       "      <td>?</td>\n",
       "      <td>alfa-romero</td>\n",
       "      <td>gas</td>\n",
       "      <td>std</td>\n",
       "      <td>two</td>\n",
       "      <td>hatchback</td>\n",
       "      <td>rwd</td>\n",
       "      <td>front</td>\n",
       "      <td>94.5</td>\n",
       "      <td>...</td>\n",
       "      <td>152</td>\n",
       "      <td>mpfi</td>\n",
       "      <td>2.68</td>\n",
       "      <td>3.47</td>\n",
       "      <td>9.0</td>\n",
       "      <td>154</td>\n",
       "      <td>5000</td>\n",
       "      <td>19</td>\n",
       "      <td>26</td>\n",
       "      <td>16500</td>\n",
       "    </tr>\n",
       "    <tr>\n",
       "      <th>3</th>\n",
       "      <td>2</td>\n",
       "      <td>164</td>\n",
       "      <td>audi</td>\n",
       "      <td>gas</td>\n",
       "      <td>std</td>\n",
       "      <td>four</td>\n",
       "      <td>sedan</td>\n",
       "      <td>fwd</td>\n",
       "      <td>front</td>\n",
       "      <td>99.8</td>\n",
       "      <td>...</td>\n",
       "      <td>109</td>\n",
       "      <td>mpfi</td>\n",
       "      <td>3.19</td>\n",
       "      <td>3.40</td>\n",
       "      <td>10.0</td>\n",
       "      <td>102</td>\n",
       "      <td>5500</td>\n",
       "      <td>24</td>\n",
       "      <td>30</td>\n",
       "      <td>13950</td>\n",
       "    </tr>\n",
       "    <tr>\n",
       "      <th>4</th>\n",
       "      <td>2</td>\n",
       "      <td>164</td>\n",
       "      <td>audi</td>\n",
       "      <td>gas</td>\n",
       "      <td>std</td>\n",
       "      <td>four</td>\n",
       "      <td>sedan</td>\n",
       "      <td>4wd</td>\n",
       "      <td>front</td>\n",
       "      <td>99.4</td>\n",
       "      <td>...</td>\n",
       "      <td>136</td>\n",
       "      <td>mpfi</td>\n",
       "      <td>3.19</td>\n",
       "      <td>3.40</td>\n",
       "      <td>8.0</td>\n",
       "      <td>115</td>\n",
       "      <td>5500</td>\n",
       "      <td>18</td>\n",
       "      <td>22</td>\n",
       "      <td>17450</td>\n",
       "    </tr>\n",
       "  </tbody>\n",
       "</table>\n",
       "<p>5 rows × 26 columns</p>\n",
       "</div>"
      ],
      "text/plain": [
       "   symboling normalized_losses         make fuel_type aspiration num_of_doors  \\\n",
       "0          3                 ?  alfa-romero       gas        std          two   \n",
       "1          3                 ?  alfa-romero       gas        std          two   \n",
       "2          1                 ?  alfa-romero       gas        std          two   \n",
       "3          2               164         audi       gas        std         four   \n",
       "4          2               164         audi       gas        std         four   \n",
       "\n",
       "    body_style drive_wheels engine_location  wheel_base  ...    engine_size  \\\n",
       "0  convertible          rwd           front        88.6  ...            130   \n",
       "1  convertible          rwd           front        88.6  ...            130   \n",
       "2    hatchback          rwd           front        94.5  ...            152   \n",
       "3        sedan          fwd           front        99.8  ...            109   \n",
       "4        sedan          4wd           front        99.4  ...            136   \n",
       "\n",
       "   fuel_system  bore  stroke compression_ratio horsepower  peak_rpm city_mpg  \\\n",
       "0         mpfi  3.47    2.68               9.0        111      5000       21   \n",
       "1         mpfi  3.47    2.68               9.0        111      5000       21   \n",
       "2         mpfi  2.68    3.47               9.0        154      5000       19   \n",
       "3         mpfi  3.19    3.40              10.0        102      5500       24   \n",
       "4         mpfi  3.19    3.40               8.0        115      5500       18   \n",
       "\n",
       "  highway_mpg  price  \n",
       "0          27  13495  \n",
       "1          27  16500  \n",
       "2          26  16500  \n",
       "3          30  13950  \n",
       "4          22  17450  \n",
       "\n",
       "[5 rows x 26 columns]"
      ]
     },
     "execution_count": 1,
     "metadata": {},
     "output_type": "execute_result"
    }
   ],
   "source": [
    "import pandas as pd\n",
    "\n",
    "col_names=\\\n",
    "['symboling','normalized_losses','make','fuel_type','aspiration','num_of_doors',\n",
    "'body_style','drive_wheels','engine_location','wheel_base','length','width',\n",
    "'height','curb_weight','engine_type','num_of_cylinders','engine_size',\n",
    "'fuel_system','bore','stroke','compression_ratio','horsepower','peak_rpm',\n",
    "'city_mpg','highway_mpg','price']\n",
    "\n",
    "\n",
    "cars_og=pd.read_csv('imports-85.data',names=col_names)\n",
    "cars=cars_og.copy()\n",
    "cars.head()"
   ]
  },
  {
   "cell_type": "markdown",
   "metadata": {},
   "source": [
    "Determine which columns are numeric and can be used as features and which column is the target column.\n",
    "\n",
    "- **All numeric columns:**<br>\n",
    "symboling, normalized_losses, num_of_doors, wheel_base, length, width,\n",
    "height, curb_weight, num_of_cylinders, engine_size, bore, stroke,\n",
    "[compression_ratio](https://jalopnik.com/heres-what-compression-ratio-actually-means-and-why-it-1819723873), horsepower, peak_rpm, city_mpg, highway_mpg, price\n",
    "- **Non-continuous:**<br>\n",
    "symboling,num_of_doors,num_of_cylinders\n",
    "- **Hypothesized most relevant features for predicting price**<br>\n",
    "normalized_losses, city_mpg, highway_mpg, horsepower, num_of_cylinders,  peak_rpm, \n",
    "- **Target column:**<br> price"
   ]
  },
  {
   "cell_type": "code",
   "execution_count": 2,
   "metadata": {
    "collapsed": false
   },
   "outputs": [
    {
     "name": "stdout",
     "output_type": "stream",
     "text": [
      "<class 'pandas.core.frame.DataFrame'>\n",
      "RangeIndex: 205 entries, 0 to 204\n",
      "Data columns (total 26 columns):\n",
      "symboling            205 non-null int64\n",
      "normalized_losses    205 non-null object\n",
      "make                 205 non-null object\n",
      "fuel_type            205 non-null object\n",
      "aspiration           205 non-null object\n",
      "num_of_doors         205 non-null object\n",
      "body_style           205 non-null object\n",
      "drive_wheels         205 non-null object\n",
      "engine_location      205 non-null object\n",
      "wheel_base           205 non-null float64\n",
      "length               205 non-null float64\n",
      "width                205 non-null float64\n",
      "height               205 non-null float64\n",
      "curb_weight          205 non-null int64\n",
      "engine_type          205 non-null object\n",
      "num_of_cylinders     205 non-null object\n",
      "engine_size          205 non-null int64\n",
      "fuel_system          205 non-null object\n",
      "bore                 205 non-null object\n",
      "stroke               205 non-null object\n",
      "compression_ratio    205 non-null float64\n",
      "horsepower           205 non-null object\n",
      "peak_rpm             205 non-null object\n",
      "city_mpg             205 non-null int64\n",
      "highway_mpg          205 non-null int64\n",
      "price                205 non-null object\n",
      "dtypes: float64(5), int64(5), object(16)\n",
      "memory usage: 41.7+ KB\n"
     ]
    }
   ],
   "source": [
    "cars.info()"
   ]
  },
  {
   "cell_type": "code",
   "execution_count": 3,
   "metadata": {
    "collapsed": false,
    "scrolled": true
   },
   "outputs": [
    {
     "data": {
      "text/html": [
       "<div>\n",
       "<style scoped>\n",
       "    .dataframe tbody tr th:only-of-type {\n",
       "        vertical-align: middle;\n",
       "    }\n",
       "\n",
       "    .dataframe tbody tr th {\n",
       "        vertical-align: top;\n",
       "    }\n",
       "\n",
       "    .dataframe thead th {\n",
       "        text-align: right;\n",
       "    }\n",
       "</style>\n",
       "<table border=\"1\" class=\"dataframe\">\n",
       "  <thead>\n",
       "    <tr style=\"text-align: right;\">\n",
       "      <th></th>\n",
       "      <th>normalized_losses</th>\n",
       "      <th>num_of_doors</th>\n",
       "      <th>num_of_cylinders</th>\n",
       "      <th>bore</th>\n",
       "      <th>stroke</th>\n",
       "      <th>horsepower</th>\n",
       "      <th>peak_rpm</th>\n",
       "      <th>price</th>\n",
       "    </tr>\n",
       "  </thead>\n",
       "  <tbody>\n",
       "    <tr>\n",
       "      <th>0</th>\n",
       "      <td>?</td>\n",
       "      <td>two</td>\n",
       "      <td>four</td>\n",
       "      <td>3.47</td>\n",
       "      <td>2.68</td>\n",
       "      <td>111</td>\n",
       "      <td>5000</td>\n",
       "      <td>13495</td>\n",
       "    </tr>\n",
       "    <tr>\n",
       "      <th>1</th>\n",
       "      <td>?</td>\n",
       "      <td>two</td>\n",
       "      <td>four</td>\n",
       "      <td>3.47</td>\n",
       "      <td>2.68</td>\n",
       "      <td>111</td>\n",
       "      <td>5000</td>\n",
       "      <td>16500</td>\n",
       "    </tr>\n",
       "    <tr>\n",
       "      <th>2</th>\n",
       "      <td>?</td>\n",
       "      <td>two</td>\n",
       "      <td>six</td>\n",
       "      <td>2.68</td>\n",
       "      <td>3.47</td>\n",
       "      <td>154</td>\n",
       "      <td>5000</td>\n",
       "      <td>16500</td>\n",
       "    </tr>\n",
       "    <tr>\n",
       "      <th>3</th>\n",
       "      <td>164</td>\n",
       "      <td>four</td>\n",
       "      <td>four</td>\n",
       "      <td>3.19</td>\n",
       "      <td>3.40</td>\n",
       "      <td>102</td>\n",
       "      <td>5500</td>\n",
       "      <td>13950</td>\n",
       "    </tr>\n",
       "    <tr>\n",
       "      <th>4</th>\n",
       "      <td>164</td>\n",
       "      <td>four</td>\n",
       "      <td>five</td>\n",
       "      <td>3.19</td>\n",
       "      <td>3.40</td>\n",
       "      <td>115</td>\n",
       "      <td>5500</td>\n",
       "      <td>17450</td>\n",
       "    </tr>\n",
       "  </tbody>\n",
       "</table>\n",
       "</div>"
      ],
      "text/plain": [
       "  normalized_losses num_of_doors num_of_cylinders  bore stroke horsepower  \\\n",
       "0                 ?          two             four  3.47   2.68        111   \n",
       "1                 ?          two             four  3.47   2.68        111   \n",
       "2                 ?          two              six  2.68   3.47        154   \n",
       "3               164         four             four  3.19   3.40        102   \n",
       "4               164         four             five  3.19   3.40        115   \n",
       "\n",
       "  peak_rpm  price  \n",
       "0     5000  13495  \n",
       "1     5000  16500  \n",
       "2     5000  16500  \n",
       "3     5500  13950  \n",
       "4     5500  17450  "
      ]
     },
     "execution_count": 3,
     "metadata": {},
     "output_type": "execute_result"
    }
   ],
   "source": [
    "col_numeric_names=\\\n",
    "['symboling','normalized_losses','num_of_doors','wheel_base','length',\n",
    " 'width','height','curb_weight','num_of_cylinders','engine_size','bore',\n",
    " 'stroke','compression_ratio','horsepower','peak_rpm','city_mpg','highway_mpg','price']\n",
    "\n",
    "col_numeric_numeric_type_names=\\\n",
    "['symboling','wheel_base','length','width','height','curb_weight',\n",
    " 'engine_size','compression_ratio','city_mpg','highway_mpg']\n",
    "\n",
    "col_numeric_but_object_type_names=\\\n",
    "['normalized_losses','num_of_doors','num_of_cylinders','bore','stroke',\n",
    " 'horsepower','peak_rpm','price']\n",
    "\n",
    "cars.loc[:,col_numeric_but_object_type_names].head()"
   ]
  },
  {
   "cell_type": "markdown",
   "metadata": {},
   "source": [
    "**From numeric columns that are object types:**<br>\n",
    "- Integer type: normalized_losses, horsepower, peak_rpm and price\n",
    "- Float type: bore and stroke\n",
    "- String type: num_of_doors and num_of_cylinders"
   ]
  },
  {
   "cell_type": "markdown",
   "metadata": {},
   "source": [
    "## Part II - Data Cleaning\n",
    "To use feature in predictive modeling can't have any missing values. To prevent any feature from having too much of an effect on the error metric calculation going to rescale, or normalize, the values in the numeric columns so they all range from 0 to 1\n",
    "\n",
    "*Note:* This solution and the key will differ because here all the numeric columns were converted a numeric type, but in the key these columns were omitted: symboling, num_of_doors, num_of_cylinders and engine_size"
   ]
  },
  {
   "cell_type": "markdown",
   "metadata": {},
   "source": [
    "#### Convert All Numeric Columns to Numeric Types"
   ]
  },
  {
   "cell_type": "code",
   "execution_count": 4,
   "metadata": {
    "collapsed": false,
    "scrolled": false
   },
   "outputs": [],
   "source": [
    "import numpy as np\n",
    "cars=cars.replace('?',np.nan)\n",
    "\n",
    "object_type_excluding_written =['normalized_losses','bore','stroke',\n",
    " 'horsepower','peak_rpm','price']\n",
    "\n",
    "#int didn't work because of np.nan values therefore used float - https://stackoverflow.com/questions/21287624/convert-pandas-column-containing-nans-to-dtype-int\n",
    "cars[object_type_excluding_written]=\\\n",
    "    cars[object_type_excluding_written].astype(float)"
   ]
  },
  {
   "cell_type": "code",
   "execution_count": 5,
   "metadata": {
    "collapsed": false
   },
   "outputs": [],
   "source": [
    "def writtentoint(element):\n",
    "    written=['two','three','four','five','six','eight','twelve']\n",
    "    actual=[2,3,4,5,6,8,12]\n",
    "    if element=='four':\n",
    "        return 4\n",
    "    elif element=='six':\n",
    "        return 6\n",
    "    elif element=='five':\n",
    "        return 5\n",
    "    elif element=='eight':\n",
    "        return 8\n",
    "    elif element=='two':\n",
    "        return 2\n",
    "    elif element=='twelve':\n",
    "        return 12\n",
    "    elif element=='three':\n",
    "        return 3\n",
    "cars['num_of_cylinders']=cars['num_of_cylinders'].apply(writtentoint)        \n",
    "cars['num_of_cylinders']=cars['num_of_cylinders'].astype(float)"
   ]
  },
  {
   "cell_type": "code",
   "execution_count": 6,
   "metadata": {
    "collapsed": true
   },
   "outputs": [],
   "source": [
    "def writtentoint2(element):\n",
    "    written=['two','four']\n",
    "    actual=[2,4]\n",
    "    if element=='four':\n",
    "        return 4\n",
    "    elif element=='two':\n",
    "        return 2\n",
    "cars['num_of_doors']=cars['num_of_doors'].apply(writtentoint2)        \n",
    "cars['num_of_doors']=cars['num_of_doors'].astype(float)"
   ]
  },
  {
   "cell_type": "code",
   "execution_count": 7,
   "metadata": {
    "collapsed": false
   },
   "outputs": [],
   "source": [
    "cars_num = cars[col_numeric_names]"
   ]
  },
  {
   "cell_type": "markdown",
   "metadata": {},
   "source": [
    "#### Dealing with Missing Values\n",
    "Determine how you should handle columns with missing values. You could:\n",
    "- Replace the missing values using the average values from that column.\n",
    "- Drop the rows entirely (especially if other columns in those rows have missing values).\n",
    "- Drop the column entirely."
   ]
  },
  {
   "cell_type": "code",
   "execution_count": 8,
   "metadata": {
    "collapsed": false,
    "scrolled": true
   },
   "outputs": [
    {
     "data": {
      "text/plain": [
       "symboling             0\n",
       "normalized_losses    41\n",
       "num_of_doors          2\n",
       "wheel_base            0\n",
       "length                0\n",
       "width                 0\n",
       "height                0\n",
       "curb_weight           0\n",
       "num_of_cylinders      0\n",
       "engine_size           0\n",
       "bore                  4\n",
       "stroke                4\n",
       "compression_ratio     0\n",
       "horsepower            2\n",
       "peak_rpm              2\n",
       "city_mpg              0\n",
       "highway_mpg           0\n",
       "price                 4\n",
       "dtype: int64"
      ]
     },
     "execution_count": 8,
     "metadata": {},
     "output_type": "execute_result"
    }
   ],
   "source": [
    "cars_num.isnull().sum()"
   ]
  },
  {
   "cell_type": "markdown",
   "metadata": {},
   "source": [
    "Dropped the rows with no prices, because can not use those rows as target values"
   ]
  },
  {
   "cell_type": "code",
   "execution_count": 9,
   "metadata": {
    "collapsed": false,
    "scrolled": false
   },
   "outputs": [],
   "source": [
    "cars_num=cars_num.dropna(subset=['price'])"
   ]
  },
  {
   "cell_type": "markdown",
   "metadata": {},
   "source": [
    "Can't delete all rows with missing values because that would account for around 20% of the rows, which is quite large and certain columns should not be dropped because they are relevant features, so will take the average\n",
    "\n",
    "The normalized_losses column has the highest number of null values, so we will take a look into the distribution"
   ]
  },
  {
   "cell_type": "code",
   "execution_count": 10,
   "metadata": {
    "collapsed": false,
    "scrolled": true
   },
   "outputs": [
    {
     "name": "stdout",
     "output_type": "stream",
     "text": [
      "35.33394691904725\n",
      "122.0\n"
     ]
    },
    {
     "data": {
      "text/plain": [
       "<matplotlib.lines.Line2D at 0x7f29041415c0>"
      ]
     },
     "execution_count": 10,
     "metadata": {},
     "output_type": "execute_result"
    },
    {
     "data": {
      "image/png": "[encoded data removed]",
      "text/plain": [
       "<matplotlib.figure.Figure at 0x7f28d5eb17b8>"
      ]
     },
     "metadata": {},
     "output_type": "display_data"
    }
   ],
   "source": [
    "notnullnormalizedlosses=cars_num[cars_num['normalized_losses'].notnull()]['normalized_losses']\n",
    "print(np.std(notnullnormalizedlosses))\n",
    "print(np.mean(notnullnormalizedlosses))\n",
    "\n",
    "%matplotlib inline\n",
    "import matplotlib.pyplot as plt\n",
    "plt.hist(notnullnormalizedlosses)\n",
    "plt.axvline(np.mean(notnullnormalizedlosses))"
   ]
  },
  {
   "cell_type": "markdown",
   "metadata": {},
   "source": [
    "We will replace missing values with the mean of the column"
   ]
  },
  {
   "cell_type": "code",
   "execution_count": 11,
   "metadata": {
    "collapsed": false
   },
   "outputs": [],
   "source": [
    "cars_num = cars_num.fillna(cars_num.mean())"
   ]
  },
  {
   "cell_type": "markdown",
   "metadata": {},
   "source": [
    "#### Normalizing Numeric Columns except Target Column from Range of 0 to 1"
   ]
  },
  {
   "cell_type": "code",
   "execution_count": 12,
   "metadata": {
    "collapsed": false
   },
   "outputs": [],
   "source": [
    "#Normalize columns of pandas dataframe - https://stackoverflow.com/questions/26414913/normalize-columns-of-pandas-data-frame/48651066\n",
    "norm = cars_num.copy()\n",
    "norm = (norm-norm.min())/(norm.max()-norm.min())\n",
    "norm['price'] = cars_num['price']"
   ]
  },
  {
   "cell_type": "code",
   "execution_count": 13,
   "metadata": {
    "collapsed": false,
    "scrolled": true
   },
   "outputs": [
    {
     "data": {
      "text/html": [
       "<div>\n",
       "<style scoped>\n",
       "    .dataframe tbody tr th:only-of-type {\n",
       "        vertical-align: middle;\n",
       "    }\n",
       "\n",
       "    .dataframe tbody tr th {\n",
       "        vertical-align: top;\n",
       "    }\n",
       "\n",
       "    .dataframe thead th {\n",
       "        text-align: right;\n",
       "    }\n",
       "</style>\n",
       "<table border=\"1\" class=\"dataframe\">\n",
       "  <thead>\n",
       "    <tr style=\"text-align: right;\">\n",
       "      <th></th>\n",
       "      <th>symboling</th>\n",
       "      <th>normalized_losses</th>\n",
       "      <th>num_of_doors</th>\n",
       "      <th>wheel_base</th>\n",
       "      <th>length</th>\n",
       "      <th>width</th>\n",
       "      <th>height</th>\n",
       "      <th>curb_weight</th>\n",
       "      <th>num_of_cylinders</th>\n",
       "      <th>engine_size</th>\n",
       "      <th>bore</th>\n",
       "      <th>stroke</th>\n",
       "      <th>compression_ratio</th>\n",
       "      <th>horsepower</th>\n",
       "      <th>peak_rpm</th>\n",
       "      <th>city_mpg</th>\n",
       "      <th>highway_mpg</th>\n",
       "      <th>price</th>\n",
       "    </tr>\n",
       "  </thead>\n",
       "  <tbody>\n",
       "    <tr>\n",
       "      <th>0</th>\n",
       "      <td>1.0</td>\n",
       "      <td>0.298429</td>\n",
       "      <td>0.0</td>\n",
       "      <td>0.058309</td>\n",
       "      <td>0.413433</td>\n",
       "      <td>0.324786</td>\n",
       "      <td>0.083333</td>\n",
       "      <td>0.411171</td>\n",
       "      <td>0.2</td>\n",
       "      <td>0.260377</td>\n",
       "      <td>0.664286</td>\n",
       "      <td>0.290476</td>\n",
       "      <td>0.1250</td>\n",
       "      <td>0.294393</td>\n",
       "      <td>0.346939</td>\n",
       "      <td>0.222222</td>\n",
       "      <td>0.289474</td>\n",
       "      <td>13495.0</td>\n",
       "    </tr>\n",
       "    <tr>\n",
       "      <th>1</th>\n",
       "      <td>1.0</td>\n",
       "      <td>0.298429</td>\n",
       "      <td>0.0</td>\n",
       "      <td>0.058309</td>\n",
       "      <td>0.413433</td>\n",
       "      <td>0.324786</td>\n",
       "      <td>0.083333</td>\n",
       "      <td>0.411171</td>\n",
       "      <td>0.2</td>\n",
       "      <td>0.260377</td>\n",
       "      <td>0.664286</td>\n",
       "      <td>0.290476</td>\n",
       "      <td>0.1250</td>\n",
       "      <td>0.294393</td>\n",
       "      <td>0.346939</td>\n",
       "      <td>0.222222</td>\n",
       "      <td>0.289474</td>\n",
       "      <td>16500.0</td>\n",
       "    </tr>\n",
       "    <tr>\n",
       "      <th>2</th>\n",
       "      <td>0.6</td>\n",
       "      <td>0.298429</td>\n",
       "      <td>0.0</td>\n",
       "      <td>0.230321</td>\n",
       "      <td>0.449254</td>\n",
       "      <td>0.444444</td>\n",
       "      <td>0.383333</td>\n",
       "      <td>0.517843</td>\n",
       "      <td>0.4</td>\n",
       "      <td>0.343396</td>\n",
       "      <td>0.100000</td>\n",
       "      <td>0.666667</td>\n",
       "      <td>0.1250</td>\n",
       "      <td>0.495327</td>\n",
       "      <td>0.346939</td>\n",
       "      <td>0.166667</td>\n",
       "      <td>0.263158</td>\n",
       "      <td>16500.0</td>\n",
       "    </tr>\n",
       "    <tr>\n",
       "      <th>3</th>\n",
       "      <td>0.8</td>\n",
       "      <td>0.518325</td>\n",
       "      <td>1.0</td>\n",
       "      <td>0.384840</td>\n",
       "      <td>0.529851</td>\n",
       "      <td>0.504274</td>\n",
       "      <td>0.541667</td>\n",
       "      <td>0.329325</td>\n",
       "      <td>0.2</td>\n",
       "      <td>0.181132</td>\n",
       "      <td>0.464286</td>\n",
       "      <td>0.633333</td>\n",
       "      <td>0.1875</td>\n",
       "      <td>0.252336</td>\n",
       "      <td>0.551020</td>\n",
       "      <td>0.305556</td>\n",
       "      <td>0.368421</td>\n",
       "      <td>13950.0</td>\n",
       "    </tr>\n",
       "    <tr>\n",
       "      <th>4</th>\n",
       "      <td>0.8</td>\n",
       "      <td>0.518325</td>\n",
       "      <td>1.0</td>\n",
       "      <td>0.373178</td>\n",
       "      <td>0.529851</td>\n",
       "      <td>0.521368</td>\n",
       "      <td>0.541667</td>\n",
       "      <td>0.518231</td>\n",
       "      <td>0.3</td>\n",
       "      <td>0.283019</td>\n",
       "      <td>0.464286</td>\n",
       "      <td>0.633333</td>\n",
       "      <td>0.0625</td>\n",
       "      <td>0.313084</td>\n",
       "      <td>0.551020</td>\n",
       "      <td>0.138889</td>\n",
       "      <td>0.157895</td>\n",
       "      <td>17450.0</td>\n",
       "    </tr>\n",
       "  </tbody>\n",
       "</table>\n",
       "</div>"
      ],
      "text/plain": [
       "   symboling  normalized_losses  num_of_doors  wheel_base    length     width  \\\n",
       "0        1.0           0.298429           0.0    0.058309  0.413433  0.324786   \n",
       "1        1.0           0.298429           0.0    0.058309  0.413433  0.324786   \n",
       "2        0.6           0.298429           0.0    0.230321  0.449254  0.444444   \n",
       "3        0.8           0.518325           1.0    0.384840  0.529851  0.504274   \n",
       "4        0.8           0.518325           1.0    0.373178  0.529851  0.521368   \n",
       "\n",
       "     height  curb_weight  num_of_cylinders  engine_size      bore    stroke  \\\n",
       "0  0.083333     0.411171               0.2     0.260377  0.664286  0.290476   \n",
       "1  0.083333     0.411171               0.2     0.260377  0.664286  0.290476   \n",
       "2  0.383333     0.517843               0.4     0.343396  0.100000  0.666667   \n",
       "3  0.541667     0.329325               0.2     0.181132  0.464286  0.633333   \n",
       "4  0.541667     0.518231               0.3     0.283019  0.464286  0.633333   \n",
       "\n",
       "   compression_ratio  horsepower  peak_rpm  city_mpg  highway_mpg    price  \n",
       "0             0.1250    0.294393  0.346939  0.222222     0.289474  13495.0  \n",
       "1             0.1250    0.294393  0.346939  0.222222     0.289474  16500.0  \n",
       "2             0.1250    0.495327  0.346939  0.166667     0.263158  16500.0  \n",
       "3             0.1875    0.252336  0.551020  0.305556     0.368421  13950.0  \n",
       "4             0.0625    0.313084  0.551020  0.138889     0.157895  17450.0  "
      ]
     },
     "execution_count": 13,
     "metadata": {},
     "output_type": "execute_result"
    }
   ],
   "source": [
    "norm.head()"
   ]
  },
  {
   "cell_type": "markdown",
   "metadata": {},
   "source": [
    "## Part III - Univariate Model"
   ]
  },
  {
   "cell_type": "code",
   "execution_count": 14,
   "metadata": {
    "collapsed": false
   },
   "outputs": [],
   "source": [
    "from sklearn.neighbors import KNeighborsRegressor\n",
    "from sklearn.metrics import mean_squared_error\n",
    "def knn_train_test(training_col,target_col,df):\n",
    "    np.random.seed(1) #if don't do this get different rmse value for every run\n",
    "    shuffled_index = np.random.permutation(df.index)\n",
    "    shuffled_df = df.reindex(shuffled_index)\n",
    "    index_fifty = int(shuffled_df.shape[0]/2)\n",
    "    train = shuffled_df[:index_fifty]\n",
    "    test = shuffled_df[index_fifty:]\n",
    "    knn = KNeighborsRegressor()\n",
    "    knn.fit(train[[training_col]],train[target_col])\n",
    "    predictions = knn.predict(test[[training_col]])\n",
    "    rmse = mean_squared_error(test[target_col],predictions)**0.5\n",
    "    return rmse"
   ]
  },
  {
   "cell_type": "code",
   "execution_count": 15,
   "metadata": {
    "collapsed": false
   },
   "outputs": [],
   "source": [
    "col_rmse_list=list()\n",
    "for cols in col_numeric_names: \n",
    "    col_rmse_list.append(knn_train_test(cols,'price',cars_num))\n",
    "rmse = pd.Series(col_rmse_list,index=col_numeric_names)\n",
    "rmse_sorted=rmse.sort_values(ascending=False)"
   ]
  },
  {
   "cell_type": "code",
   "execution_count": 16,
   "metadata": {
    "collapsed": false,
    "scrolled": true
   },
   "outputs": [
    {
     "data": {
      "text/plain": [
       "<matplotlib.axes._subplots.AxesSubplot at 0x7f28c96ae5f8>"
      ]
     },
     "execution_count": 16,
     "metadata": {},
     "output_type": "execute_result"
    },
    {
     "data": {
      "image/png": "[encoded data removed]",
      "text/plain": [
       "<matplotlib.figure.Figure at 0x7f28d5eb10f0>"
      ]
     },
     "metadata": {},
     "output_type": "display_data"
    }
   ],
   "source": [
    "rmse_sorted.plot.barh()"
   ]
  },
  {
   "cell_type": "markdown",
   "metadata": {},
   "source": [
    "Use this function to train and test univariate models using the different numeric columns in the data set. Which column performed the best using the default k value?\n",
    "- When the default k value (number of nearest neighbors) is used, the numeric column with the lowest root mean squared error metric is engine size"
   ]
  },
  {
   "cell_type": "code",
   "execution_count": 17,
   "metadata": {
    "collapsed": true
   },
   "outputs": [],
   "source": [
    "def knn_train_testK(training_col,target_col,df,k):\n",
    "    np.random.seed(1) #if don't do this get different rmse value for every run\n",
    "    shuffled_index = np.random.permutation(df.index)\n",
    "    shuffled_df = df.reindex(shuffled_index)\n",
    "    index_fifty = int(shuffled_df.shape[0]/2)\n",
    "    train = shuffled_df[:index_fifty]\n",
    "    test = shuffled_df[index_fifty:]\n",
    "    rmse_each_k = dict()\n",
    "    for each_k in k:\n",
    "        knn = KNeighborsRegressor(n_neighbors=each_k)\n",
    "        knn.fit(train[[training_col]],train[target_col])\n",
    "        predictions = knn.predict(test[[training_col]])\n",
    "        rmse = mean_squared_error(test[target_col],predictions)**0.5\n",
    "        rmse_each_k[each_k] = rmse\n",
    "    return rmse_each_k"
   ]
  },
  {
   "cell_type": "code",
   "execution_count": 18,
   "metadata": {
    "collapsed": false,
    "scrolled": true
   },
   "outputs": [
    {
     "data": {
      "text/plain": [
       "{'bore': {1: 8602.58848450066,\n",
       "  3: 6984.239489480916,\n",
       "  5: 6795.388311535586,\n",
       "  7: 6896.559499627726,\n",
       "  9: 6882.822815090022},\n",
       " 'city_mpg': {1: 5901.143574354764,\n",
       "  3: 4608.180446380397,\n",
       "  5: 4760.44984187731,\n",
       "  7: 5218.847825621605,\n",
       "  9: 5446.82446248222},\n",
       " 'compression_ratio': {1: 8087.205346523092,\n",
       "  3: 7375.063685578359,\n",
       "  5: 6610.812153159129,\n",
       "  7: 6732.801282941515,\n",
       "  9: 7024.485525463435},\n",
       " 'curb_weight': {1: 5264.290230758878,\n",
       "  3: 5022.318011757233,\n",
       "  5: 4445.141920375235,\n",
       "  7: 4330.608104418053,\n",
       "  9: 4632.92525121302},\n",
       " 'engine_size': {1: 3258.4861059962027,\n",
       "  3: 2951.5259704863593,\n",
       "  5: 3271.449938331611,\n",
       "  7: 3563.086774256415,\n",
       "  9: 3831.8244149840766},\n",
       " 'height': {1: 8751.160007407449,\n",
       "  3: 8121.165102604576,\n",
       "  5: 8073.1197593196175,\n",
       "  7: 7693.302663098179,\n",
       "  9: 7776.396862418894},\n",
       " 'highway_mpg': {1: 6025.594966720739,\n",
       "  3: 4671.390389789466,\n",
       "  5: 4643.046277675214,\n",
       "  7: 4792.485755925797,\n",
       "  9: 5227.337381566373},\n",
       " 'horsepower': {1: 4170.054848037801,\n",
       "  3: 4020.105451002961,\n",
       "  5: 4048.4377247389034,\n",
       "  7: 4205.3935213758805,\n",
       "  9: 4514.504641478055},\n",
       " 'length': {1: 4611.990241761035,\n",
       "  3: 5129.672039752984,\n",
       "  5: 5428.810101415201,\n",
       "  7: 5311.9103449731665,\n",
       "  9: 5383.054514833446},\n",
       " 'normalized_losses': {1: 7836.7752643899685,\n",
       "  3: 7516.084828453897,\n",
       "  5: 7339.675755133537,\n",
       "  7: 7759.126829130677,\n",
       "  9: 7794.746366502435},\n",
       " 'num_of_cylinders': {1: 5589.021323669793,\n",
       "  3: 5404.32687811355,\n",
       "  5: 5417.206767146682,\n",
       "  7: 5778.610150142224,\n",
       "  9: 5974.405013983904},\n",
       " 'num_of_doors': {1: 10269.153015388627,\n",
       "  3: 8668.266696996177,\n",
       "  5: 9045.589026943266,\n",
       "  7: 8284.974904434199,\n",
       "  9: 8411.641184008477},\n",
       " 'peak_rpm': {1: 9511.480067750124,\n",
       "  3: 8537.550899973421,\n",
       "  5: 7649.170564081823,\n",
       "  7: 7549.741950042047,\n",
       "  9: 7372.170592767732},\n",
       " 'price': {1: 1050.1875834326167,\n",
       "  3: 1241.5353951916766,\n",
       "  5: 1427.0212970303621,\n",
       "  7: 1595.5216259393571,\n",
       "  9: 1788.6747156706278},\n",
       " 'stroke': {1: 9043.351317377035,\n",
       "  3: 7247.307977352132,\n",
       "  5: 7954.3010342434445,\n",
       "  7: 7777.566954222874,\n",
       "  9: 7755.398786442634},\n",
       " 'symboling': {1: 8420.026461589143,\n",
       "  3: 8736.916665985938,\n",
       "  5: 7979.434919842381,\n",
       "  7: 7884.532513187155,\n",
       "  9: 7817.760486088469},\n",
       " 'wheel_base': {1: 4493.734068810494,\n",
       "  3: 5208.39331165465,\n",
       "  5: 5460.851458362242,\n",
       "  7: 5448.1070513823315,\n",
       "  9: 5738.405685192312},\n",
       " 'width': {1: 4559.257297950061,\n",
       "  3: 4595.4858709976525,\n",
       "  5: 4772.459149439554,\n",
       "  7: 4715.918441236321,\n",
       "  9: 4730.373071846554}}"
      ]
     },
     "execution_count": 18,
     "metadata": {},
     "output_type": "execute_result"
    }
   ],
   "source": [
    "col_rmse_k_dict=dict()\n",
    "for cols in col_numeric_names: \n",
    "    col_rmse_k_dict[cols] = knn_train_testK(cols,'price',cars_num,[1,3,5,7,9])\n",
    "col_rmse_k_dict"
   ]
  },
  {
   "cell_type": "code",
   "execution_count": 44,
   "metadata": {
    "collapsed": false,
    "scrolled": true
   },
   "outputs": [
    {
     "data": {
      "text/plain": [
       "<matplotlib.text.Text at 0x7f28c91ddf98>"
      ]
     },
     "execution_count": 44,
     "metadata": {},
     "output_type": "execute_result"
    },
    {
     "data": {
      "image/png": "[encoded data removed]",
      "text/plain": [
       "<matplotlib.figure.Figure at 0x7f28c923c518>"
      ]
     },
     "metadata": {},
     "output_type": "display_data"
    }
   ],
   "source": [
    "for key,value in col_rmse_k_dict.items():\n",
    "    x=list(value.keys())\n",
    "    y=list(value.values())\n",
    "    x,y = zip(*sorted(zip(x, y)))\n",
    "    plt.plot(x,y)\n",
    "    #plt.legend(key)\n",
    "plt.xlabel('k vales')\n",
    "plt.ylabel('RMSE')\n",
    "#Python's Matplotlib plotting in wrong order - https://stackoverflow.com/questions/37414916/pythons-matplotlib-plotting-in-wrong-order"
   ]
  },
  {
   "cell_type": "markdown",
   "metadata": {},
   "source": [
    "## Part IV - Multivariate Model"
   ]
  },
  {
   "cell_type": "code",
   "execution_count": 20,
   "metadata": {
    "collapsed": true
   },
   "outputs": [],
   "source": [
    "def knn_train_testM(training_col,target_col,df):\n",
    "    np.random.seed(1) #if don't do this get different rmse value for every run\n",
    "    shuffled_index = np.random.permutation(df.index)\n",
    "    shuffled_df = df.reindex(shuffled_index)\n",
    "    index_fifty = int(shuffled_df.shape[0]/2)\n",
    "    train = shuffled_df[:index_fifty]\n",
    "    test = shuffled_df[index_fifty:]\n",
    "    knn = KNeighborsRegressor()\n",
    "    knn.fit(train[training_col],train[target_col])\n",
    "    predictions = knn.predict(test[training_col])\n",
    "    rmse = mean_squared_error(test[target_col],predictions)**0.5\n",
    "    return rmse"
   ]
  },
  {
   "cell_type": "markdown",
   "metadata": {},
   "source": [
    "For k=5 (default) from knn_train_test rmses are in list rmse_sorted"
   ]
  },
  {
   "cell_type": "code",
   "execution_count": 21,
   "metadata": {
    "collapsed": false,
    "scrolled": true
   },
   "outputs": [],
   "source": [
    "rmse_sorted=rmse_sorted.drop('price')"
   ]
  },
  {
   "cell_type": "code",
   "execution_count": 22,
   "metadata": {
    "collapsed": false
   },
   "outputs": [],
   "source": [
    "rmse_sorted=rmse_sorted.sort_values()"
   ]
  },
  {
   "cell_type": "code",
   "execution_count": 23,
   "metadata": {
    "collapsed": false
   },
   "outputs": [],
   "source": [
    "best2 = rmse_sorted[:2].index\n",
    "best3 = rmse_sorted[:3].index\n",
    "best4 = rmse_sorted[:4].index\n",
    "best5 = rmse_sorted[:5].index"
   ]
  },
  {
   "cell_type": "code",
   "execution_count": 24,
   "metadata": {
    "collapsed": false
   },
   "outputs": [
    {
     "data": {
      "text/plain": [
       "engine_size          3271.449938\n",
       "horsepower           4048.437725\n",
       "curb_weight          4445.141920\n",
       "highway_mpg          4643.046278\n",
       "city_mpg             4760.449842\n",
       "width                4772.459149\n",
       "num_of_cylinders     5417.206767\n",
       "length               5428.810101\n",
       "wheel_base           5460.851458\n",
       "compression_ratio    6610.812153\n",
       "bore                 6795.388312\n",
       "normalized_losses    7339.675755\n",
       "peak_rpm             7649.170564\n",
       "stroke               7954.301034\n",
       "symboling            7979.434920\n",
       "height               8073.119759\n",
       "num_of_doors         9045.589027\n",
       "dtype: float64"
      ]
     },
     "execution_count": 24,
     "metadata": {},
     "output_type": "execute_result"
    }
   ],
   "source": [
    "rmse_sorted"
   ]
  },
  {
   "cell_type": "code",
   "execution_count": 25,
   "metadata": {
    "collapsed": false
   },
   "outputs": [
    {
     "data": {
      "text/plain": [
       "[engine_size, horsepower]                                        2925.004646\n",
       "[engine_size, horsepower, curb_weight]                           3864.067382\n",
       "[engine_size, horsepower, curb_weight, highway_mpg]              3870.683880\n",
       "[engine_size, horsepower, curb_weight, highway_mpg, city_mpg]    3870.683880\n",
       "dtype: float64"
      ]
     },
     "execution_count": 25,
     "metadata": {},
     "output_type": "execute_result"
    }
   ],
   "source": [
    "bests=[best2,best3,best4,best5]\n",
    "bests_rmses=[]\n",
    "for best in bests:\n",
    "    bests_rmses.append(knn_train_testM(best,'price',cars_num))\n",
    "\n",
    "bests=pd.Series(bests)\n",
    "bests_rmses=pd.Series(bests_rmses)\n",
    "bests_rmses.index = bests\n",
    "bests_rmses = bests_rmses.sort_values()\n",
    "bests_rmses"
   ]
  },
  {
   "cell_type": "markdown",
   "metadata": {},
   "source": [
    "Using the average rmse across k = [1,3,5,7,9] would yield the following list"
   ]
  },
  {
   "cell_type": "code",
   "execution_count": 26,
   "metadata": {
    "collapsed": false,
    "scrolled": true
   },
   "outputs": [],
   "source": [
    "features=[]\n",
    "avgk=[]\n",
    "for key,value in col_rmse_k_dict.items():\n",
    "    features.append(key)\n",
    "    vals=list(value.values())\n",
    "    avgk.append(sum(vals)/len(vals))\n",
    "features=pd.Series(features)\n",
    "avgk=avgk=pd.Series(avgk)\n",
    "avgk.index = features\n",
    "avgk=avgk.drop('price').sort_values()\n",
    "best2avg = avgk[:2].index\n",
    "best3avg = avgk[:3].index\n",
    "best4avg = avgk[:4].index\n",
    "best5avg = avgk[:5].index"
   ]
  },
  {
   "cell_type": "code",
   "execution_count": 27,
   "metadata": {
    "collapsed": false
   },
   "outputs": [
    {
     "data": {
      "text/plain": [
       "engine_size          3375.274641\n",
       "horsepower           4191.699237\n",
       "width                4674.698766\n",
       "curb_weight          4739.056704\n",
       "highway_mpg          5071.970954\n",
       "length               5173.087449\n",
       "city_mpg             5187.089230\n",
       "wheel_base           5269.898315\n",
       "num_of_cylinders     5632.714027\n",
       "compression_ratio    7166.073599\n",
       "bore                 7232.319720\n",
       "normalized_losses    7649.281809\n",
       "stroke               7955.585214\n",
       "height               8083.028879\n",
       "peak_rpm             8124.022815\n",
       "symboling            8167.734209\n",
       "num_of_doors         8935.924966\n",
       "dtype: float64"
      ]
     },
     "execution_count": 27,
     "metadata": {},
     "output_type": "execute_result"
    }
   ],
   "source": [
    "avgk"
   ]
  },
  {
   "cell_type": "code",
   "execution_count": 28,
   "metadata": {
    "collapsed": false
   },
   "outputs": [
    {
     "data": {
      "text/plain": [
       "[engine_size, horsepower, width]                              2901.007255\n",
       "[engine_size, horsepower]                                     2925.004646\n",
       "[engine_size, horsepower, width, curb_weight]                 3864.067382\n",
       "[engine_size, horsepower, width, curb_weight, highway_mpg]    3870.683880\n",
       "dtype: float64"
      ]
     },
     "execution_count": 28,
     "metadata": {},
     "output_type": "execute_result"
    }
   ],
   "source": [
    "bestsavg=[best2avg,best3avg,best4avg,best5avg]\n",
    "bestsavg_rmses=[]\n",
    "for best in bestsavg:\n",
    "    bestsavg_rmses.append(knn_train_testM(best,'price',cars_num))\n",
    "bestsavg=pd.Series(bestsavg)\n",
    "bestsavg_rmses=pd.Series(bestsavg_rmses)\n",
    "bestsavg_rmses.index = bestsavg\n",
    "bestsavg_rmses = bestsavg_rmses.sort_values()\n",
    "bestsavg_rmses"
   ]
  },
  {
   "cell_type": "markdown",
   "metadata": {},
   "source": [
    "## Part V - Hyperparamaters Tuning\n",
    "Optimize the model that performed the best in the previous step"
   ]
  },
  {
   "cell_type": "markdown",
   "metadata": {},
   "source": [
    "For the top 3 models in the last step, going to vary the hyperparameter value from 1 to 25 and plot the resulting RMSE values\n",
    "\n",
    "Going to use the best 3 models that had used multiple features with the lowest average RMSE when k varried from 1 to 9"
   ]
  },
  {
   "cell_type": "code",
   "execution_count": 29,
   "metadata": {
    "collapsed": true
   },
   "outputs": [],
   "source": [
    "def knn_train_testT(training_col,target_col,df,k):\n",
    "    np.random.seed(1) #if don't do this get different rmse value for every run\n",
    "    shuffled_index = np.random.permutation(df.index)\n",
    "    shuffled_df = df.reindex(shuffled_index)\n",
    "    index_fifty = int(shuffled_df.shape[0]/2)\n",
    "    train = shuffled_df[:index_fifty]\n",
    "    test = shuffled_df[index_fifty:]\n",
    "    rmse_each_k = dict()\n",
    "    for each_k in k:\n",
    "        knn = KNeighborsRegressor(n_neighbors=each_k)\n",
    "        knn.fit(train[training_col],train[target_col])\n",
    "        predictions = knn.predict(test[training_col])\n",
    "        rmse = mean_squared_error(test[target_col],predictions)**0.5\n",
    "        rmse_each_k[each_k] = rmse\n",
    "    return rmse_each_k"
   ]
  },
  {
   "cell_type": "markdown",
   "metadata": {},
   "source": [
    "Lowest three rmses were results of these 2,3 and 4 features"
   ]
  },
  {
   "cell_type": "code",
   "execution_count": 30,
   "metadata": {
    "collapsed": false
   },
   "outputs": [
    {
     "data": {
      "text/plain": [
       "{('engine_size', 'horsepower'): {1: 2832.6762159757077,\n",
       "  2: 2592.760534757126,\n",
       "  3: 2620.327691572396,\n",
       "  4: 2824.6258095735284,\n",
       "  5: 2925.00464591321,\n",
       "  6: 3162.7465130445685,\n",
       "  7: 3295.7806528253186,\n",
       "  8: 3580.3376319325566,\n",
       "  9: 3844.44037715117,\n",
       "  10: 4066.955641740046,\n",
       "  11: 4162.831387739917,\n",
       "  12: 4250.9953344770765,\n",
       "  13: 4288.279719198008,\n",
       "  14: 4318.677524353425,\n",
       "  15: 4384.634184404111,\n",
       "  16: 4477.339380724929,\n",
       "  17: 4542.7101905616355,\n",
       "  18: 4675.594058904271,\n",
       "  19: 4696.93629950144,\n",
       "  20: 4684.844437694387,\n",
       "  21: 4744.078137218994,\n",
       "  22: 4779.969895724662,\n",
       "  23: 4826.869687492047,\n",
       "  24: 4881.349005863175,\n",
       "  25: 4963.926213279482},\n",
       " ('engine_size', 'horsepower', 'width'): {1: 2861.158731550683,\n",
       "  2: 2644.428153665928,\n",
       "  3: 2681.7457878865184,\n",
       "  4: 2722.280458854013,\n",
       "  5: 2901.007254846714,\n",
       "  6: 3079.0995987640463,\n",
       "  7: 3210.5192759138426,\n",
       "  8: 3485.8385181559474,\n",
       "  9: 3782.798641745253,\n",
       "  10: 4029.356670465123,\n",
       "  11: 4133.471835231293,\n",
       "  12: 4225.481801502254,\n",
       "  13: 4232.577904328598,\n",
       "  14: 4309.041242789048,\n",
       "  15: 4357.017184977242,\n",
       "  16: 4451.130131996225,\n",
       "  17: 4543.0024407027095,\n",
       "  18: 4670.682954647491,\n",
       "  19: 4674.252920094919,\n",
       "  20: 4669.189417165076,\n",
       "  21: 4735.236144220056,\n",
       "  22: 4772.760962066603,\n",
       "  23: 4823.185623106587,\n",
       "  24: 4879.83106052871,\n",
       "  25: 4955.147145229418},\n",
       " ('engine_size', 'horsepower', 'width', 'curb_weight'): {1: 4341.911586815509,\n",
       "  2: 4239.332124157164,\n",
       "  3: 3916.3575723832314,\n",
       "  4: 3855.6983724555575,\n",
       "  5: 3864.067381953533,\n",
       "  6: 4008.3548993882696,\n",
       "  7: 4077.4287673481854,\n",
       "  8: 4266.3491801044565,\n",
       "  9: 4475.694462909053,\n",
       "  10: 4414.220930971369,\n",
       "  11: 4596.13336246967,\n",
       "  12: 4670.70562254195,\n",
       "  13: 4836.336616799352,\n",
       "  14: 4932.287971414094,\n",
       "  15: 4938.571945729486,\n",
       "  16: 4980.408746974021,\n",
       "  17: 5034.635930139949,\n",
       "  18: 5121.525395927175,\n",
       "  19: 5122.043106542827,\n",
       "  20: 5203.772103719618,\n",
       "  21: 5176.386950165032,\n",
       "  22: 5151.719498090513,\n",
       "  23: 5213.81748035078,\n",
       "  24: 5207.942980122765,\n",
       "  25: 5240.723294186189}}"
      ]
     },
     "execution_count": 30,
     "metadata": {},
     "output_type": "execute_result"
    }
   ],
   "source": [
    "twof=['engine_size', 'horsepower']\n",
    "threef=['engine_size', 'horsepower', 'width']\n",
    "fourf=['engine_size', 'horsepower', 'width', 'curb_weight']\n",
    "allf=[twof,threef,fourf]\n",
    "top3rmse=dict()\n",
    "\n",
    "for f in allf:\n",
    "    top3rmse[tuple(f)] = \\\n",
    "    knn_train_testT(f,'price',cars_num,range(1,26))\n",
    "top3rmse"
   ]
  },
  {
   "cell_type": "code",
   "execution_count": 45,
   "metadata": {
    "collapsed": false,
    "scrolled": true
   },
   "outputs": [
    {
     "data": {
      "text/plain": [
       "[('engine_size', 'horsepower'),\n",
       " ('engine_size', 'horsepower', 'width', 'curb_weight'),\n",
       " ('engine_size', 'horsepower', 'width')]"
      ]
     },
     "execution_count": 45,
     "metadata": {},
     "output_type": "execute_result"
    },
    {
     "data": {
      "image/png": "[encoded data removed]",
      "text/plain": [
       "<matplotlib.figure.Figure at 0x7f28c923c860>"
      ]
     },
     "metadata": {},
     "output_type": "display_data"
    }
   ],
   "source": [
    "features_list=list()\n",
    "min_value=list()\n",
    "for key, value in top3rmse.items():\n",
    "    features_list.append(key)\n",
    "    ks = pd.Series(list(value.keys()))\n",
    "    vals = pd.Series(list(value.values()))\n",
    "    vals.index = ks\n",
    "    val, idx = min((val, idx) for (idx, val) in enumerate(vals))\n",
    "    min_value.append([idx,val])\n",
    "    plt.plot(list(value.keys()),list(value.values()))\n",
    "    plt.legend(key)\n",
    "plt.xlabel('k values')\n",
    "plt.ylabel('RMSE')\n",
    "features_list    \n",
    "#Python: Find index of minimum item in list of floats [duplicate] - https://stackoverflow.com/questions/13300962/python-find-index-of-minimum-item-in-list-of-floats"
   ]
  },
  {
   "cell_type": "code",
   "execution_count": 34,
   "metadata": {
    "collapsed": false,
    "scrolled": true
   },
   "outputs": [
    {
     "data": {
      "text/plain": [
       "[[1, 2592.760534757126], [3, 3855.6983724555575], [1, 2644.428153665928]]"
      ]
     },
     "execution_count": 34,
     "metadata": {},
     "output_type": "execute_result"
    }
   ],
   "source": [
    "min_value"
   ]
  },
  {
   "cell_type": "markdown",
   "metadata": {},
   "source": [
    "Which k value is optimal for each model? How different are the k values and what do you think accounts for the differences?\n",
    "- For [('engine_size', 'horsepower')] optimal k value was 1 and the corresponding RMSE value of 2593\n",
    "- For [(('engine_size', 'horsepower', 'width'))] optimal k value was 1 and the corresponding RMSE value of 2644\n",
    "- For [('engine_size', 'horsepower', 'width', 'curb_weight')] optimal k value was 3 and the corresponding RMSE value of 3856\n",
    "\n",
    "The best of the top three models is the one with 2 features and a k value of 1\n",
    "\n",
    "With 2 and 3 features the trend follows quite closely, however with 4 features the model's trend does not resemble the model for 2 or 3 features, this could be due to the fact that the variance is negatively impacting the error metric and there needs to be more nearest neighbors to produce a better average. The problem with 2 or 3 features is that there is more bias, however it seems that an increase in features and nearest neighbors has a negative impact on the error metric, the root mean squared error in this case."
   ]
  },
  {
   "cell_type": "markdown",
   "metadata": {},
   "source": [
    "## Part VI - Next Steps\n",
    "Ideas to explore if desired are:\n",
    "- Modify the knn_train_test() function to use k-fold cross validation instead of test/train validation\n",
    "- Modify the knn_train_test() function to perform the data cleaning as well"
   ]
  }
 ],
 "metadata": {
  "kernelspec": {
   "display_name": "Python 3",
   "language": "python",
   "name": "python3"
  },
  "language_info": {
   "codemirror_mode": {
    "name": "ipython",
    "version": 3
   },
   "file_extension": ".py",
   "mimetype": "text/x-python",
   "name": "python",
   "nbconvert_exporter": "python",
   "pygments_lexer": "ipython3",
   "version": "3.4.3"
  }
 },
 "nbformat": 4,
 "nbformat_minor": 2
}
