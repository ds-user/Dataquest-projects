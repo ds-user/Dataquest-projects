{
 "cells": [
  {
   "cell_type": "markdown",
   "metadata": {},
   "source": [
    "# Are Fandango Ratings Still Inflated?\n",
    "- Walt Hickey wrote a data journalism piece in FiveThirtyEight concluding that Fandango inflated their movie ratings by rounding up to a half or whole star by analyzing the actual rating for 209 films played in theaters in 2015 and recieved 30+ reviews, which he found in the HTML of the page\n",
    "<br><br>\n",
    "- The **goal of this project** is to determine if Fandango corrected their rating system since Hickey's analysis\n",
    "<br><br>\n",
    "- [Hickey's Data](https://github.com/fivethirtyeight/data/tree/master/fandango)\n",
    "- [Dataquest Data](https://github.com/mircealex/Movie_ratings_2016_17)"
   ]
  },
  {
   "cell_type": "markdown",
   "metadata": {},
   "source": [
    "## Part II - Understanding the Data"
   ]
  },
  {
   "cell_type": "markdown",
   "metadata": {},
   "source": [
    "##### Explore Data Sets"
   ]
  },
  {
   "cell_type": "code",
   "execution_count": 1,
   "metadata": {
    "collapsed": true
   },
   "outputs": [],
   "source": [
    "import pandas as pd\n",
    "old = pd.read_csv('fandango_score_comparison.csv')\n",
    "old;"
   ]
  },
  {
   "cell_type": "code",
   "execution_count": 2,
   "metadata": {
    "collapsed": true
   },
   "outputs": [],
   "source": [
    "new = pd.read_csv('movie_ratings_16_17.csv')\n",
    "new;"
   ]
  },
  {
   "cell_type": "markdown",
   "metadata": {},
   "source": [
    "##### Isolate Columns that Relate to Fandango's Ratings from the Data Sets"
   ]
  },
  {
   "cell_type": "code",
   "execution_count": 3,
   "metadata": {
    "collapsed": true
   },
   "outputs": [],
   "source": [
    "oldf = old[['FILM', 'Fandango_Stars', 'Fandango_Ratingvalue', \n",
    "            'Fandango_votes', 'Fandango_Difference']].copy()\n",
    "oldf;"
   ]
  },
  {
   "cell_type": "code",
   "execution_count": 4,
   "metadata": {
    "collapsed": true
   },
   "outputs": [],
   "source": [
    "newf = new[['movie', 'year', 'fandango']].copy()\n",
    "newf;"
   ]
  },
  {
   "cell_type": "markdown",
   "metadata": {},
   "source": [
    "[Why you should always make a copy if the intension is not to change the original df or if a version of the original df is desired](https://stackoverflow.com/questions/27673231/why-should-i-make-a-copy-of-a-data-frame-in-pandas)"
   ]
  },
  {
   "cell_type": "markdown",
   "metadata": {},
   "source": [
    "##### Define Population of Interest\n",
    "- The population is all the movies in the Fandango system after Fandango formally responded to Hickey's analysis"
   ]
  },
  {
   "cell_type": "markdown",
   "metadata": {},
   "source": [
    "##### Decipher if the Two Samples are Representative of the Population\n"
   ]
  },
  {
   "cell_type": "markdown",
   "metadata": {},
   "source": [
    "**Old Data (Hickey)**\n",
    "- 'fandango_score_comparison.csv contains every film that has a Rotten Tomatoes rating, a RT User rating, a Metacritic score, a Metacritic User score, and IMDb score, and at least 30 fan reviews on Fandango. The data from Fandango was pulled on Aug. 24, 2015.'\n",
    "<br><br>\n",
    "- **The sample is part of the population, however is not a random sample as it is from a specific year (2015) and has at least 30 ratings**"
   ]
  },
  {
   "cell_type": "markdown",
   "metadata": {},
   "source": [
    "**New Data (Dataquest)**\n",
    "- 'movie_ratings_16_17.csv contains movie ratings data for 214 of the most popular movies (with a significant number of votes) released in 2016 and 2017. As of March 22, 2017, the ratings were up to date. Significant changes should be expected mostly for movies released in 2017.'\n",
    "<br><br>\n",
    "- **The sample is part of the population as well and although it covers an extra year of movies, it also is not a random sample because it also only represents popular movies.**"
   ]
  },
  {
   "cell_type": "markdown",
   "metadata": {},
   "source": [
    "\n",
    "||Old|New|\n",
    "|:---:|:---:|:---:|\n",
    "|**Sample Size**|209|214|\n",
    "|**Movie Released**|2015|2016 & 2017|\n",
    "|**Requirements**|Other ratings from specific websites &<br> at least 30 fan reviews on Fandango|Most popular movies <br>(with a significant number of votes)|"
   ]
  },
  {
   "cell_type": "markdown",
   "metadata": {},
   "source": [
    "- What is a 'significant' number of votes?\n",
    "    - Number of votes are not in the data set provided. Could go into the website, however it is has been nearly 3 years since the data was extracted and the number of votes could have significantly changed"
   ]
  },
  {
   "cell_type": "markdown",
   "metadata": {},
   "source": [
    "## Part III - Changing the Goal of our Analysis"
   ]
  },
  {
   "cell_type": "markdown",
   "metadata": {},
   "source": [
    "- The new population will be \"popular\" movies\n",
    "- This change in population should not hurt our main goal, which is determining if Fandango's rating system has changed after Hickey's analysis, because both sets are similar in creteria and have enough information to continue the analysis\n",
    "- To check answers, the Dataquest data set will only be popular movies released in 2016 instead of 2016 and 2017"
   ]
  },
  {
   "cell_type": "code",
   "execution_count": 5,
   "metadata": {
    "collapsed": false
   },
   "outputs": [
    {
     "name": "stderr",
     "output_type": "stream",
     "text": [
      "/dataquest/system/env/python3/lib/python3.4/site-packages/ipykernel/__main__.py:1: UserWarning: This pattern has match groups. To actually get the groups, use str.extract.\n",
      "  if __name__ == '__main__':\n"
     ]
    }
   ],
   "source": [
    "oldf = oldf[oldf['FILM'].str.contains(pat='(2015)')].copy();"
   ]
  },
  {
   "cell_type": "code",
   "execution_count": 6,
   "metadata": {
    "collapsed": false
   },
   "outputs": [
    {
     "data": {
      "text/plain": [
       "True"
      ]
     },
     "execution_count": 6,
     "metadata": {},
     "output_type": "execute_result"
    }
   ],
   "source": [
    "oldf.shape[0]==oldf.FILM.str.extractall(pat='(2015)').shape[0]"
   ]
  },
  {
   "cell_type": "markdown",
   "metadata": {},
   "source": [
    "- The code above tells if the length of the data set is the same length of the data set that contains only 2015 valus, if True it means that all the movies are from 2015<br><br>\n",
    "[Working With Text Data](https://www.kaggle.com/hamelg/python-for-data-15-working-with-text-data)"
   ]
  },
  {
   "cell_type": "code",
   "execution_count": 7,
   "metadata": {
    "collapsed": true
   },
   "outputs": [],
   "source": [
    "newf = newf[newf['year']==2016].copy()"
   ]
  },
  {
   "cell_type": "code",
   "execution_count": 8,
   "metadata": {
    "collapsed": false
   },
   "outputs": [
    {
     "data": {
      "text/plain": [
       "2016    191\n",
       "Name: year, dtype: int64"
      ]
     },
     "execution_count": 8,
     "metadata": {},
     "output_type": "execute_result"
    }
   ],
   "source": [
    "newf['year'].value_counts()"
   ]
  },
  {
   "cell_type": "markdown",
   "metadata": {},
   "source": [
    "## Part IV - Isolating the Samples We Need"
   ]
  },
  {
   "cell_type": "markdown",
   "metadata": {},
   "source": [
    "##### Do Movies in Hickey's Data have at least 30 Fan Ratings"
   ]
  },
  {
   "cell_type": "code",
   "execution_count": 9,
   "metadata": {
    "collapsed": false
   },
   "outputs": [
    {
     "data": {
      "text/html": [
       "<div>\n",
       "<style scoped>\n",
       "    .dataframe tbody tr th:only-of-type {\n",
       "        vertical-align: middle;\n",
       "    }\n",
       "\n",
       "    .dataframe tbody tr th {\n",
       "        vertical-align: top;\n",
       "    }\n",
       "\n",
       "    .dataframe thead th {\n",
       "        text-align: right;\n",
       "    }\n",
       "</style>\n",
       "<table border=\"1\" class=\"dataframe\">\n",
       "  <thead>\n",
       "    <tr style=\"text-align: right;\">\n",
       "      <th></th>\n",
       "      <th>Fandango_Stars</th>\n",
       "      <th>Fandango_Ratingvalue</th>\n",
       "      <th>Fandango_votes</th>\n",
       "      <th>Fandango_Difference</th>\n",
       "    </tr>\n",
       "  </thead>\n",
       "  <tbody>\n",
       "    <tr>\n",
       "      <th>count</th>\n",
       "      <td>129.000000</td>\n",
       "      <td>129.000000</td>\n",
       "      <td>129.000000</td>\n",
       "      <td>129.000000</td>\n",
       "    </tr>\n",
       "    <tr>\n",
       "      <th>mean</th>\n",
       "      <td>4.085271</td>\n",
       "      <td>3.846512</td>\n",
       "      <td>3761.891473</td>\n",
       "      <td>0.238760</td>\n",
       "    </tr>\n",
       "    <tr>\n",
       "      <th>std</th>\n",
       "      <td>0.538096</td>\n",
       "      <td>0.505446</td>\n",
       "      <td>6543.601748</td>\n",
       "      <td>0.152741</td>\n",
       "    </tr>\n",
       "    <tr>\n",
       "      <th>min</th>\n",
       "      <td>3.000000</td>\n",
       "      <td>2.700000</td>\n",
       "      <td>35.000000</td>\n",
       "      <td>0.000000</td>\n",
       "    </tr>\n",
       "    <tr>\n",
       "      <th>25%</th>\n",
       "      <td>3.500000</td>\n",
       "      <td>3.500000</td>\n",
       "      <td>210.000000</td>\n",
       "      <td>0.100000</td>\n",
       "    </tr>\n",
       "    <tr>\n",
       "      <th>50%</th>\n",
       "      <td>4.000000</td>\n",
       "      <td>3.900000</td>\n",
       "      <td>1415.000000</td>\n",
       "      <td>0.200000</td>\n",
       "    </tr>\n",
       "    <tr>\n",
       "      <th>75%</th>\n",
       "      <td>4.500000</td>\n",
       "      <td>4.200000</td>\n",
       "      <td>4045.000000</td>\n",
       "      <td>0.400000</td>\n",
       "    </tr>\n",
       "    <tr>\n",
       "      <th>max</th>\n",
       "      <td>5.000000</td>\n",
       "      <td>4.800000</td>\n",
       "      <td>34846.000000</td>\n",
       "      <td>0.500000</td>\n",
       "    </tr>\n",
       "  </tbody>\n",
       "</table>\n",
       "</div>"
      ],
      "text/plain": [
       "       Fandango_Stars  Fandango_Ratingvalue  Fandango_votes  \\\n",
       "count      129.000000            129.000000      129.000000   \n",
       "mean         4.085271              3.846512     3761.891473   \n",
       "std          0.538096              0.505446     6543.601748   \n",
       "min          3.000000              2.700000       35.000000   \n",
       "25%          3.500000              3.500000      210.000000   \n",
       "50%          4.000000              3.900000     1415.000000   \n",
       "75%          4.500000              4.200000     4045.000000   \n",
       "max          5.000000              4.800000    34846.000000   \n",
       "\n",
       "       Fandango_Difference  \n",
       "count           129.000000  \n",
       "mean              0.238760  \n",
       "std               0.152741  \n",
       "min               0.000000  \n",
       "25%               0.100000  \n",
       "50%               0.200000  \n",
       "75%               0.400000  \n",
       "max               0.500000  "
      ]
     },
     "execution_count": 9,
     "metadata": {},
     "output_type": "execute_result"
    }
   ],
   "source": [
    "oldf.describe()"
   ]
  },
  {
   "cell_type": "markdown",
   "metadata": {},
   "source": [
    "- The minimum value for Fandango's number of votes is 35 so it passes the test"
   ]
  },
  {
   "cell_type": "markdown",
   "metadata": {},
   "source": [
    "##### Do Movies in DQ's Data have at least 30 Fan Ratings"
   ]
  },
  {
   "cell_type": "markdown",
   "metadata": {},
   "source": [
    "- Hard to aquire data for this data set as the data set neither include the number of votes nor describes the minimum number of votes required to be considered in the data set\n",
    "- Some alternatives is sampling the data and checking the current votes on the Fandango website, however the number of votes when the data was collected verse now is most likely going to be different\n",
    "    - If the website has a feature to let one examine the current votes on a a specific date, that is a workaround\n",
    "- As to how many movies to sample, the key suggests 10 is an adequate number and if 8 of the 10 movies have at least 30 fan votes, the data set should be usable \n",
    "- [Fandango Website](https://www.fandango.com/)"
   ]
  },
  {
   "cell_type": "code",
   "execution_count": 10,
   "metadata": {
    "collapsed": false
   },
   "outputs": [
    {
     "data": {
      "text/html": [
       "<div>\n",
       "<style scoped>\n",
       "    .dataframe tbody tr th:only-of-type {\n",
       "        vertical-align: middle;\n",
       "    }\n",
       "\n",
       "    .dataframe tbody tr th {\n",
       "        vertical-align: top;\n",
       "    }\n",
       "\n",
       "    .dataframe thead th {\n",
       "        text-align: right;\n",
       "    }\n",
       "</style>\n",
       "<table border=\"1\" class=\"dataframe\">\n",
       "  <thead>\n",
       "    <tr style=\"text-align: right;\">\n",
       "      <th></th>\n",
       "      <th>movie</th>\n",
       "      <th>year</th>\n",
       "      <th>fandango</th>\n",
       "    </tr>\n",
       "  </thead>\n",
       "  <tbody>\n",
       "    <tr>\n",
       "      <th>121</th>\n",
       "      <td>Nerve</td>\n",
       "      <td>2016</td>\n",
       "      <td>4.0</td>\n",
       "    </tr>\n",
       "    <tr>\n",
       "      <th>83</th>\n",
       "      <td>Jane Got a Gun</td>\n",
       "      <td>2016</td>\n",
       "      <td>3.5</td>\n",
       "    </tr>\n",
       "    <tr>\n",
       "      <th>179</th>\n",
       "      <td>The Great Wall</td>\n",
       "      <td>2016</td>\n",
       "      <td>4.0</td>\n",
       "    </tr>\n",
       "    <tr>\n",
       "      <th>108</th>\n",
       "      <td>Mechanic: Resurrection</td>\n",
       "      <td>2016</td>\n",
       "      <td>4.0</td>\n",
       "    </tr>\n",
       "    <tr>\n",
       "      <th>136</th>\n",
       "      <td>Resident Evil: The Final Chapter</td>\n",
       "      <td>2016</td>\n",
       "      <td>4.0</td>\n",
       "    </tr>\n",
       "    <tr>\n",
       "      <th>80</th>\n",
       "      <td>Inferno</td>\n",
       "      <td>2016</td>\n",
       "      <td>3.5</td>\n",
       "    </tr>\n",
       "    <tr>\n",
       "      <th>22</th>\n",
       "      <td>Ben-Hur</td>\n",
       "      <td>2016</td>\n",
       "      <td>4.0</td>\n",
       "    </tr>\n",
       "    <tr>\n",
       "      <th>137</th>\n",
       "      <td>Ride Along 2</td>\n",
       "      <td>2016</td>\n",
       "      <td>4.0</td>\n",
       "    </tr>\n",
       "    <tr>\n",
       "      <th>160</th>\n",
       "      <td>The Angry Birds Movie</td>\n",
       "      <td>2016</td>\n",
       "      <td>4.0</td>\n",
       "    </tr>\n",
       "    <tr>\n",
       "      <th>8</th>\n",
       "      <td>Allied</td>\n",
       "      <td>2016</td>\n",
       "      <td>4.0</td>\n",
       "    </tr>\n",
       "  </tbody>\n",
       "</table>\n",
       "</div>"
      ],
      "text/plain": [
       "                                movie  year  fandango\n",
       "121                             Nerve  2016       4.0\n",
       "83                     Jane Got a Gun  2016       3.5\n",
       "179                    The Great Wall  2016       4.0\n",
       "108            Mechanic: Resurrection  2016       4.0\n",
       "136  Resident Evil: The Final Chapter  2016       4.0\n",
       "80                            Inferno  2016       3.5\n",
       "22                            Ben-Hur  2016       4.0\n",
       "137                      Ride Along 2  2016       4.0\n",
       "160             The Angry Birds Movie  2016       4.0\n",
       "8                              Allied  2016       4.0"
      ]
     },
     "execution_count": 10,
     "metadata": {},
     "output_type": "execute_result"
    }
   ],
   "source": [
    "newf.sample(10,random_state=0)"
   ]
  },
  {
   "cell_type": "markdown",
   "metadata": {},
   "source": [
    "- Unfortunately Fandango has removed their reviews and the information that comes with this and replaced it with Rotten Tomatoes scores\n",
    "- [Find out more on how Rotten Tomatoes rates in their article](https://editorial.rottentomatoes.com/article/introducing-verified-audience-score/)\n",
    "- Instead we will rely on the answer solution to verify the quality of the data as it was released prior to the article above"
   ]
  },
  {
   "cell_type": "markdown",
   "metadata": {},
   "source": [
    "## Part V - Comparing Distribution Shapes for 2015 and 2016"
   ]
  },
  {
   "cell_type": "markdown",
   "metadata": {},
   "source": [
    "###### 2015 and 2016 Kernal Density Plots"
   ]
  },
  {
   "cell_type": "code",
   "execution_count": 11,
   "metadata": {
    "collapsed": false
   },
   "outputs": [
    {
     "name": "stdout",
     "output_type": "stream",
     "text": [
      "['seaborn-darkgrid', 'seaborn-colorblind', 'dark_background', 'seaborn-muted', 'seaborn-notebook', 'seaborn-paper', 'seaborn-dark', 'seaborn-ticks', 'seaborn-talk', 'bmh', 'seaborn-deep', 'seaborn-whitegrid', 'classic', 'seaborn-poster', 'ggplot', 'grayscale', 'seaborn-pastel', 'seaborn-white', 'fivethirtyeight', 'seaborn-bright', 'seaborn-dark-palette']\n"
     ]
    },
    {
     "data": {
      "image/png": "[encoded data removed]",
      "text/plain": [
       "<matplotlib.figure.Figure at 0x7f4be2ff83c8>"
      ]
     },
     "metadata": {},
     "output_type": "display_data"
    }
   ],
   "source": [
    "import matplotlib.pyplot as plt\n",
    "import numpy as np\n",
    "%matplotlib inline  \n",
    "\n",
    "print(plt.style.available)\n",
    "plt.style.use('seaborn-deep')\n",
    "\n",
    "oldf['Fandango_Stars'].plot.kde(label = '2015',\\\n",
    "                    legend=True, figsize=(10,8),\\\n",
    "                    linewidth=5)\n",
    "newf.fandango.plot.kde(label = '2016', legend=True,\\\n",
    "                      linewidth=5)\n",
    "\n",
    "plt.title('Kernel Density Plots of Fandango Ratings for 2015 and 2016',\\\n",
    "         fontsize = 18)\n",
    "\n",
    "plt.xlabel('Number of Stars')\n",
    "\n",
    "plt.xticks(np.arange(0,5.5, step = 0.5))\n",
    "plt.xlim([0,5])\n",
    "\n",
    "font = {'family' : 'normal',\n",
    "        'weight' : 'bold',\n",
    "        'size'   : 14}\n",
    "\n",
    "plt.rc('font', **font)"
   ]
  },
  {
   "cell_type": "markdown",
   "metadata": {},
   "source": [
    "[How to change the font size on a matplotlib plot](https://stackoverflow.com/questions/3899980/how-to-change-the-font-size-on-a-matplotlib-plot)\n",
    "<br><br>\n",
    "[Customizing Matplotlib with style sheets and rcParams](https://matplotlib.org/tutorials/introductory/customizing.html)"
   ]
  },
  {
   "cell_type": "markdown",
   "metadata": {},
   "source": [
    "##### Insight on Kernel Density Plots"
   ]
  },
  {
   "cell_type": "markdown",
   "metadata": {},
   "source": [
    "- The 2015 plot appears to be left skewed and the 2016 plot appears to resemble a normal distribution <br><br>\n",
    "- The 2016 plot seems to have a higher density of lower star values and it thus may have lower values for the same percentile rank as the 2015 data <br><br>\n",
    "- Assuming that the 2016 fan rating is overall lower than the 2016 data, it would suggest that there has been a change between Fandango's rating for popular movies in 2015 and Fandango's rating for popular movies in 2016"
   ]
  },
  {
   "cell_type": "markdown",
   "metadata": {},
   "source": [
    "## Part VI - Comparing Relative Frequencies"
   ]
  },
  {
   "cell_type": "markdown",
   "metadata": {},
   "source": [
    "##### Frequency Distribution Tables\n",
    "- Although the samples have a similar number of values, it is not the same and thus relative frequencies with percentages would be more appropriate and readable"
   ]
  },
  {
   "cell_type": "code",
   "execution_count": 12,
   "metadata": {
    "collapsed": false
   },
   "outputs": [
    {
     "data": {
      "text/plain": [
       "3.0     8.527132\n",
       "3.5    17.829457\n",
       "4.0    28.682171\n",
       "4.5    37.984496\n",
       "5.0     6.976744\n",
       "Name: Fandango_Stars, dtype: float64"
      ]
     },
     "execution_count": 12,
     "metadata": {},
     "output_type": "execute_result"
    }
   ],
   "source": [
    "ovc=oldf['Fandango_Stars'].value_counts(normalize=True).sort_index()*100\n",
    "ovc"
   ]
  },
  {
   "cell_type": "code",
   "execution_count": 13,
   "metadata": {
    "collapsed": false
   },
   "outputs": [
    {
     "data": {
      "text/plain": [
       "2.5     3.141361\n",
       "3.0     7.329843\n",
       "3.5    24.083770\n",
       "4.0    40.314136\n",
       "4.5    24.607330\n",
       "5.0     0.523560\n",
       "Name: fandango, dtype: float64"
      ]
     },
     "execution_count": 13,
     "metadata": {},
     "output_type": "execute_result"
    }
   ],
   "source": [
    "nvc=newf['fandango'].value_counts(normalize=True).sort_index()*100\n",
    "nvc"
   ]
  },
  {
   "cell_type": "markdown",
   "metadata": {},
   "source": [
    "- [Python Pandas: Convert “.value_counts” output to dataframe](https://stackoverflow.com/questions/47136436/python-pandas-convert-value-counts-output-to-dataframe)\n",
    "ovcdf=ovc.rename_axis('Stars').reset_index(name='perc')\n",
    "nvcdf=nvc.rename_axis('Stars').reset_index(name='perc')\n",
    "- [Better visualization of Pie charts by MatPlotLib](https://medium.com/@kvnamipara/a-better-visualisation-of-pie-charts-by-matplotlib-935b7667d77f)\n",
    "- [Multiple pie charts using matplotlib](https://stackoverflow.com/questions/25205247/multiple-pie-charts-using-matplotlib/25205547)"
   ]
  },
  {
   "cell_type": "markdown",
   "metadata": {},
   "source": [
    "##### Insight on Frequency Distributions Tables"
   ]
  },
  {
   "cell_type": "markdown",
   "metadata": {},
   "source": [
    "- Looking at a more granular information, it is clear that there a difference between the two distribution shapes\n",
    "    - The 2015 data progressively grows in the percentage of values as the value of the rating grows from 3-4.5 stars\n",
    "    - On the other hand, the 2016 data peaks at 4 stars and has almost the same percentage half a star above and below 4 stars and the values on the outer ends of 3.5 and 4.5 decreases <br><br>\n",
    "- About 40% is the highest percentage for a single rating value for both data sets\n",
    "    - For the 2015 and 2016 data the value with about 40% are 4.5 and 4.0 stars, respectively <br><br>\n",
    "- It is clear by examinig the frequency tables that the 2016 data has a higher frequency of lower values than the 2015 data does"
   ]
  },
  {
   "cell_type": "markdown",
   "metadata": {},
   "source": [
    "## Part VII - Determining the Direction of the Change"
   ]
  },
  {
   "cell_type": "markdown",
   "metadata": {},
   "source": [
    "##### Mean, Median and Mode Computation"
   ]
  },
  {
   "cell_type": "code",
   "execution_count": 14,
   "metadata": {
    "collapsed": false
   },
   "outputs": [
    {
     "name": "stdout",
     "output_type": "stream",
     "text": [
      "        2015  2016  dif\n",
      "mean    4.09  3.89  0.2\n",
      "median  4.00  4.00  0.0\n",
      "mode    4.50  4.00  0.5\n"
     ]
    }
   ],
   "source": [
    "# print('2015 Data')\n",
    "# print('mean: ' + str(oldf['Fandango_Stars'].mean().round(1)))     \n",
    "# print('median: ' + str(oldf['Fandango_Stars'].median()))     \n",
    "# print('mode: ' + str(oldf['Fandango_Stars'].mode()[0]))  \n",
    "# print('\\n ')\n",
    "# print('2016 Data')\n",
    "# print('mean: ' + str(newf['fandango'].mean().round(1)))     \n",
    "# print('median: ' + str(newf['fandango'].median()))     \n",
    "# print('mode: ' + str(newf['fandango'].mode()[0])) \n",
    "\n",
    "o = oldf['Fandango_Stars']\n",
    "n = newf['fandango']\n",
    "mmm = pd.DataFrame()\n",
    "mmm['2015'] = [o.mean(),o.median(),o.mode()[0]]\n",
    "mmm['2016'] = [n.mean(),n.median(),n.mode()[0]]\n",
    "mmm['dif']=mmm['2015']-mmm['2016']\n",
    "mmm.index = ['mean','median','mode']\n",
    "print(mmm.round(2))\n",
    "      "
   ]
  },
  {
   "cell_type": "markdown",
   "metadata": {},
   "source": [
    "##### Metric Comparison\n",
    "- The mean is about 0.2 stars higher in the 2015 data set which is about a 4 percent difference\n",
    "- The median is the same, which is not very telling in this case as the possible range of stars is the same for both data sets\n",
    "- The mode for the 2015 data is half a star higher than the mode for the 2016 data, which means that 4.5 and 4.0 stars were the most frequent rating for the 2015 and 2016 data, respectively\n",
    "    - This was also indicated in the frequency distribution tables\n",
    "   "
   ]
  },
  {
   "cell_type": "markdown",
   "metadata": {},
   "source": [
    "##### Grouped Comparative Bar Plot"
   ]
  },
  {
   "cell_type": "code",
   "execution_count": 15,
   "metadata": {
    "collapsed": false
   },
   "outputs": [
    {
     "data": {
      "text/html": [
       "<div>\n",
       "<style scoped>\n",
       "    .dataframe tbody tr th:only-of-type {\n",
       "        vertical-align: middle;\n",
       "    }\n",
       "\n",
       "    .dataframe tbody tr th {\n",
       "        vertical-align: top;\n",
       "    }\n",
       "\n",
       "    .dataframe thead th {\n",
       "        text-align: right;\n",
       "    }\n",
       "</style>\n",
       "<table border=\"1\" class=\"dataframe\">\n",
       "  <thead>\n",
       "    <tr style=\"text-align: right;\">\n",
       "      <th></th>\n",
       "      <th>stat</th>\n",
       "      <th>year</th>\n",
       "      <th>rating</th>\n",
       "    </tr>\n",
       "  </thead>\n",
       "  <tbody>\n",
       "    <tr>\n",
       "      <th>0</th>\n",
       "      <td>mean</td>\n",
       "      <td>2015</td>\n",
       "      <td>4.085271</td>\n",
       "    </tr>\n",
       "    <tr>\n",
       "      <th>1</th>\n",
       "      <td>mean</td>\n",
       "      <td>2016</td>\n",
       "      <td>3.887435</td>\n",
       "    </tr>\n",
       "    <tr>\n",
       "      <th>2</th>\n",
       "      <td>median</td>\n",
       "      <td>2015</td>\n",
       "      <td>4.000000</td>\n",
       "    </tr>\n",
       "    <tr>\n",
       "      <th>3</th>\n",
       "      <td>median</td>\n",
       "      <td>2016</td>\n",
       "      <td>4.000000</td>\n",
       "    </tr>\n",
       "    <tr>\n",
       "      <th>4</th>\n",
       "      <td>mode</td>\n",
       "      <td>2015</td>\n",
       "      <td>4.500000</td>\n",
       "    </tr>\n",
       "    <tr>\n",
       "      <th>5</th>\n",
       "      <td>mode</td>\n",
       "      <td>2016</td>\n",
       "      <td>4.000000</td>\n",
       "    </tr>\n",
       "  </tbody>\n",
       "</table>\n",
       "</div>"
      ],
      "text/plain": [
       "     stat  year    rating\n",
       "0    mean  2015  4.085271\n",
       "1    mean  2016  3.887435\n",
       "2  median  2015  4.000000\n",
       "3  median  2016  4.000000\n",
       "4    mode  2015  4.500000\n",
       "5    mode  2016  4.000000"
      ]
     },
     "execution_count": 15,
     "metadata": {},
     "output_type": "execute_result"
    }
   ],
   "source": [
    "gbp = mmm.iloc[:,:2]\n",
    "gbp = gbp.stack().reset_index()\n",
    "gbp = gbp.rename(columns={'level_0':'stat','level_1':'year',0:'rating'})\n",
    "gbp"
   ]
  },
  {
   "cell_type": "markdown",
   "metadata": {},
   "source": [
    "[how to convert column names into column values in pandas - python](https://stackoverflow.com/questions/38241933/how-to-convert-column-names-into-column-values-in-pandas-python)<br>\n",
    "[Set column names when stacking pandas DataFrame](https://stackoverflow.com/questions/32998893/set-column-names-when-stacking-pandas-dataframe) <br>\n",
    "[seaborn barplot for nested grouping by two variables](https://seaborn.pydata.org/generated/seaborn.barplot.html)\n"
   ]
  },
  {
   "cell_type": "code",
   "execution_count": 17,
   "metadata": {
    "collapsed": false
   },
   "outputs": [
    {
     "data": {
      "text/plain": [
       "['#4c72b0',\n",
       " '#55a868',\n",
       " '#c44e52',\n",
       " '#8172b2',\n",
       " '#ccb974',\n",
       " '#64b5cd',\n",
       " '#4c72b0',\n",
       " '#55a868',\n",
       " '#c44e52',\n",
       " '#8172b2']"
      ]
     },
     "execution_count": 17,
     "metadata": {},
     "output_type": "execute_result"
    },
    {
     "data": {
      "image/png": "[encoded data removed]",
      "text/plain": [
       "<matplotlib.figure.Figure at 0x7f4be307e630>"
      ]
     },
     "metadata": {},
     "output_type": "display_data"
    }
   ],
   "source": [
    "#extracting seaborn deep palette hex numbers\n",
    "import seaborn as sns\n",
    "sns.palplot(sns.color_palette('deep', 10))\n",
    "pal = sns.color_palette('deep',10)\n",
    "pal.as_hex()"
   ]
  },
  {
   "cell_type": "markdown",
   "metadata": {},
   "source": [
    "[Extract RGB or 6 digit code from Seaborn palette](https://stackoverflow.com/questions/38249454/extract-rgb-or-6-digit-code-from-seaborn-palette) <br>\n",
    "[seaborn palettes](https://chrisalbon.com/python/data_visualization/seaborn_color_palettes/)"
   ]
  },
  {
   "cell_type": "code",
   "execution_count": 25,
   "metadata": {
    "collapsed": false,
    "scrolled": true
   },
   "outputs": [
    {
     "data": {
      "text/plain": [
       "<matplotlib.legend.Legend at 0x7f4bda06b4a8>"
      ]
     },
     "execution_count": 25,
     "metadata": {},
     "output_type": "execute_result"
    },
    {
     "data": {
      "image/png": "[encoded data removed]",
      "text/plain": [
       "<matplotlib.figure.Figure at 0x7f4be3520240>"
      ]
     },
     "metadata": {},
     "output_type": "display_data"
    }
   ],
   "source": [
    "#also works, not as aesthetically pleasing\n",
    "    # import seaborn as sns\n",
    "    # g = sns.barplot(x='stat',y='rating',hue='year',data=gbp)\n",
    "\n",
    "\n",
    "#learning from key\n",
    "plt.style.use('seaborn-deep')\n",
    "df = mmm.iloc[:,:2]\n",
    "df['2015'].plot.bar(color = '#4c72b0', align='center',label='2015')\n",
    "df['2016'].plot.bar(color = '#55a868', align='edge',label='2015',\n",
    "                   rot = 0, figsize = (7,5))\n",
    "\n",
    "plt.title('Statistical Comparison Between 2015 and 2016')\n",
    "plt.yticks(np.arange(0,5.5,0.5))\n",
    "plt.ylim(0,5.5)\n",
    "plt.ylabel('Star Rating')\n",
    "plt.xlabel('Statistical Quantity')\n",
    "plt.legend(framealpha = 0, loc = 'upper center')"
   ]
  },
  {
   "cell_type": "markdown",
   "metadata": {},
   "source": [
    "## Part VIII - Conclusion\n",
    "- The average rating for popular movies showed to decrease from 2015 to 2016\n",
    "- The shape of the distributions for both data sets were also visibly different\n",
    "- These two differences make it possible that the changes were caused by Fandango changing their system, however there are two many variables involved and not enough evidence to say that the change is due to a change in Fandango's system"
   ]
  }
 ],
 "metadata": {
  "kernelspec": {
   "display_name": "Python 3",
   "language": "python",
   "name": "python3"
  },
  "language_info": {
   "codemirror_mode": {
    "name": "ipython",
    "version": 3
   },
   "file_extension": ".py",
   "mimetype": "text/x-python",
   "name": "python",
   "nbconvert_exporter": "python",
   "pygments_lexer": "ipython3",
   "version": "3.4.3"
  }
 },
 "nbformat": 4,
 "nbformat_minor": 2
}
