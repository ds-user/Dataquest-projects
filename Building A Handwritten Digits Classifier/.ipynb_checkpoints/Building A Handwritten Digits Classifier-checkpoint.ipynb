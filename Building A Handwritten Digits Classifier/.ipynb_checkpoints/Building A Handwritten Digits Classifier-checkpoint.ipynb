{
 "cells": [
  {
   "cell_type": "markdown",
   "metadata": {
    "collapsed": true
   },
   "source": [
    "# Guided Project - Building A Handwritten Digits Classifier\n",
    "In this guided project, the effectiveness of deep, feedforward neural networks at classifying images will be explored.\n",
    "## Part I - Introduction\n",
    "Before 2000, institutions like the United States Post Office used handwriting recognition software to read addresses, zip codes, and more. One of their approaches consists of pre-processing handwritten images then feeding to a neural network model.\n",
    "## Part II - Working with Image Data\n",
    "- Scikit-learn contains a number of datasets pre-loaded with the library, within the namespace of  `sklearn.datasets.`  The `load_digits()` function returns a copy of the hand-written digits dataset from University of California Irvine (UCI)\n",
    "- Because dataframes are a tabular representation of data, each image is represented as a row of pixel values. to visualize an iamge from the dataframe, need to reshape the image back to its original dimensions (28 x 28 pixels)\n",
    "- To visualize the image, need to reshape these pixel values back into the 28 by 28 and plot them on a coordinate grid\n",
    "    - In this data because 64 columns --> 8 x 8\n",
    "\n",
    "**Return copy of the hand-written digits dataset from UCI**"
   ]
  },
  {
   "cell_type": "code",
   "execution_count": 1,
   "metadata": {
    "collapsed": false,
    "scrolled": true
   },
   "outputs": [
    {
     "data": {
      "text/plain": [
       "(1797, 64)"
      ]
     },
     "execution_count": 1,
     "metadata": {},
     "output_type": "execute_result"
    }
   ],
   "source": [
    "from sklearn.datasets import  load_digits\n",
    "digits = load_digits()\n",
    "digits.data.shape"
   ]
  },
  {
   "cell_type": "code",
   "execution_count": 2,
   "metadata": {
    "collapsed": false,
    "scrolled": true
   },
   "outputs": [
    {
     "data": {
      "text/plain": [
       "dict_keys(['data', 'images', 'target', 'DESCR', 'target_names'])"
      ]
     },
     "execution_count": 2,
     "metadata": {},
     "output_type": "execute_result"
    }
   ],
   "source": [
    "digits.keys()"
   ]
  },
  {
   "cell_type": "markdown",
   "metadata": {},
   "source": [
    "**Transform the NumPy 2D array into a Pandas DataFrame**"
   ]
  },
  {
   "cell_type": "code",
   "execution_count": 3,
   "metadata": {
    "collapsed": false
   },
   "outputs": [
    {
     "data": {
      "text/plain": [
       "0    0\n",
       "1    1\n",
       "2    2\n",
       "3    3\n",
       "4    4\n",
       "dtype: int64"
      ]
     },
     "execution_count": 3,
     "metadata": {},
     "output_type": "execute_result"
    }
   ],
   "source": [
    "import pandas as pd\n",
    "\n",
    "labels = pd.Series(digits.target)\n",
    "labels.head()"
   ]
  },
  {
   "cell_type": "code",
   "execution_count": 4,
   "metadata": {
    "collapsed": false,
    "scrolled": false
   },
   "outputs": [
    {
     "data": {
      "text/html": [
       "<div>\n",
       "<style scoped>\n",
       "    .dataframe tbody tr th:only-of-type {\n",
       "        vertical-align: middle;\n",
       "    }\n",
       "\n",
       "    .dataframe tbody tr th {\n",
       "        vertical-align: top;\n",
       "    }\n",
       "\n",
       "    .dataframe thead th {\n",
       "        text-align: right;\n",
       "    }\n",
       "</style>\n",
       "<table border=\"1\" class=\"dataframe\">\n",
       "  <thead>\n",
       "    <tr style=\"text-align: right;\">\n",
       "      <th></th>\n",
       "      <th>0</th>\n",
       "      <th>1</th>\n",
       "      <th>2</th>\n",
       "      <th>3</th>\n",
       "      <th>4</th>\n",
       "      <th>5</th>\n",
       "      <th>6</th>\n",
       "      <th>7</th>\n",
       "      <th>8</th>\n",
       "      <th>9</th>\n",
       "      <th>...</th>\n",
       "      <th>54</th>\n",
       "      <th>55</th>\n",
       "      <th>56</th>\n",
       "      <th>57</th>\n",
       "      <th>58</th>\n",
       "      <th>59</th>\n",
       "      <th>60</th>\n",
       "      <th>61</th>\n",
       "      <th>62</th>\n",
       "      <th>63</th>\n",
       "    </tr>\n",
       "  </thead>\n",
       "  <tbody>\n",
       "    <tr>\n",
       "      <th>0</th>\n",
       "      <td>0.0</td>\n",
       "      <td>0.0</td>\n",
       "      <td>5.0</td>\n",
       "      <td>13.0</td>\n",
       "      <td>9.0</td>\n",
       "      <td>1.0</td>\n",
       "      <td>0.0</td>\n",
       "      <td>0.0</td>\n",
       "      <td>0.0</td>\n",
       "      <td>0.0</td>\n",
       "      <td>...</td>\n",
       "      <td>0.0</td>\n",
       "      <td>0.0</td>\n",
       "      <td>0.0</td>\n",
       "      <td>0.0</td>\n",
       "      <td>6.0</td>\n",
       "      <td>13.0</td>\n",
       "      <td>10.0</td>\n",
       "      <td>0.0</td>\n",
       "      <td>0.0</td>\n",
       "      <td>0.0</td>\n",
       "    </tr>\n",
       "    <tr>\n",
       "      <th>1</th>\n",
       "      <td>0.0</td>\n",
       "      <td>0.0</td>\n",
       "      <td>0.0</td>\n",
       "      <td>12.0</td>\n",
       "      <td>13.0</td>\n",
       "      <td>5.0</td>\n",
       "      <td>0.0</td>\n",
       "      <td>0.0</td>\n",
       "      <td>0.0</td>\n",
       "      <td>0.0</td>\n",
       "      <td>...</td>\n",
       "      <td>0.0</td>\n",
       "      <td>0.0</td>\n",
       "      <td>0.0</td>\n",
       "      <td>0.0</td>\n",
       "      <td>0.0</td>\n",
       "      <td>11.0</td>\n",
       "      <td>16.0</td>\n",
       "      <td>10.0</td>\n",
       "      <td>0.0</td>\n",
       "      <td>0.0</td>\n",
       "    </tr>\n",
       "    <tr>\n",
       "      <th>2</th>\n",
       "      <td>0.0</td>\n",
       "      <td>0.0</td>\n",
       "      <td>0.0</td>\n",
       "      <td>4.0</td>\n",
       "      <td>15.0</td>\n",
       "      <td>12.0</td>\n",
       "      <td>0.0</td>\n",
       "      <td>0.0</td>\n",
       "      <td>0.0</td>\n",
       "      <td>0.0</td>\n",
       "      <td>...</td>\n",
       "      <td>5.0</td>\n",
       "      <td>0.0</td>\n",
       "      <td>0.0</td>\n",
       "      <td>0.0</td>\n",
       "      <td>0.0</td>\n",
       "      <td>3.0</td>\n",
       "      <td>11.0</td>\n",
       "      <td>16.0</td>\n",
       "      <td>9.0</td>\n",
       "      <td>0.0</td>\n",
       "    </tr>\n",
       "    <tr>\n",
       "      <th>3</th>\n",
       "      <td>0.0</td>\n",
       "      <td>0.0</td>\n",
       "      <td>7.0</td>\n",
       "      <td>15.0</td>\n",
       "      <td>13.0</td>\n",
       "      <td>1.0</td>\n",
       "      <td>0.0</td>\n",
       "      <td>0.0</td>\n",
       "      <td>0.0</td>\n",
       "      <td>8.0</td>\n",
       "      <td>...</td>\n",
       "      <td>9.0</td>\n",
       "      <td>0.0</td>\n",
       "      <td>0.0</td>\n",
       "      <td>0.0</td>\n",
       "      <td>7.0</td>\n",
       "      <td>13.0</td>\n",
       "      <td>13.0</td>\n",
       "      <td>9.0</td>\n",
       "      <td>0.0</td>\n",
       "      <td>0.0</td>\n",
       "    </tr>\n",
       "    <tr>\n",
       "      <th>4</th>\n",
       "      <td>0.0</td>\n",
       "      <td>0.0</td>\n",
       "      <td>0.0</td>\n",
       "      <td>1.0</td>\n",
       "      <td>11.0</td>\n",
       "      <td>0.0</td>\n",
       "      <td>0.0</td>\n",
       "      <td>0.0</td>\n",
       "      <td>0.0</td>\n",
       "      <td>0.0</td>\n",
       "      <td>...</td>\n",
       "      <td>0.0</td>\n",
       "      <td>0.0</td>\n",
       "      <td>0.0</td>\n",
       "      <td>0.0</td>\n",
       "      <td>0.0</td>\n",
       "      <td>2.0</td>\n",
       "      <td>16.0</td>\n",
       "      <td>4.0</td>\n",
       "      <td>0.0</td>\n",
       "      <td>0.0</td>\n",
       "    </tr>\n",
       "  </tbody>\n",
       "</table>\n",
       "<p>5 rows × 64 columns</p>\n",
       "</div>"
      ],
      "text/plain": [
       "    0    1    2     3     4     5    6    7    8    9  ...    54   55   56  \\\n",
       "0  0.0  0.0  5.0  13.0   9.0   1.0  0.0  0.0  0.0  0.0 ...   0.0  0.0  0.0   \n",
       "1  0.0  0.0  0.0  12.0  13.0   5.0  0.0  0.0  0.0  0.0 ...   0.0  0.0  0.0   \n",
       "2  0.0  0.0  0.0   4.0  15.0  12.0  0.0  0.0  0.0  0.0 ...   5.0  0.0  0.0   \n",
       "3  0.0  0.0  7.0  15.0  13.0   1.0  0.0  0.0  0.0  8.0 ...   9.0  0.0  0.0   \n",
       "4  0.0  0.0  0.0   1.0  11.0   0.0  0.0  0.0  0.0  0.0 ...   0.0  0.0  0.0   \n",
       "\n",
       "    57   58    59    60    61   62   63  \n",
       "0  0.0  6.0  13.0  10.0   0.0  0.0  0.0  \n",
       "1  0.0  0.0  11.0  16.0  10.0  0.0  0.0  \n",
       "2  0.0  0.0   3.0  11.0  16.0  9.0  0.0  \n",
       "3  0.0  7.0  13.0  13.0   9.0  0.0  0.0  \n",
       "4  0.0  0.0   2.0  16.0   4.0  0.0  0.0  \n",
       "\n",
       "[5 rows x 64 columns]"
      ]
     },
     "execution_count": 4,
     "metadata": {},
     "output_type": "execute_result"
    }
   ],
   "source": [
    "features = pd.DataFrame(digits.data)\n",
    "features.head()"
   ]
  },
  {
   "cell_type": "markdown",
   "metadata": {
    "collapsed": true
   },
   "source": [
    "**Use matplotlib to visualize some of the images in the dataset**"
   ]
  },
  {
   "cell_type": "code",
   "execution_count": 5,
   "metadata": {
    "collapsed": false,
    "scrolled": false
   },
   "outputs": [
    {
     "data": {
      "image/png": "[encoded data removed]",
      "text/plain": [
       "<matplotlib.figure.Figure at 0x7f00e816dbe0>"
      ]
     },
     "metadata": {},
     "output_type": "display_data"
    }
   ],
   "source": [
    "%matplotlib inline\n",
    "import matplotlib.pyplot as plt\n",
    "import numpy as np\n",
    "\n",
    "fig = plt.figure()\n",
    "indexes = [0,99,199,299,999,1099,1199,1299]\n",
    "for i in range(1,9):\n",
    "    img = features.iloc[indexes[i-1]].values.reshape(8,8)\n",
    "    fig.add_subplot(2,4,i).imshow(img,cmap='gray_r')\n",
    "\n",
    "plt.show()"
   ]
  },
  {
   "cell_type": "markdown",
   "metadata": {},
   "source": [
    "## Part III - K-Nearest Neighbors Model\n",
    "- While linear and logistic regression models make assumptions about the linearity between the features and the output labels, the k-nearest neighbors algorithm make no such assumption. This allows them to capture nonlinearity in the data. If you recall, k-nearest neighbors don't have a specific model representation (hench why it's referred to as an algorithm and not a model)\n",
    "- The k-nearest neighbors algorithm compares every unseen observation in the test set to all (or many, as some implementations constrain the search space) training obervation to look for similar (or the \"nearest\") observations. Then, the algorithm finds the label with the most nearby observations and assigns that as the prediction for unseen observation. \n",
    "- [Good explanation of knn](https://towardsdatascience.com/machine-learning-basics-with-the-k-nearest-neighbors-algorithm-6a6e71d01761)\n",
    "\n",
    "**Split up data into train and test sets**"
   ]
  },
  {
   "cell_type": "code",
   "execution_count": 6,
   "metadata": {
    "collapsed": false
   },
   "outputs": [],
   "source": [
    "from sklearn.model_selection import train_test_split\n",
    "\n",
    "train_f, test_f ,train_l, test_l = \\\n",
    "train_test_split(features, labels, test_size=0.2, random_state=1)"
   ]
  },
  {
   "cell_type": "markdown",
   "metadata": {},
   "source": [
    "**Setup a pipeline for testing and training k-nn models**\n",
    "\n",
    "*1) Write a function that uses `KNeighborsClassifier` for training knn models*"
   ]
  },
  {
   "cell_type": "code",
   "execution_count": 7,
   "metadata": {
    "collapsed": true
   },
   "outputs": [],
   "source": [
    "from sklearn.neighbors import KNeighborsClassifier\n",
    "\n",
    "def train(k, train_features, train_labels):\n",
    "    knn = KNeighborsClassifier(n_neighbors = k)\n",
    "    knn.fit(train_features,train_labels)\n",
    "    return knn"
   ]
  },
  {
   "cell_type": "markdown",
   "metadata": {},
   "source": [
    "*2) Write a function that tests the model*"
   ]
  },
  {
   "cell_type": "code",
   "execution_count": 8,
   "metadata": {
    "collapsed": true
   },
   "outputs": [],
   "source": [
    "from sklearn.metrics import accuracy_score\n",
    "\n",
    "def test(model, test_features, test_labels):\n",
    "    knn_pred = model.predict(test_features)\n",
    "    return accuracy_score(test_labels,knn_pred,normalize=True)"
   ]
  },
  {
   "cell_type": "markdown",
   "metadata": {},
   "source": [
    "*3) Write a function that performs 4-fold cross validation using the functions defined above*"
   ]
  },
  {
   "cell_type": "code",
   "execution_count": 9,
   "metadata": {
    "collapsed": true
   },
   "outputs": [],
   "source": [
    "from sklearn.model_selection import KFold\n",
    "\n",
    "def cross_validate(k):\n",
    "    kf = KFold(n_splits=4, shuffle=False, random_state=1)\n",
    "    all_ac_scr=[]\n",
    "    for train_index, test_index in kf.split(features):\n",
    "        train_features, test_features = features.iloc[train_index], features.iloc[test_index]\n",
    "        train_labels, test_labels = labels.iloc[train_index], labels.iloc[test_index]\n",
    "        \n",
    "        knn_fit = train(k, train_features, train_labels)\n",
    "        ac_scr = test(knn_fit, test_features, test_labels)\n",
    "        all_ac_scr.append(ac_scr)\n",
    "    return np.mean(all_ac_scr)"
   ]
  },
  {
   "cell_type": "markdown",
   "metadata": {},
   "source": [
    "**Test different k and plot resulting classification accuracies**"
   ]
  },
  {
   "cell_type": "code",
   "execution_count": 10,
   "metadata": {
    "collapsed": false,
    "scrolled": false
   },
   "outputs": [
    {
     "data": {
      "text/plain": [
       "<matplotlib.text.Text at 0x7f00e2708898>"
      ]
     },
     "execution_count": 10,
     "metadata": {},
     "output_type": "execute_result"
    },
    {
     "data": {
      "image/png": "[encoded data removed]",
      "text/plain": [
       "<matplotlib.figure.Figure at 0x7f00e26e2898>"
      ]
     },
     "metadata": {},
     "output_type": "display_data"
    }
   ],
   "source": [
    "k_ac_scr=[]\n",
    "all_k = list(range(1,10))\n",
    "for k in all_k:\n",
    "    k_ac_scr.append(cross_validate(k))\n",
    "\n",
    "plt.plot(all_k, k_ac_scr)\n",
    "plt.title('Normalized Accuracy Score vs. Number of Neighbors')\n",
    "plt.xlabel('Number of Neighbors')\n",
    "plt.ylabel('Mormalized Accuracy Score')"
   ]
  },
  {
   "cell_type": "markdown",
   "metadata": {},
   "source": [
    "**Performance on train set - observe for overfitting in Part IV**"
   ]
  },
  {
   "cell_type": "code",
   "execution_count": 11,
   "metadata": {
    "collapsed": true
   },
   "outputs": [],
   "source": [
    "def cross_validateT(k):\n",
    "    kf = KFold(n_splits=4, shuffle=False, random_state=1)\n",
    "    all_ac_scr=[]\n",
    "    for train_index, test_index in kf.split(features):\n",
    "        train_features, test_features = features.iloc[train_index], features.iloc[test_index]\n",
    "        train_labels, test_labels = labels.iloc[train_index], labels.iloc[test_index]\n",
    "        \n",
    "        knn_fit = train(k, train_features, train_labels)\n",
    "        ac_scr = test(knn_fit, train_features, train_labels)\n",
    "        all_ac_scr.append(ac_scr)\n",
    "    return np.mean(all_ac_scr)"
   ]
  },
  {
   "cell_type": "code",
   "execution_count": 12,
   "metadata": {
    "collapsed": false,
    "scrolled": true
   },
   "outputs": [
    {
     "data": {
      "text/plain": [
       "<matplotlib.text.Text at 0x7f00e3fc0ef0>"
      ]
     },
     "execution_count": 12,
     "metadata": {},
     "output_type": "execute_result"
    },
    {
     "data": {
      "image/png": "[encoded data removed]",
      "text/plain": [
       "<matplotlib.figure.Figure at 0x7f00e2675ac8>"
      ]
     },
     "metadata": {},
     "output_type": "display_data"
    }
   ],
   "source": [
    "k_ac_scrT=[]\n",
    "all_k = list(range(1,10))\n",
    "for k in all_k:\n",
    "    k_ac_scrT.append(cross_validateT(k))\n",
    "\n",
    "plt.plot(all_k, k_ac_scrT, c='red')\n",
    "plt.title('Normalized Accuracy Score vs. Number of Neighbors')\n",
    "plt.xlabel('Number of Neighbors')\n",
    "plt.ylabel('Mormalized Accuracy Score')"
   ]
  },
  {
   "cell_type": "markdown",
   "metadata": {},
   "source": [
    "## Part IV - Neural Network With One Hidden Layer\n",
    "- There are a few downsides to using k-nearest neighbors:\n",
    "    - high memory usage (foe each new unseen observation, many comparisons need to be made to seen observations)\n",
    "    - no model representation to debug and explore\n",
    "   \n",
    "**Use MLP Classifier package to execute a neural network**"
   ]
  },
  {
   "cell_type": "code",
   "execution_count": 13,
   "metadata": {
    "collapsed": false,
    "scrolled": true
   },
   "outputs": [],
   "source": [
    "from sklearn.neural_network import MLPClassifier\n",
    "    \n",
    "def cross_validate_nn(num_n):\n",
    "    kf = KFold(n_splits=4, shuffle=False, random_state=1)\n",
    "    all_ac_scr=[]\n",
    "    for train_index, test_index in kf.split(features):\n",
    "        train_features, test_features = features.iloc[train_index], features.iloc[test_index]\n",
    "        train_labels, test_labels = labels.iloc[train_index], labels.iloc[test_index]\n",
    "\n",
    "        nn = MLPClassifier(hidden_layer_sizes = num_n)\n",
    "        nn.fit(train_features, train_labels)\n",
    "        nn_pred = nn.predict(test_features)\n",
    "        ac_scr = accuracy_score(test_labels,nn_pred,normalize=True)\n",
    "        all_ac_scr.append(ac_scr)\n",
    "    return np.mean(all_ac_scr)"
   ]
  },
  {
   "cell_type": "markdown",
   "metadata": {},
   "source": [
    "**Test different number of neurons and plot resulting classification accuracies**"
   ]
  },
  {
   "cell_type": "code",
   "execution_count": 14,
   "metadata": {
    "collapsed": false,
    "scrolled": true
   },
   "outputs": [
    {
     "name": "stderr",
     "output_type": "stream",
     "text": [
      "/dataquest/system/env/python3/lib/python3.4/site-packages/sklearn/neural_network/multilayer_perceptron.py:563: ConvergenceWarning: Stochastic Optimizer: Maximum iterations reached and the optimization hasn't converged yet.\n",
      "  % (), ConvergenceWarning)\n"
     ]
    },
    {
     "data": {
      "text/plain": [
       "<matplotlib.text.Text at 0x7f00e260af60>"
      ]
     },
     "execution_count": 14,
     "metadata": {},
     "output_type": "execute_result"
    },
    {
     "data": {
      "image/png": "[encoded data removed]",
      "text/plain": [
       "<matplotlib.figure.Figure at 0x7f00e42b2240>"
      ]
     },
     "metadata": {},
     "output_type": "display_data"
    }
   ],
   "source": [
    "n_ac_scr=[]\n",
    "all_n = list(map(lambda x:pow(2,x),list(range(3,9)))) #raising elements of a list to a power\n",
    "for n in all_n:\n",
    "    n_ac_scr.append(cross_validate_nn((n,)))\n",
    "\n",
    "plt.plot(all_n, n_ac_scr)\n",
    "plt.title('Normalized Accuracy Score vs. Number of Neurons')\n",
    "plt.xlabel('Number of Neurons')\n",
    "plt.ylabel('Mormalized Accuracy Score')"
   ]
  },
  {
   "cell_type": "markdown",
   "metadata": {},
   "source": [
    "**Performance on train set - observe for overfitting**"
   ]
  },
  {
   "cell_type": "code",
   "execution_count": 15,
   "metadata": {
    "collapsed": true
   },
   "outputs": [],
   "source": [
    "from sklearn.neural_network import MLPClassifier\n",
    "    \n",
    "def cross_validate_nnT(num_n):\n",
    "    kf = KFold(n_splits=4, shuffle=False, random_state=1)\n",
    "    all_ac_scr=[]\n",
    "    for train_index, test_index in kf.split(features):\n",
    "        train_features, test_features = features.iloc[train_index], features.iloc[test_index]\n",
    "        train_labels, test_labels = labels.iloc[train_index], labels.iloc[test_index]\n",
    "\n",
    "        nn = MLPClassifier(hidden_layer_sizes = num_n)\n",
    "        nn.fit(train_features, train_labels)\n",
    "        nn_pred = nn.predict(train_features)\n",
    "        ac_scr = accuracy_score(train_labels,nn_pred,normalize=True)\n",
    "        all_ac_scr.append(ac_scr)\n",
    "    return np.mean(all_ac_scr)"
   ]
  },
  {
   "cell_type": "code",
   "execution_count": 16,
   "metadata": {
    "collapsed": false
   },
   "outputs": [
    {
     "name": "stderr",
     "output_type": "stream",
     "text": [
      "/dataquest/system/env/python3/lib/python3.4/site-packages/sklearn/neural_network/multilayer_perceptron.py:563: ConvergenceWarning: Stochastic Optimizer: Maximum iterations reached and the optimization hasn't converged yet.\n",
      "  % (), ConvergenceWarning)\n"
     ]
    },
    {
     "data": {
      "text/plain": [
       "<matplotlib.text.Text at 0x7f00e2568e80>"
      ]
     },
     "execution_count": 16,
     "metadata": {},
     "output_type": "execute_result"
    },
    {
     "data": {
      "image/png": "[encoded data removed]",
      "text/plain": [
       "<matplotlib.figure.Figure at 0x7f00e26bc550>"
      ]
     },
     "metadata": {},
     "output_type": "display_data"
    }
   ],
   "source": [
    "n_ac_scrT=[]\n",
    "all_n = list(map(lambda x:pow(2,x),list(range(3,9)))) #raising elements of a list to a power\n",
    "for n in all_n:\n",
    "    n_ac_scrT.append(cross_validate_nnT((n,)))\n",
    "\n",
    "plt.plot(all_n, n_ac_scrT, c='red')\n",
    "plt.title('Normalized Accuracy Score vs. Number of Neurons')\n",
    "plt.xlabel('Number of Neurons')\n",
    "plt.ylabel('Mormalized Accuracy Score')"
   ]
  },
  {
   "cell_type": "markdown",
   "metadata": {},
   "source": [
    "**Ranked performance of the models by the overall accuracies** \n",
    "\n",
    "[knn - k-nearest neighbor](https://medium.com/30-days-of-machine-learning/day-3-k-nearest-neighbors-and-bias-variance-tradeoff-75f84d515bdb)\n",
    "[nn - neural network](https://missinglink.ai/guides/neural-network-concepts/neural-network-bias-bias-neuron-overfitting-underfitting/)\n",
    "\n",
    "The best accuracies for each model:\n",
    "\n",
    "| Rank      | Accuracy | Model | Number of k or n|\n",
    "|:---------:|:--------:|:-----:|:---------------:|\n",
    "| 1         | 96.77%   | knn   | 1               |\n",
    "| 2         | 94.66%   |  nn   | 256             |\n",
    "\n",
    "- The knn's lowest scoring accuracy is still above nn's highest scoring accuracy - this indicates that knn is better to use when there is only a single hidden layer\n",
    "- The knn's best scoring accuracy is with only 1 nearest neighbor which could lead to a high variance\n",
    "- The nn's best scoring accuracy is with 256 neurons, however as shown in the chart the greatest jumps in accuracy occur in the smaller end of the domain"
   ]
  },
  {
   "cell_type": "markdown",
   "metadata": {},
   "source": [
    "**Identify if any models start to overfit**\n",
    "\n",
    "For each model, compute and visualize the performance for both the train and test sets to understand how they diverged. Models that overfit tend to perform well on the train set but poorly on the test set.\n",
    "\n",
    "- This was done for both models and the training set graphs are in red\n",
    "- For knn although the percentages for the training set - which is expected - are roughly 0.04% better than the testing set, the general trend of the graphs resemble each other and the performance of the training set is not significantly greater than that of the testing set\n",
    "- Similarly nn has the same pattern, the performance of the training set overall are better than the testing set, but the patterns of the training and testing set resemble each other\n",
    "- For both graphs it seems that overfitting is not visually apparent in both models"
   ]
  },
  {
   "cell_type": "markdown",
   "metadata": {},
   "source": [
    "## Part V - Nueral Network With Two Hidden Layer\n",
    "Adding more neurons to a single hidden layer vastly improved the classification accuracy. Explore if increasing the number of layer improves accuracy.\n",
    "\n",
    "**Modify the neural network training pipeline to use 2 hidden layers instead in the network**"
   ]
  },
  {
   "cell_type": "code",
   "execution_count": 19,
   "metadata": {
    "collapsed": true
   },
   "outputs": [],
   "source": [
    "onelayer = n_ac_scr[3]"
   ]
  },
  {
   "cell_type": "code",
   "execution_count": 17,
   "metadata": {
    "collapsed": true
   },
   "outputs": [],
   "source": [
    "twolayer = cross_validate_nn((64,64))"
   ]
  },
  {
   "cell_type": "code",
   "execution_count": 20,
   "metadata": {
    "collapsed": false
   },
   "outputs": [
    {
     "data": {
      "text/plain": [
       "0.9315478841870823"
      ]
     },
     "execution_count": 20,
     "metadata": {},
     "output_type": "execute_result"
    }
   ],
   "source": [
    "onelayer"
   ]
  },
  {
   "cell_type": "code",
   "execution_count": 18,
   "metadata": {
    "collapsed": false
   },
   "outputs": [
    {
     "data": {
      "text/plain": [
       "0.9415726305369957"
      ]
     },
     "execution_count": 18,
     "metadata": {},
     "output_type": "execute_result"
    }
   ],
   "source": [
    "twolayer"
   ]
  },
  {
   "cell_type": "markdown",
   "metadata": {},
   "source": [
    "**Analyze the accuracies**\n",
    "- These accuracies, also known as simple accuracies, are the number of correctly predicted labels\n",
    "- With the same number of neurons in each hidden layers, the model with 2 hidden layers did 1% better than the model with only 1 hidden layer\n",
    "\n",
    "**Do any of the models start to overfit?**\n",
    "\n",
    "Although traditionally overfitting is a concern in neural network models, the use of a 4-fold cross validation provides a bit more assurance that the model is generalizing to reach the extra percentage"
   ]
  },
  {
   "cell_type": "markdown",
   "metadata": {},
   "source": [
    "## Part VI - Neural Network With Three Hidden Layers\n",
    "Using more hidden layers is known to increase the amount of overfitting that happens. To help prevent overfitting, increase the number of folds used for k-fold cross validation to 6 while testing networks with 3 hidden layers\n",
    "\n",
    "**Modify the neural network training pipeline to use 6 fold cross validation**"
   ]
  },
  {
   "cell_type": "code",
   "execution_count": 22,
   "metadata": {
    "collapsed": true
   },
   "outputs": [],
   "source": [
    "def cross_validate_nn6(num_n):\n",
    "    kf = KFold(n_splits=6, shuffle=False, random_state=1)\n",
    "    all_ac_scr=[]\n",
    "    for train_index, test_index in kf.split(features):\n",
    "        train_features, test_features = features.iloc[train_index], features.iloc[test_index]\n",
    "        train_labels, test_labels = labels.iloc[train_index], labels.iloc[test_index]\n",
    "\n",
    "        nn = MLPClassifier(hidden_layer_sizes = num_n)\n",
    "        nn.fit(train_features, train_labels)\n",
    "        nn_pred = nn.predict(test_features)\n",
    "        ac_scr = accuracy_score(test_labels,nn_pred,normalize=True)\n",
    "        all_ac_scr.append(ac_scr)\n",
    "    return np.mean(all_ac_scr)"
   ]
  },
  {
   "cell_type": "markdown",
   "metadata": {},
   "source": [
    "**Train a neural network model using 10 neurons**"
   ]
  },
  {
   "cell_type": "code",
   "execution_count": 24,
   "metadata": {
    "collapsed": false,
    "scrolled": true
   },
   "outputs": [
    {
     "name": "stderr",
     "output_type": "stream",
     "text": [
      "/dataquest/system/env/python3/lib/python3.4/site-packages/sklearn/neural_network/multilayer_perceptron.py:563: ConvergenceWarning: Stochastic Optimizer: Maximum iterations reached and the optimization hasn't converged yet.\n",
      "  % (), ConvergenceWarning)\n"
     ]
    }
   ],
   "source": [
    "n_ac_scr10=[]\n",
    "all_n = [(10,),(10,10),(10,10,10)]\n",
    "for n in all_n:\n",
    "    n_ac_scr10.append(cross_validate_nn6(n))"
   ]
  },
  {
   "cell_type": "markdown",
   "metadata": {},
   "source": [
    "**Train a neural network model using 64 neurons**"
   ]
  },
  {
   "cell_type": "code",
   "execution_count": 25,
   "metadata": {
    "collapsed": true
   },
   "outputs": [],
   "source": [
    "n_ac_scr64=[]\n",
    "all_n = [(64,),(64,64),(64,64,64)]\n",
    "for n in all_n:\n",
    "    n_ac_scr64.append(cross_validate_nn6(n))"
   ]
  },
  {
   "cell_type": "markdown",
   "metadata": {},
   "source": [
    "**Train a neural network model using 128 neurons**"
   ]
  },
  {
   "cell_type": "code",
   "execution_count": 26,
   "metadata": {
    "collapsed": true
   },
   "outputs": [],
   "source": [
    "n_ac_scr128=[]\n",
    "all_n = [(128,),(128,128),(128,128,128)]\n",
    "for n in all_n:\n",
    "    n_ac_scr128.append(cross_validate_nn6(n))"
   ]
  },
  {
   "cell_type": "markdown",
   "metadata": {},
   "source": [
    "**Plotting neural networks with different number of layers and neurons**"
   ]
  },
  {
   "cell_type": "code",
   "execution_count": 38,
   "metadata": {
    "collapsed": false,
    "scrolled": true
   },
   "outputs": [
    {
     "data": {
      "image/png": "[encoded data removed]",
      "text/plain": [
       "<matplotlib.figure.Figure at 0x7f00e228c748>"
      ]
     },
     "metadata": {},
     "output_type": "display_data"
    }
   ],
   "source": [
    "plt.plot(list(range(1,4)), n_ac_scr10, c='blue', label ='10 Neurons')\n",
    "plt.plot(list(range(1,4)), n_ac_scr64, c='green', label ='64 Neurons')\n",
    "plt.plot(list(range(1,4)), n_ac_scr128, c='red', label ='128 Neurons')\n",
    "plt.legend(loc = 'best')\n",
    "plt.title('Normalized Accuracy Score vs. Number of Layers')\n",
    "plt.xlabel('Number of Layers')\n",
    "plt.ylabel('Mormalized Accuracy Score')\n",
    "plt.show()"
   ]
  },
  {
   "cell_type": "code",
   "execution_count": 33,
   "metadata": {
    "collapsed": false,
    "scrolled": true
   },
   "outputs": [
    {
     "data": {
      "text/plain": [
       "<matplotlib.text.Text at 0x7f00e2307518>"
      ]
     },
     "execution_count": 33,
     "metadata": {},
     "output_type": "execute_result"
    },
    {
     "data": {
      "image/png": "[encoded data removed]",
      "text/plain": [
       "<matplotlib.figure.Figure at 0x7f00e233e160>"
      ]
     },
     "metadata": {},
     "output_type": "display_data"
    }
   ],
   "source": [
    "n_ac_scr10m = np.mean(n_ac_scr10)\n",
    "n_ac_scr64m = np.mean(n_ac_scr64)\n",
    "n_ac_scr128m = np.mean(n_ac_scr128)\n",
    "ac_scr_means = [n_ac_scr10m,n_ac_scr64m,n_ac_scr128m]\n",
    "\n",
    "plt.plot([10,64,128], ac_scr_means, c = 'black')\n",
    "plt.title('Normalized Accuracy Score vs. Number of Layers')\n",
    "plt.xlabel('Number of Layers')\n",
    "plt.ylabel('Mormalized Accuracy Score')"
   ]
  },
  {
   "cell_type": "code",
   "execution_count": 32,
   "metadata": {
    "collapsed": false
   },
   "outputs": [
    {
     "data": {
      "text/plain": [
       "[0.8961216400346834, 0.9452842809364549, 0.9530719682893595]"
      ]
     },
     "execution_count": 32,
     "metadata": {},
     "output_type": "execute_result"
    }
   ],
   "source": [
    "ac_scr_means"
   ]
  },
  {
   "cell_type": "code",
   "execution_count": 39,
   "metadata": {
    "collapsed": false
   },
   "outputs": [
    {
     "data": {
      "text/plain": [
       "[0.9677233358079684,\n",
       " 0.9616010888393962,\n",
       " 0.9627183865379857,\n",
       " 0.9649480326651819,\n",
       " 0.9621665429349171,\n",
       " 0.9588270230141054,\n",
       " 0.9571591190299431,\n",
       " 0.9571578817124474,\n",
       " 0.9543801039346697]"
      ]
     },
     "execution_count": 39,
     "metadata": {},
     "output_type": "execute_result"
    }
   ],
   "source": [
    "k_ac_scr"
   ]
  },
  {
   "cell_type": "markdown",
   "metadata": {},
   "source": [
    "**Analyzing the performance of the models by the overall accuracies**\n",
    "\n",
    "- Increasing the number of hidden layers had a different effect on each number of neurons\n",
    "- Although the accuracy increased with increasing the hidden layers to 3 - even with a 6-fold cross validation - it is still not as accurate as the k-nearest neighbor\n",
    "    - However, ranking models purely on simple accuracy does not paint the full image on the model analysis (i.e. information on false positives)"
   ]
  },
  {
   "cell_type": "markdown",
   "metadata": {},
   "source": [
    "## Part VII - Next Steps\n",
    "- Use the existing pipeline built to try other machine learning models:\n",
    "    - Decision Tree Models\n",
    "    - Random Forest Models\n",
    "- Experiment with different activation functions to see if accuracies improve\n",
    "- Research techniques for visualizing weights in neural network models and add a visualization step to your pipeline\n",
    "    - [Visualization of MLP Weights on MNIST](https://scikit-learn.org/stable/auto_examples/neural_networks/plot_mnist_filters.html)\n",
    "- Explore subjects:\n",
    "    - Image classification and computer vision\n",
    "    - Higher performance tools for neural networks (like Tensorflow or PyTorch)\n",
    "    - Different neural network architectures (like Convolutional Neural Networks)"
   ]
  }
 ],
 "metadata": {
  "anaconda-cloud": {},
  "kernelspec": {
   "display_name": "Python 3",
   "language": "python",
   "name": "python3"
  },
  "language_info": {
   "codemirror_mode": {
    "name": "ipython",
    "version": 3
   },
   "file_extension": ".py",
   "mimetype": "text/x-python",
   "name": "python",
   "nbconvert_exporter": "python",
   "pygments_lexer": "ipython3",
   "version": "3.4.3"
  }
 },
 "nbformat": 4,
 "nbformat_minor": 2
}
