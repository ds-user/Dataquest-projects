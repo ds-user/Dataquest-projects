{
 "cells": [
  {
   "cell_type": "markdown",
   "metadata": {
    "collapsed": true
   },
   "source": [
    "# Predicting Bike Rentals\n",
    "The data used in this project is a collection of detailed data on the number of bicycles people rent by the hour and day in Washington, D.C. The data includes details like the weather conditions as well calendaric information. These features will be important in the multiple models used to predict the total number of bikes people rented in a given hour.\n",
    "## Part I - Introduction\n",
    "**Explore the data** "
   ]
  },
  {
   "cell_type": "code",
   "execution_count": 1,
   "metadata": {
    "collapsed": false
   },
   "outputs": [
    {
     "data": {
      "text/html": [
       "<div>\n",
       "<style scoped>\n",
       "    .dataframe tbody tr th:only-of-type {\n",
       "        vertical-align: middle;\n",
       "    }\n",
       "\n",
       "    .dataframe tbody tr th {\n",
       "        vertical-align: top;\n",
       "    }\n",
       "\n",
       "    .dataframe thead th {\n",
       "        text-align: right;\n",
       "    }\n",
       "</style>\n",
       "<table border=\"1\" class=\"dataframe\">\n",
       "  <thead>\n",
       "    <tr style=\"text-align: right;\">\n",
       "      <th></th>\n",
       "      <th>instant</th>\n",
       "      <th>dteday</th>\n",
       "      <th>season</th>\n",
       "      <th>yr</th>\n",
       "      <th>mnth</th>\n",
       "      <th>hr</th>\n",
       "      <th>holiday</th>\n",
       "      <th>weekday</th>\n",
       "      <th>workingday</th>\n",
       "      <th>weathersit</th>\n",
       "      <th>temp</th>\n",
       "      <th>atemp</th>\n",
       "      <th>hum</th>\n",
       "      <th>windspeed</th>\n",
       "      <th>casual</th>\n",
       "      <th>registered</th>\n",
       "      <th>cnt</th>\n",
       "    </tr>\n",
       "  </thead>\n",
       "  <tbody>\n",
       "    <tr>\n",
       "      <th>0</th>\n",
       "      <td>1</td>\n",
       "      <td>2011-01-01</td>\n",
       "      <td>1</td>\n",
       "      <td>0</td>\n",
       "      <td>1</td>\n",
       "      <td>0</td>\n",
       "      <td>0</td>\n",
       "      <td>6</td>\n",
       "      <td>0</td>\n",
       "      <td>1</td>\n",
       "      <td>0.24</td>\n",
       "      <td>0.2879</td>\n",
       "      <td>0.81</td>\n",
       "      <td>0.0</td>\n",
       "      <td>3</td>\n",
       "      <td>13</td>\n",
       "      <td>16</td>\n",
       "    </tr>\n",
       "    <tr>\n",
       "      <th>1</th>\n",
       "      <td>2</td>\n",
       "      <td>2011-01-01</td>\n",
       "      <td>1</td>\n",
       "      <td>0</td>\n",
       "      <td>1</td>\n",
       "      <td>1</td>\n",
       "      <td>0</td>\n",
       "      <td>6</td>\n",
       "      <td>0</td>\n",
       "      <td>1</td>\n",
       "      <td>0.22</td>\n",
       "      <td>0.2727</td>\n",
       "      <td>0.80</td>\n",
       "      <td>0.0</td>\n",
       "      <td>8</td>\n",
       "      <td>32</td>\n",
       "      <td>40</td>\n",
       "    </tr>\n",
       "    <tr>\n",
       "      <th>2</th>\n",
       "      <td>3</td>\n",
       "      <td>2011-01-01</td>\n",
       "      <td>1</td>\n",
       "      <td>0</td>\n",
       "      <td>1</td>\n",
       "      <td>2</td>\n",
       "      <td>0</td>\n",
       "      <td>6</td>\n",
       "      <td>0</td>\n",
       "      <td>1</td>\n",
       "      <td>0.22</td>\n",
       "      <td>0.2727</td>\n",
       "      <td>0.80</td>\n",
       "      <td>0.0</td>\n",
       "      <td>5</td>\n",
       "      <td>27</td>\n",
       "      <td>32</td>\n",
       "    </tr>\n",
       "    <tr>\n",
       "      <th>3</th>\n",
       "      <td>4</td>\n",
       "      <td>2011-01-01</td>\n",
       "      <td>1</td>\n",
       "      <td>0</td>\n",
       "      <td>1</td>\n",
       "      <td>3</td>\n",
       "      <td>0</td>\n",
       "      <td>6</td>\n",
       "      <td>0</td>\n",
       "      <td>1</td>\n",
       "      <td>0.24</td>\n",
       "      <td>0.2879</td>\n",
       "      <td>0.75</td>\n",
       "      <td>0.0</td>\n",
       "      <td>3</td>\n",
       "      <td>10</td>\n",
       "      <td>13</td>\n",
       "    </tr>\n",
       "    <tr>\n",
       "      <th>4</th>\n",
       "      <td>5</td>\n",
       "      <td>2011-01-01</td>\n",
       "      <td>1</td>\n",
       "      <td>0</td>\n",
       "      <td>1</td>\n",
       "      <td>4</td>\n",
       "      <td>0</td>\n",
       "      <td>6</td>\n",
       "      <td>0</td>\n",
       "      <td>1</td>\n",
       "      <td>0.24</td>\n",
       "      <td>0.2879</td>\n",
       "      <td>0.75</td>\n",
       "      <td>0.0</td>\n",
       "      <td>0</td>\n",
       "      <td>1</td>\n",
       "      <td>1</td>\n",
       "    </tr>\n",
       "  </tbody>\n",
       "</table>\n",
       "</div>"
      ],
      "text/plain": [
       "   instant      dteday  season  yr  mnth  hr  holiday  weekday  workingday  \\\n",
       "0        1  2011-01-01       1   0     1   0        0        6           0   \n",
       "1        2  2011-01-01       1   0     1   1        0        6           0   \n",
       "2        3  2011-01-01       1   0     1   2        0        6           0   \n",
       "3        4  2011-01-01       1   0     1   3        0        6           0   \n",
       "4        5  2011-01-01       1   0     1   4        0        6           0   \n",
       "\n",
       "   weathersit  temp   atemp   hum  windspeed  casual  registered  cnt  \n",
       "0           1  0.24  0.2879  0.81        0.0       3          13   16  \n",
       "1           1  0.22  0.2727  0.80        0.0       8          32   40  \n",
       "2           1  0.22  0.2727  0.80        0.0       5          27   32  \n",
       "3           1  0.24  0.2879  0.75        0.0       3          10   13  \n",
       "4           1  0.24  0.2879  0.75        0.0       0           1    1  "
      ]
     },
     "execution_count": 1,
     "metadata": {},
     "output_type": "execute_result"
    }
   ],
   "source": [
    "import pandas as pd\n",
    "bike_rentals = pd.read_csv('bike_rental_hour.csv')\n",
    "bike_rentals.head()"
   ]
  },
  {
   "cell_type": "markdown",
   "metadata": {},
   "source": [
    "**Use a histogram to investigate distribution of total rentals**"
   ]
  },
  {
   "cell_type": "code",
   "execution_count": 2,
   "metadata": {
    "collapsed": false,
    "scrolled": true
   },
   "outputs": [
    {
     "data": {
      "text/plain": [
       "<matplotlib.text.Text at 0x7fd065287630>"
      ]
     },
     "execution_count": 2,
     "metadata": {},
     "output_type": "execute_result"
    },
    {
     "data": {
      "image/png": "[encoded data removed]",
      "text/plain": [
       "<matplotlib.figure.Figure at 0x7fd068f3fc88>"
      ]
     },
     "metadata": {},
     "output_type": "display_data"
    }
   ],
   "source": [
    "% matplotlib inline\n",
    "import matplotlib.pyplot as plt\n",
    "plt.hist(bike_rentals['cnt'])\n",
    "plt.title('histogram of number of bike rentals')\n",
    "plt.xlabel('number of bike rentals')\n",
    "plt.ylabel('frequency of bin')"
   ]
  },
  {
   "cell_type": "markdown",
   "metadata": {},
   "source": [
    "**Explore the correlation with the features and target column** <br>\n",
    "Note: registered (number of registered riders) and casual (number of casual riders who hadn't previousl signed up with the bike sharing program) will not be used as feature columns as they are addends, or summands, cnt (the total number of bike rentals) - common not to use features that the target is derived from."
   ]
  },
  {
   "cell_type": "code",
   "execution_count": 3,
   "metadata": {
    "collapsed": false,
    "scrolled": true
   },
   "outputs": [
    {
     "data": {
      "text/plain": [
       "cnt           1.000000\n",
       "registered    0.972151\n",
       "casual        0.694564\n",
       "temp          0.404772\n",
       "atemp         0.400929\n",
       "hr            0.394071\n",
       "instant       0.278379\n",
       "yr            0.250495\n",
       "season        0.178056\n",
       "mnth          0.120638\n",
       "windspeed     0.093234\n",
       "workingday    0.030284\n",
       "weekday       0.026900\n",
       "holiday      -0.030927\n",
       "weathersit   -0.142426\n",
       "hum          -0.322911\n",
       "Name: cnt, dtype: float64"
      ]
     },
     "execution_count": 3,
     "metadata": {},
     "output_type": "execute_result"
    }
   ],
   "source": [
    "bike_rentals.corr()['cnt'].sort_values(ascending=False)"
   ]
  },
  {
   "cell_type": "markdown",
   "metadata": {},
   "source": [
    "## Part II - Calculating Features\n",
    "It can often be helpful to calculate features before applying machine learning models. Features can enhanve the accuracy of models by introducing new information, or distilling existing information.\n",
    "\n",
    "For example the hr column is the hours during which bikes are rented, from 1 to 24. To make the computer understand the relation between them. may be better to add a new column with labels for morning, afternoon, evening and night. Bundling similar times together will enable the model to make better decisions.\n",
    "\n",
    "**Define a function that bundles hours together**"
   ]
  },
  {
   "cell_type": "code",
   "execution_count": 4,
   "metadata": {
    "collapsed": true
   },
   "outputs": [],
   "source": [
    "def assign_label(num_val_for_hr):\n",
    "    if 6 <= num_val_for_hr < 12:\n",
    "        return 1\n",
    "    elif 12 <= num_val_for_hr < 18:\n",
    "        return 2\n",
    "    elif 18 <= num_val_for_hr <= 24:\n",
    "        return 3\n",
    "    elif 0 <= num_val_for_hr < 6:\n",
    "        return 4"
   ]
  },
  {
   "cell_type": "markdown",
   "metadata": {},
   "source": [
    "**apply function to each item in the hour column**"
   ]
  },
  {
   "cell_type": "code",
   "execution_count": 5,
   "metadata": {
    "collapsed": false
   },
   "outputs": [
    {
     "data": {
      "text/plain": [
       "2    4375\n",
       "3    4368\n",
       "1    4360\n",
       "4    4276\n",
       "Name: time_label, dtype: int64"
      ]
     },
     "execution_count": 5,
     "metadata": {},
     "output_type": "execute_result"
    }
   ],
   "source": [
    "bike_rentals['time_label'] = bike_rentals['hr'].apply(assign_label)\n",
    "#bike_rentals[['hr','time_label']].head(24)\n",
    "bike_rentals['time_label'].value_counts(ascending=False)"
   ]
  },
  {
   "cell_type": "markdown",
   "metadata": {},
   "source": [
    "## Part III - Splitting the Data Into Train and Test Sets\n",
    "Important to split data because if the algorithm is trained and evaluated on the same data, it is possible to get an unrealistically low error value, due to overfitting."
   ]
  },
  {
   "cell_type": "markdown",
   "metadata": {},
   "source": [
    "**Based on explorations of the cnt (count) column, explain which error metric is best to evaluate the performance of the machine learning algorithms and why** <br>\n",
    "two possible error metrics are mean squared error (MSE) and [area under the curve (AUC) of a Receiver Operator Characteristic (ROC) curve](https://developers.google.com/machine-learning/crash-course/classification/roc-and-auc)\n",
    "- MSE would take the sum of the squared differences between the predicted and actual values\n",
    "- [AUC](https://towardsdatascience.com/understanding-auc-roc-curve-68b2303cc9c5) would measure [the ability of a classifier to distinguish between classes](https://www.analyticsvidhya.com/blog/2020/06/auc-roc-curve-machine-learning/#:~:text=The%20Area%20Under%20the%20Curve,the%20positive%20and%20negative%20classes.)\n",
    "- Other resources for AUC ROC:\n",
    "    - [ROC Python](https://machinelearningmastery.com/roc-curves-and-precision-recall-curves-for-classification-in-python/)\n",
    "    - [scikit learn](https://scikit-learn.org/stable/auto_examples/model_selection/plot_roc.html)\n",
    "    - [displaying](https://www.displayr.com/what-is-a-roc-curve-how-to-interpret-it/)\n",
    "    - [example](https://intellipaat.com/blog/roc-curve-in-machine-learning/)\n",
    "    - [more](https://stackabuse.com/understanding-roc-curves-with-python/)\n",
    "    \n",
    "- Here MSE will be chosen over AUC because MSE is [typically used for regression and AUC for classification](https://medium.com/usf-msds/choosing-the-right-metric-for-evaluating-machine-learning-models-part-2-86d5649a5428) and this is a linear regression problem"
   ]
  },
  {
   "cell_type": "code",
   "execution_count": 6,
   "metadata": {
    "collapsed": false,
    "scrolled": true
   },
   "outputs": [
    {
     "name": "stdout",
     "output_type": "stream",
     "text": [
      "<class 'pandas.core.frame.DataFrame'>\n",
      "RangeIndex: 17379 entries, 0 to 17378\n",
      "Data columns (total 18 columns):\n",
      "instant       17379 non-null int64\n",
      "dteday        17379 non-null object\n",
      "season        17379 non-null int64\n",
      "yr            17379 non-null int64\n",
      "mnth          17379 non-null int64\n",
      "hr            17379 non-null int64\n",
      "holiday       17379 non-null int64\n",
      "weekday       17379 non-null int64\n",
      "workingday    17379 non-null int64\n",
      "weathersit    17379 non-null int64\n",
      "temp          17379 non-null float64\n",
      "atemp         17379 non-null float64\n",
      "hum           17379 non-null float64\n",
      "windspeed     17379 non-null float64\n",
      "casual        17379 non-null int64\n",
      "registered    17379 non-null int64\n",
      "cnt           17379 non-null int64\n",
      "time_label    17379 non-null int64\n",
      "dtypes: float64(4), int64(13), object(1)\n",
      "memory usage: 2.4+ MB\n"
     ]
    }
   ],
   "source": [
    "bike_rentals.info()"
   ]
  },
  {
   "cell_type": "markdown",
   "metadata": {},
   "source": [
    "**Selecting training set and testing set**"
   ]
  },
  {
   "cell_type": "code",
   "execution_count": 7,
   "metadata": {
    "collapsed": false
   },
   "outputs": [],
   "source": [
    "train = bike_rentals.sample(frac=0.8)\n",
    "test = bike_rentals.iloc[~bike_rentals.index.isin(train.index)]"
   ]
  },
  {
   "cell_type": "markdown",
   "metadata": {},
   "source": [
    "## Part IV - Applying Linear Regression\n",
    "- Linear regression will probably work fairly well on this data, given that many of the columns are highly correlated with the target column\n",
    "- Linear regression works best when predictors are linearly correlated to the target and also independent - in other words, they don't change meaning when we combine them with each other\n",
    "- The good thing about linear regression is that it's fairly resistant to overfitting because it's straightforward\n",
    "- However it could be prone to underfitting the data and not building a powerful enough model\n",
    "- This means that linear regression usually isn't the most accurate option\n",
    "\n",
    "**Select predictor columns**"
   ]
  },
  {
   "cell_type": "code",
   "execution_count": 8,
   "metadata": {
    "collapsed": false
   },
   "outputs": [],
   "source": [
    "features = bike_rentals.columns.drop(['cnt','casual','dteday','registered'])\n",
    "features1 = features.drop(['windspeed','workingday','weekday','holiday'])\n",
    "features2 = features1.drop(['season','mnth','weathersit'])"
   ]
  },
  {
   "cell_type": "code",
   "execution_count": 9,
   "metadata": {
    "collapsed": false,
    "scrolled": true
   },
   "outputs": [
    {
     "data": {
      "text/plain": [
       "temp          0.404772\n",
       "atemp         0.400929\n",
       "hr            0.394071\n",
       "instant       0.278379\n",
       "yr            0.250495\n",
       "season        0.178056\n",
       "mnth          0.120638\n",
       "weathersit   -0.142426\n",
       "hum          -0.322911\n",
       "time_label   -0.378318\n",
       "Name: cnt, dtype: float64"
      ]
     },
     "execution_count": 9,
     "metadata": {},
     "output_type": "execute_result"
    }
   ],
   "source": [
    "bike_rentals.corr()['cnt'][features1].sort_values(ascending=False)"
   ]
  },
  {
   "cell_type": "markdown",
   "metadata": {},
   "source": [
    "**Use the LinearRegression class from sklearn to train and predict**"
   ]
  },
  {
   "cell_type": "code",
   "execution_count": 10,
   "metadata": {
    "collapsed": true
   },
   "outputs": [],
   "source": [
    "from sklearn.linear_model import LinearRegression\n",
    "lr = LinearRegression()\n",
    "lr_pred = lr.fit(train[features],train['cnt']).predict(test[features])\n",
    "lr_pred1 = lr.fit(train[features1],train['cnt']).predict(test[features1])\n",
    "lr_pred2 = lr.fit(train[features2],train['cnt']).predict(test[features2])"
   ]
  },
  {
   "cell_type": "markdown",
   "metadata": {},
   "source": [
    "**Evaluate error between the predictions and the actual values**"
   ]
  },
  {
   "cell_type": "code",
   "execution_count": 11,
   "metadata": {
    "collapsed": false,
    "scrolled": true
   },
   "outputs": [
    {
     "name": "stdout",
     "output_type": "stream",
     "text": [
      "MSE when features are: Index(['instant', 'season', 'yr', 'mnth', 'hr', 'holiday', 'weekday',\n",
      "       'workingday', 'weathersit', 'temp', 'atemp', 'hum', 'windspeed',\n",
      "       'time_label'],\n",
      "      dtype='object') 17614.0 \n",
      "\n",
      "MSE when features are: Index(['instant', 'season', 'yr', 'mnth', 'hr', 'weathersit', 'temp', 'atemp',\n",
      "       'hum', 'time_label'],\n",
      "      dtype='object') 17630.0 \n",
      "\n",
      "MSE when features are: Index(['instant', 'yr', 'hr', 'temp', 'atemp', 'hum', 'time_label'], dtype='object') 17808.0\n"
     ]
    }
   ],
   "source": [
    "from sklearn.metrics import mean_squared_error\n",
    "mse = mean_squared_error(test['cnt'],lr_pred)\n",
    "mse1 = mean_squared_error(test['cnt'],lr_pred1)\n",
    "mse2 = mean_squared_error(test['cnt'],lr_pred2)\n",
    "\n",
    "print('MSE when features are: {0}'.format(features),round(mse),'\\n')\n",
    "print('MSE when features are: {0}'.format(features1),round(mse1),'\\n')\n",
    "print('MSE when features are: {0}'.format(features2),round(mse2))"
   ]
  },
  {
   "cell_type": "markdown",
   "metadata": {},
   "source": [
    "**Analysis of the eror**\n",
    "- mse - The error when the feature columns only discludes non-numeric columns (\"dteday\" - the date), the target column (\"cnt\" - the bike count) and columns the target column are derived form (\"casual\" and \"registered\")\n",
    "- mse1 - are the featuers in mse minus the holiday, weekday, workingday and windspeed columns\n",
    "- mse2 - are the features in mse1 minus the season, month and weathersit columns"
   ]
  },
  {
   "cell_type": "markdown",
   "metadata": {},
   "source": [
    "## Part V - Applying Decision Trees\n",
    "- Compare the error from decision trees and the error from linear regression as a tool to pick the right algorithm for this data\n",
    "- Decision trees tend to predict outcomes much more reliably than linear regression models \n",
    "- Becuse a decision tree is a fairly complex model, it also tends to overfit, particularly when the parameters like maximum depth and minimum number of samples per leaf are not tweaked\n",
    "- Decision trees are also prone to instability - small changes in the input data can result in a vert differen output model\n",
    "\n",
    "**Use DecisionTreeRegressor to fit, predict and calculate the error**"
   ]
  },
  {
   "cell_type": "code",
   "execution_count": 12,
   "metadata": {
    "collapsed": false
   },
   "outputs": [
    {
     "name": "stdout",
     "output_type": "stream",
     "text": [
      "Decision tree mse:  2968.0\n"
     ]
    }
   ],
   "source": [
    "from sklearn.tree import DecisionTreeRegressor\n",
    "dt = DecisionTreeRegressor()\n",
    "dt.fit(train[features],train['cnt'])\n",
    "dt_pred = dt.predict(test[features])\n",
    "dt_mse = mean_squared_error(test['cnt'],dt_pred)\n",
    "print('Decision tree mse: ',round(dt_mse))"
   ]
  },
  {
   "cell_type": "markdown",
   "metadata": {},
   "source": [
    "**Experiment with various parameters of the DecisionTreeRegressor class and evaluate the error to see if it changes**"
   ]
  },
  {
   "cell_type": "code",
   "execution_count": 36,
   "metadata": {
    "collapsed": false
   },
   "outputs": [
    {
     "name": "stdout",
     "output_type": "stream",
     "text": [
      "Decision tree mse:  2710.0\n"
     ]
    }
   ],
   "source": [
    "#for i in range(1,20):\n",
    "dt1 = DecisionTreeRegressor(min_samples_leaf = 5) #max_depth\n",
    "dt1.fit(train[features],train['cnt'])\n",
    "dt_pred1 = dt1.predict(test[features])\n",
    "dt1_mse = mean_squared_error(test['cnt'],dt_pred1)\n",
    "print('Decision tree mse: ',round(dt1_mse))"
   ]
  },
  {
   "cell_type": "markdown",
   "metadata": {},
   "source": [
    "**Discoveries on the predictions and error**\n",
    "- The nonlinear predictor - the decision tree regressor - has a order of magnitude smaller error than the linear regressor\n",
    "- Creating a minimum number of samples for each leaf decreased the error metric indicating that parameter tweaking could potentially optimize error"
   ]
  },
  {
   "cell_type": "markdown",
   "metadata": {},
   "source": [
    "## Part VI - Applying Random Forests\n",
    "- Applying the random forest algorithm will improve the decision tree algorithm\n",
    "- Random forests tend to be much more accurate than simple models like linear regression\n",
    "- Due to the way random forests are constructed, they tend to overfit much less than decision trees\n",
    "- Random forests can still be prone to overfitting thoughm so it's important to tune parameters like maximum depth and minimum samples per leaf\n",
    "\n",
    "**Use the RandomForestRegressor class to fit, predict and calculate the error**"
   ]
  },
  {
   "cell_type": "code",
   "execution_count": 38,
   "metadata": {
    "collapsed": false
   },
   "outputs": [
    {
     "name": "stdout",
     "output_type": "stream",
     "text": [
      "Random forest mse:  1729.0\n"
     ]
    }
   ],
   "source": [
    "from sklearn.ensemble import RandomForestRegressor\n",
    "rf = RandomForestRegressor()\n",
    "rf.fit(train[features],train['cnt'])\n",
    "rf_pred = rf.predict(test[features])\n",
    "rf_mse = mean_squared_error(test['cnt'],rf_pred)\n",
    "print('Random forest mse: ',round(rf_mse))"
   ]
  },
  {
   "cell_type": "markdown",
   "metadata": {},
   "source": [
    "**Experiment with various parameters of the RandomForestRegressor class and evaluate the error to see if it changes**"
   ]
  },
  {
   "cell_type": "code",
   "execution_count": 39,
   "metadata": {
    "collapsed": false
   },
   "outputs": [
    {
     "name": "stdout",
     "output_type": "stream",
     "text": [
      "Random forest mse:  1817.0\n"
     ]
    }
   ],
   "source": [
    "rf1 = RandomForestRegressor(min_samples_leaf = 5) #max_depth\n",
    "rf1.fit(train[features],train['cnt'])\n",
    "rf_pred1 = rf1.predict(test[features])\n",
    "rf1_mse = mean_squared_error(test['cnt'],rf_pred1)\n",
    "print('Random forest mse: ',round(rf1_mse))"
   ]
  },
  {
   "cell_type": "markdown",
   "metadata": {},
   "source": [
    "** Findings on applying Random Forests**\n",
    "- Applying Random Forests decreases the error metric from the use Decision Trees, however implementing minimum number of samples in each leaf did not seem to improve the mse. Perhaps parameter tweaking is small in comparison to the impact of using a random forest instead of a decision trees."
   ]
  },
  {
   "cell_type": "markdown",
   "metadata": {},
   "source": [
    "## Part VII - Next Steps\n",
    "- Potential next steps include:\n",
    "    - Calculating additional features, such as: \n",
    "        - An index combining temperature, humidity and wind speed\n",
    "    - Try predicting \"casual\" and \"registered\" instead of \"cnt\""
   ]
  }
 ],
 "metadata": {
  "kernelspec": {
   "display_name": "Python 3",
   "language": "python",
   "name": "python3"
  },
  "language_info": {
   "codemirror_mode": {
    "name": "ipython",
    "version": 3
   },
   "file_extension": ".py",
   "mimetype": "text/x-python",
   "name": "python",
   "nbconvert_exporter": "python",
   "pygments_lexer": "ipython3",
   "version": "3.4.3"
  }
 },
 "nbformat": 4,
 "nbformat_minor": 0
}
